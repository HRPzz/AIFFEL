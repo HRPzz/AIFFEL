{
 "cells": [
  {
   "cell_type": "markdown",
   "metadata": {},
   "source": [
    "# 1. 인공지능과 가위바위보 하기"
   ]
  },
  {
   "cell_type": "markdown",
   "metadata": {},
   "source": [
    "## 미니 프로젝트 : 가위바위보 분류기를 만들자"
   ]
  },
  {
   "cell_type": "markdown",
   "metadata": {},
   "source": [
    "### 데이터 불러오기 + Resize 하기"
   ]
  },
  {
   "cell_type": "code",
   "execution_count": 83,
   "metadata": {},
   "outputs": [],
   "source": [
    "# 라이브러리 불러오기\n",
    "from PIL import Image\n",
    "import glob\n",
    "import matplotlib.pyplot as plt\n",
    "import os\n",
    "import numpy as np\n",
    "import tensorflow as tf\n",
    "from tensorflow import keras"
   ]
  },
  {
   "cell_type": "code",
   "execution_count": 84,
   "metadata": {},
   "outputs": [
    {
     "name": "stdout",
     "output_type": "stream",
     "text": [
      "100  images to be resized.\n",
      "100  images resized.\n",
      "100  images to be resized.\n",
      "100  images resized.\n",
      "100  images to be resized.\n",
      "100  images resized.\n"
     ]
    }
   ],
   "source": [
    "# 이미지 resize\n",
    "def resize_images(img_path):\n",
    "\timages=glob.glob(img_path + \"/*.jpg\")  \n",
    "    \n",
    "\tprint(len(images), \" images to be resized.\")\n",
    "\n",
    "    # 파일마다 모두 28x28 사이즈로 바꾸어 저장합니다.\n",
    "\ttarget_size=(28,28)\n",
    "\tfor img in images:\n",
    "\t\told_img=Image.open(img)\n",
    "\t\tnew_img=old_img.resize(target_size,Image.ANTIALIAS)\n",
    "\t\tnew_img.save(img, \"JPEG\")\n",
    "    \n",
    "\tprint(len(images), \" images resized.\")\n",
    "\t\n",
    "# 가위 이미지가 저장된 디렉토리 아래의 모든 jpg 파일을 읽어들여서\n",
    "image_dir_path = \"rock_scissor_paper/scissor\"\n",
    "resize_images(image_dir_path)\n",
    "\n",
    "# 바위 이미지가 저장된 디렉토리 아래의 모든 jpg 파일을 읽어들여서\n",
    "image_dir_path = \"rock_scissor_paper/rock\"\n",
    "resize_images(image_dir_path)\n",
    "\n",
    "# 보 이미지가 저장된 디렉토리 아래의 모든 jpg 파일을 읽어들여서\n",
    "image_dir_path = \"rock_scissor_paper/paper\"\n",
    "resize_images(image_dir_path)"
   ]
  },
  {
   "cell_type": "code",
   "execution_count": 85,
   "metadata": {},
   "outputs": [
    {
     "name": "stdout",
     "output_type": "stream",
     "text": [
      "데이터의 이미지 개수는 300 입니다.\n",
      "x_train shape: (300, 28, 28, 3)\n",
      "y_train shape: (300,)\n"
     ]
    }
   ],
   "source": [
    "# 라벨링\n",
    "def load_data(img_path, number_of_data=300):  # 가위바위보 이미지 개수 총합에 주의하세요.\n",
    "    # 가위 : 0, 바위 : 1, 보 : 2\n",
    "    img_size=28\n",
    "    color=3\n",
    "    #이미지 데이터와 라벨(가위 : 0, 바위 : 1, 보 : 2) 데이터를 담을 행렬(matrix) 영역을 생성합니다.\n",
    "    imgs=np.zeros(number_of_data*img_size*img_size*color,dtype=np.int32).reshape(number_of_data,img_size,img_size,color)\n",
    "    labels=np.zeros(number_of_data,dtype=np.int32)\n",
    "\n",
    "    idx=0\n",
    "    for file in glob.iglob(img_path+'/scissor/*.jpg'):\n",
    "        img = np.array(Image.open(file),dtype=np.int32)\n",
    "        imgs[idx,:,:,:]=img    # 데이터 영역에 이미지 행렬을 복사\n",
    "        labels[idx]=0   # 가위 : 0\n",
    "        idx=idx+1\n",
    "\n",
    "    for file in glob.iglob(img_path+'/rock/*.jpg'):\n",
    "        img = np.array(Image.open(file),dtype=np.int32)\n",
    "        imgs[idx,:,:,:]=img    # 데이터 영역에 이미지 행렬을 복사\n",
    "        labels[idx]=1   # 바위 : 1\n",
    "        idx=idx+1  \n",
    "    \n",
    "    for file in glob.iglob(img_path+'/paper/*.jpg'):\n",
    "        img = np.array(Image.open(file),dtype=np.int32)\n",
    "        imgs[idx,:,:,:]=img    # 데이터 영역에 이미지 행렬을 복사\n",
    "        labels[idx]=2   # 보 : 2\n",
    "        idx=idx+1\n",
    "        \n",
    "    print(\"데이터의 이미지 개수는\", idx,\"입니다.\")\n",
    "    return imgs, labels\n",
    "\n",
    "image_dir_path = \"rock_scissor_paper\"\n",
    "(x_train, y_train)=load_data(image_dir_path)\n",
    "x_train_norm = x_train/255.0   # 입력은 0~1 사이의 값으로 정규화\n",
    "\n",
    "print(\"x_train shape: {}\".format(x_train.shape))\n",
    "print(\"y_train shape: {}\".format(y_train.shape))"
   ]
  },
  {
   "cell_type": "code",
   "execution_count": 86,
   "metadata": {},
   "outputs": [
    {
     "name": "stdout",
     "output_type": "stream",
     "text": [
      "라벨:  0\n"
     ]
    },
    {
     "data": {
      "image/png": "[encoded data removed]",
      "text/plain": [
       "<Figure size 432x288 with 1 Axes>"
      ]
     },
     "metadata": {
      "needs_background": "light"
     },
     "output_type": "display_data"
    }
   ],
   "source": [
    "# 참고. 이미지 불러와서 확인\n",
    "plt.imshow(x_train[0])\n",
    "print('라벨: ', y_train[0])"
   ]
  },
  {
   "cell_type": "markdown",
   "metadata": {},
   "source": [
    "### 딥러닝 네트워크 설계하기"
   ]
  },
  {
   "cell_type": "code",
   "execution_count": 87,
   "metadata": {},
   "outputs": [
    {
     "name": "stdout",
     "output_type": "stream",
     "text": [
      "Model에 추가된 Layer 개수:  7\n",
      "Model: \"sequential_14\"\n",
      "_________________________________________________________________\n",
      " Layer (type)                Output Shape              Param #   \n",
      "=================================================================\n",
      " conv2d_28 (Conv2D)          (None, 26, 26, 32)        896       \n",
      "                                                                 \n",
      " max_pooling2d_28 (MaxPoolin  (None, 13, 13, 32)       0         \n",
      " g2D)                                                            \n",
      "                                                                 \n",
      " conv2d_29 (Conv2D)          (None, 11, 11, 64)        18496     \n",
      "                                                                 \n",
      " max_pooling2d_29 (MaxPoolin  (None, 5, 5, 64)         0         \n",
      " g2D)                                                            \n",
      "                                                                 \n",
      " flatten_14 (Flatten)        (None, 1600)              0         \n",
      "                                                                 \n",
      " dense_45 (Dense)            (None, 64)                102464    \n",
      "                                                                 \n",
      " dense_46 (Dense)            (None, 3)                 195       \n",
      "                                                                 \n",
      "=================================================================\n",
      "Total params: 122,051\n",
      "Trainable params: 122,051\n",
      "Non-trainable params: 0\n",
      "_________________________________________________________________\n"
     ]
    }
   ],
   "source": [
    "# tf.keras의 Sequential API를 이용하여 LeNet이라는 딥러닝 네트워크를 설계\n",
    "n_channel_1=32\n",
    "n_channel_2=64\n",
    "n_dense=64\n",
    "\n",
    "model=keras.models.Sequential()\n",
    "model.add(keras.layers.Conv2D(n_channel_1, (3,3), activation='relu', input_shape=(28,28,3)))  # 독립 변수 컬럼 2352\n",
    "model.add(keras.layers.MaxPool2D(2,2))\n",
    "model.add(keras.layers.Conv2D(n_channel_2, (3,3), activation='relu'))\n",
    "model.add(keras.layers.MaxPooling2D((2,2)))\n",
    "model.add(keras.layers.Flatten())\n",
    "model.add(keras.layers.Dense(n_dense, activation='relu'))  # 히든 레이어\n",
    "\n",
    "model.add(keras.layers.Dense(3, activation='softmax'))  # 종속 변수 컬럼 3\n",
    "\n",
    "print('Model에 추가된 Layer 개수: ', len(model.layers))\n",
    "\n",
    "# 만든 딥러닝 네트워크 모델 확인\n",
    "model.summary()"
   ]
  },
  {
   "cell_type": "markdown",
   "metadata": {},
   "source": [
    "### 딥러닝 네트워크 학습시키기"
   ]
  },
  {
   "cell_type": "code",
   "execution_count": 88,
   "metadata": {},
   "outputs": [
    {
     "name": "stdout",
     "output_type": "stream",
     "text": [
      "Epoch 1/20\n",
      "24/24 [==============================] - 0s 9ms/step - loss: 1.0678 - accuracy: 0.4375 - val_loss: 1.5881 - val_accuracy: 0.0000e+00\n",
      "Epoch 2/20\n",
      "24/24 [==============================] - 0s 5ms/step - loss: 1.0327 - accuracy: 0.3875 - val_loss: 1.8619 - val_accuracy: 0.0000e+00\n",
      "Epoch 3/20\n",
      "24/24 [==============================] - 0s 5ms/step - loss: 1.0269 - accuracy: 0.4125 - val_loss: 1.5850 - val_accuracy: 0.0000e+00\n",
      "Epoch 4/20\n",
      "24/24 [==============================] - 0s 5ms/step - loss: 1.0305 - accuracy: 0.4667 - val_loss: 1.9410 - val_accuracy: 0.0000e+00\n",
      "Epoch 5/20\n",
      "24/24 [==============================] - 0s 5ms/step - loss: 1.0408 - accuracy: 0.4583 - val_loss: 1.7204 - val_accuracy: 0.0000e+00\n",
      "Epoch 6/20\n",
      "24/24 [==============================] - 0s 5ms/step - loss: 1.0400 - accuracy: 0.4250 - val_loss: 1.5709 - val_accuracy: 0.0000e+00\n",
      "Epoch 7/20\n",
      "24/24 [==============================] - 0s 5ms/step - loss: 1.0072 - accuracy: 0.4958 - val_loss: 1.8874 - val_accuracy: 0.0000e+00\n",
      "Epoch 8/20\n",
      "24/24 [==============================] - 0s 4ms/step - loss: 0.9943 - accuracy: 0.4542 - val_loss: 1.6665 - val_accuracy: 0.0000e+00\n",
      "Epoch 9/20\n",
      "24/24 [==============================] - 0s 4ms/step - loss: 0.9592 - accuracy: 0.5917 - val_loss: 1.6915 - val_accuracy: 0.0000e+00\n",
      "Epoch 10/20\n",
      "24/24 [==============================] - 0s 5ms/step - loss: 0.9156 - accuracy: 0.6500 - val_loss: 1.3303 - val_accuracy: 0.0000e+00\n",
      "Epoch 11/20\n",
      "24/24 [==============================] - 0s 4ms/step - loss: 0.8310 - accuracy: 0.6708 - val_loss: 1.6301 - val_accuracy: 0.0000e+00\n",
      "Epoch 12/20\n",
      "24/24 [==============================] - 0s 4ms/step - loss: 0.7347 - accuracy: 0.7250 - val_loss: 1.6046 - val_accuracy: 0.0000e+00\n",
      "Epoch 13/20\n",
      "24/24 [==============================] - 0s 4ms/step - loss: 0.6825 - accuracy: 0.7292 - val_loss: 2.1022 - val_accuracy: 0.0000e+00\n",
      "Epoch 14/20\n",
      "24/24 [==============================] - 0s 5ms/step - loss: 0.6508 - accuracy: 0.7542 - val_loss: 1.4540 - val_accuracy: 0.0667\n",
      "Epoch 15/20\n",
      "24/24 [==============================] - 0s 4ms/step - loss: 0.5466 - accuracy: 0.7708 - val_loss: 1.9440 - val_accuracy: 0.0500\n",
      "Epoch 16/20\n",
      "24/24 [==============================] - 0s 4ms/step - loss: 0.5099 - accuracy: 0.8125 - val_loss: 2.0877 - val_accuracy: 0.0000e+00\n",
      "Epoch 17/20\n",
      "24/24 [==============================] - 0s 4ms/step - loss: 0.5224 - accuracy: 0.7833 - val_loss: 0.9540 - val_accuracy: 0.3000\n",
      "Epoch 18/20\n",
      "24/24 [==============================] - 0s 4ms/step - loss: 0.4468 - accuracy: 0.8292 - val_loss: 0.7607 - val_accuracy: 0.5833\n",
      "Epoch 19/20\n",
      "24/24 [==============================] - 0s 5ms/step - loss: 0.4263 - accuracy: 0.8458 - val_loss: 0.5204 - val_accuracy: 0.8500\n",
      "Epoch 20/20\n",
      "24/24 [==============================] - 0s 4ms/step - loss: 0.4169 - accuracy: 0.8625 - val_loss: 1.3630 - val_accuracy: 0.1167\n"
     ]
    },
    {
     "data": {
      "text/plain": [
       "<keras.callbacks.History at 0x1a332657b80>"
      ]
     },
     "execution_count": 88,
     "metadata": {},
     "output_type": "execute_result"
    }
   ],
   "source": [
    "x_train_reshaped=x_train_norm.reshape(-1, 28, 28, 3)  # 데이터갯수에 -1을 쓰면 reshape시 자동계산됩니다.\n",
    "\n",
    "model.compile(optimizer='adam',\n",
    "             loss='sparse_categorical_crossentropy',\n",
    "             metrics=['accuracy'])\n",
    "\n",
    "# 학습(Fit)\n",
    "n_train_epoch = 20\n",
    "model.fit(x_train_reshaped, y_train, epochs=n_train_epoch, validation_split=0.2, batch_size=10)  # epochs=n # n번 반복해서 학습시키기"
   ]
  },
  {
   "cell_type": "markdown",
   "metadata": {},
   "source": [
    "### 테스트"
   ]
  },
  {
   "cell_type": "code",
   "execution_count": 89,
   "metadata": {},
   "outputs": [
    {
     "name": "stdout",
     "output_type": "stream",
     "text": [
      "100  images to be resized.\n",
      "100  images resized.\n",
      "100  images to be resized.\n",
      "100  images resized.\n",
      "100  images to be resized.\n",
      "100  images resized.\n",
      "데이터의 이미지 개수는 300 입니다.\n",
      "x_test shape: (300, 28, 28, 3)\n",
      "y_test shape: (300,)\n"
     ]
    }
   ],
   "source": [
    "# x_test, y_test 생성\n",
    "image_dir_path = \"rock_scissor_paper/test/scissor\"\n",
    "resize_images(image_dir_path)\n",
    "\n",
    "image_dir_path = \"rock_scissor_paper/test/rock\"\n",
    "resize_images(image_dir_path)\n",
    "\n",
    "image_dir_path = \"rock_scissor_paper/test/paper\"\n",
    "resize_images(image_dir_path)\n",
    "\n",
    "image_dir_path = \"rock_scissor_paper/test\"  # \"rock_scissor_paper/test-seona\"\n",
    "(x_test, y_test)=load_data(image_dir_path)  # number_of_data of test-seona: 320\n",
    "x_test_norm = x_test/255.0   # 입력은 0~1 사이의 값으로 정규화\n",
    "\n",
    "print(\"x_test shape: {}\".format(x_test.shape))\n",
    "print(\"y_test shape: {}\".format(y_test.shape))"
   ]
  },
  {
   "cell_type": "code",
   "execution_count": 90,
   "metadata": {},
   "outputs": [
    {
     "name": "stdout",
     "output_type": "stream",
     "text": [
      "10/10 - 0s - loss: 2.9591 - accuracy: 0.3600 - 114ms/epoch - 11ms/step\n",
      "test_loss: 2.9591150283813477 \n",
      "test_accuracy: 0.36000001430511475\n"
     ]
    }
   ],
   "source": [
    "x_test_reshaped=x_test_norm.reshape(-1, 28, 28, 3)\n",
    "\n",
    "test_loss, test_accuracy = model.evaluate(x_test_reshaped, y_test, verbose=2)\n",
    "\n",
    "print(\"test_loss: {} \".format(test_loss))\n",
    "print(\"test_accuracy: {}\".format(test_accuracy))"
   ]
  },
  {
   "cell_type": "markdown",
   "metadata": {},
   "source": [
    "### 회고"
   ]
  },
  {
   "cell_type": "markdown",
   "metadata": {},
   "source": [
    "lms에서 내용이 충분하지 않아서 어려웠다. 그래서 Opentutorials.org 사이트에서 Tensorflow 101, Tensorflow 102 유튜브 강의를 들었더니 도움이 되었다. 모델을 설계할 때 쓰이는 함수들이 각각 어떤 역할인지 몰라서 힘들었다. 공부가 많이 필요하다고 느껴졌다.\n",
    "\n",
    "루브릭 평가 지표를 달성하기 위해 인식률을 60% 넘기려고 해봤지만 실패했다. 딥러닝 네트워크를 설계할 때 기존의 lms 코드 중에서 n_channel 또는 n_epoch 값을 변경하면 인식률을 높일 수 있다고 해서 이리저리 값을 변경해보았다. 별로 효과는 없었다. 이번에는 히든 레이어를 추가해보았다. 여전히 인식률은 낮았다. 그 다음 취해본 방식으로는 model.fit() 함수 안에 인자값으로 validation_split=0.2와 batch_size=10를 설정해보았다. 똑같이 인식률은 0.3으로 처참했다.\n",
    "\n",
    "클라우드에서 제공하는 기본 데이터로만 가위바위보 분류기를 만들고 테스트해서 그런 것으로 결론이 나왔다. 데이터의 양이 적고 다양하지 않아서 무슨 짓을 하더라도 인식률이 낮을 수 밖에 없다는 생각이 들었다. 인식률을 높이기 위해 데이터 샘플이 많아야 한다는 것을 알 수 있었다."
   ]
  },
  {
   "cell_type": "code",
   "execution_count": null,
   "metadata": {},
   "outputs": [],
   "source": []
  }
 ],
 "metadata": {
  "interpreter": {
   "hash": "b3ba2566441a7c06988d0923437866b63cedc61552a5af99d1f4fb67d367b25f"
  },
  "kernelspec": {
   "display_name": "Python 3.9.7 64-bit ('base': conda)",
   "language": "python",
   "name": "python3"
  },
  "language_info": {
   "codemirror_mode": {
    "name": "ipython",
    "version": 3
   },
   "file_extension": ".py",
   "mimetype": "text/x-python",
   "name": "python",
   "nbconvert_exporter": "python",
   "pygments_lexer": "ipython3",
   "version": "3.9.7"
  },
  "orig_nbformat": 4
 },
 "nbformat": 4,
 "nbformat_minor": 2
}
