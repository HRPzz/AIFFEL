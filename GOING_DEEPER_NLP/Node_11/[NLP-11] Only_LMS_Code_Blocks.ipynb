{
 "cells": [
  {
   "cell_type": "markdown",
   "metadata": {},
   "source": [
    "# 11. 기계 번역이 걸어온 길\n",
    "\n",
    "**번역 모델이 발전해 온 과정을 살펴보고, 번역을 생성하는 여러 가지 방법을 소개합니다. 자연어 처리에서 DATA Augmentation을 어떻게 할 수 있는지, 자연어 처리 성능은 어떻게 측정할 수 있는지 알아봅니다. 기계 번역과 뗄 수 없는 챗봇도 간단히 공부합니다.**"
   ]
  },
  {
   "cell_type": "markdown",
   "metadata": {},
   "source": [
    "## 11-1. 들어가며"
   ]
  },
  {
   "cell_type": "markdown",
   "metadata": {},
   "source": [
    "## 11-2. 번역의 흐름"
   ]
  },
  {
   "cell_type": "markdown",
   "metadata": {},
   "source": [
    "## 11-3. 지적 생성을 위한 넓고 얕은 탐색 (1) Greedy Decoding"
   ]
  },
  {
   "cell_type": "markdown",
   "metadata": {},
   "source": [
    "## 11-4. 지적 생성을 위한 넓고 얕은 탐색 (2) Beam Search"
   ]
  },
  {
   "cell_type": "markdown",
   "metadata": {},
   "source": [
    "## 11-5. 지적 생성을 위한 넓고 얕은 탐색 (3) Sampling"
   ]
  },
  {
   "cell_type": "markdown",
   "metadata": {},
   "source": [
    "## 11-6. 방과 후 번역 수업 (1) Data Augmentation"
   ]
  },
  {
   "cell_type": "markdown",
   "metadata": {},
   "source": [
    "## 11-7. 방과 후 번역 수업 (2) Lexical Substitution"
   ]
  },
  {
   "cell_type": "markdown",
   "metadata": {},
   "source": [
    "## 11-8. 방과 후 번역 수업 (3) Back Translation"
   ]
  },
  {
   "cell_type": "markdown",
   "metadata": {},
   "source": [
    "## 11-9. 방과 후 번역 수업 (4) Random Noise Injection"
   ]
  },
  {
   "cell_type": "markdown",
   "metadata": {},
   "source": [
    "## 11-10. 채점은 어떻게?"
   ]
  },
  {
   "cell_type": "markdown",
   "metadata": {},
   "source": [
    "## 11-11. 실례지만, 어디 챗씨입니까? (1) 챗봇과 번역기"
   ]
  },
  {
   "cell_type": "markdown",
   "metadata": {},
   "source": [
    "## 11-12. 실례지만, 어디 챗씨입니까? (2) 좋은 챗봇이 되려면"
   ]
  },
  {
   "cell_type": "markdown",
   "metadata": {},
   "source": [
    "## 11-13. 실례지만, 어디 챗씨입니까? (3) 대표적인 챗봇"
   ]
  },
  {
   "cell_type": "markdown",
   "metadata": {},
   "source": [
    "## 11-14. 마무리"
   ]
  }
 ],
 "metadata": {
  "interpreter": {
   "hash": "b3ce9abe337a9e694d01ea52d504102083454ad8bd4b0e3a574e4432f4229329"
  },
  "kernelspec": {
   "display_name": "Python 3.8.12 ('aiffel_3.8')",
   "language": "python",
   "name": "python3"
  },
  "language_info": {
   "name": "python",
   "version": "3.8.12"
  },
  "orig_nbformat": 4
 },
 "nbformat": 4,
 "nbformat_minor": 2
}
