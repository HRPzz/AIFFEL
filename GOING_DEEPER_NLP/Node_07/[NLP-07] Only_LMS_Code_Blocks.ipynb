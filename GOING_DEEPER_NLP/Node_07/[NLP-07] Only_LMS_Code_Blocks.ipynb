{
 "cells": [
  {
   "cell_type": "markdown",
   "metadata": {},
   "source": [
    "# 7. Seq2seq와 Attention\n",
    "\n",
    "**언어 모델이 발전해 온 과정에 대해 개략적으로 공부하고, NLP의 큰 흐름 중 하나인 Sequence to Sequence(Seq2seq)에 대해 공부합니다. 이를 발전시키기 위한 기법이자 지금은 없어선 안 될 중요한 메커니즘인 Attention에 대해서도 살펴볼 거고요. 부디 즐거운 시간이 되시길 바랍니다!**"
   ]
  },
  {
   "cell_type": "markdown",
   "metadata": {},
   "source": [
    "## 7-1. 들어가며"
   ]
  },
  {
   "cell_type": "markdown",
   "metadata": {},
   "source": [
    "## 7-2. 우리가 만드는 언어 모델"
   ]
  },
  {
   "cell_type": "markdown",
   "metadata": {},
   "source": [
    "## 7-3. Sequence to Sequence 문제"
   ]
  },
  {
   "cell_type": "markdown",
   "metadata": {},
   "source": [
    "## 7-4. Sequence to Sequence 구현"
   ]
  },
  {
   "cell_type": "code",
   "execution_count": null,
   "metadata": {},
   "outputs": [],
   "source": [
    "import tensorflow as tf\n",
    "\n",
    "class Encoder(tf.keras.Model):\n",
    "  def __init__(self, vocab_size, embedding_dim, enc_units):\n",
    "    super(Encoder, self).__init__()\n",
    "    self.embedding = tf.keras.layers.Embedding(vocab_size, embedding_dim)\n",
    "    self.lstm = tf.keras.layers.LSTM(enc_units) # return_sequences 매개변수를 기본값 False로 전달\n",
    "\n",
    "  def call(self, x):\n",
    "    print(\"입력 Shape:\", x.shape)\n",
    "\n",
    "    x = self.embedding(x)\n",
    "    print(\"Embedding Layer를 거친 Shape:\", x.shape)\n",
    "\n",
    "    output = self.lstm(x)\n",
    "    print(\"LSTM Layer의 Output Shape:\", output.shape)\n",
    "\n",
    "    return output\n",
    "\n",
    "print(\"슝~\")"
   ]
  },
  {
   "cell_type": "code",
   "execution_count": null,
   "metadata": {},
   "outputs": [],
   "source": [
    "vocab_size = 30000\n",
    "emb_size = 256\n",
    "lstm_size = 512\n",
    "batch_size = 1\n",
    "sample_seq_len = 3\n",
    "\n",
    "print(\"Vocab Size: {0}\".format(vocab_size))\n",
    "print(\"Embedidng Size: {0}\".format(emb_size))\n",
    "print(\"LSTM Size: {0}\".format(lstm_size))\n",
    "print(\"Batch Size: {0}\".format(batch_size))\n",
    "print(\"Sample Sequence Length: {0}\\n\".format(sample_seq_len))"
   ]
  },
  {
   "cell_type": "code",
   "execution_count": null,
   "metadata": {},
   "outputs": [],
   "source": [
    "encoder = Encoder(vocab_size, emb_size, lstm_size)\n",
    "sample_input = tf.zeros((batch_size, sample_seq_len))\n",
    "\n",
    "sample_output = encoder(sample_input)    # 컨텍스트 벡터로 사용할 인코더 LSTM의 최종 State값"
   ]
  },
  {
   "cell_type": "code",
   "execution_count": null,
   "metadata": {},
   "outputs": [],
   "source": [
    "# Encoder 구현에 사용된 변수들을 이어 사용함에 유의!\n",
    "\n",
    "class Decoder(tf.keras.Model):\n",
    "  def __init__(self, vocab_size, embedding_dim, dec_units):\n",
    "    super(Decoder, self).__init__()\n",
    "    self.embedding = tf.keras.layers.Embedding(vocab_size, embedding_dim)\n",
    "    self.lstm = tf.keras.layers.LSTM(dec_units,\n",
    "                                     return_sequences=True) # return_sequences 매개변수를 True로 설정\n",
    "    self.fc = tf.keras.layers.Dense(vocab_size)\n",
    "    self.softmax = tf.keras.layers.Softmax(axis=-1)\n",
    "\n",
    "  def call(self, x, context_v):  # 디코더의 입력 x와 인코더의 컨텍스트 벡터를 인자로 받는다. \n",
    "    print(\"입력 Shape:\", x.shape)\n",
    "\n",
    "    x = self.embedding(x)\n",
    "    print(\"Embedding Layer를 거친 Shape:\", x.shape)\n",
    "\n",
    "    context_v = tf.repeat(tf.expand_dims(context_v, axis=1),\n",
    "                          repeats=x.shape[1], axis=1)\n",
    "    x = tf.concat([x, context_v], axis=-1)  # 컨텍스트 벡터를 concat 해준다\n",
    "    print(\"Context Vector가 더해진 Shape:\", x.shape)\n",
    "\n",
    "    x = self.lstm(x)\n",
    "    print(\"LSTM Layer의 Output Shape:\", x.shape)\n",
    "\n",
    "    output = self.fc(x)\n",
    "    print(\"Decoder 최종 Output Shape:\", output.shape)\n",
    "\n",
    "    return self.softmax(output)\n",
    "\n",
    "print(\"슝~\")"
   ]
  },
  {
   "cell_type": "code",
   "execution_count": null,
   "metadata": {},
   "outputs": [],
   "source": [
    "print(\"Vocab Size: {0}\".format(vocab_size))\n",
    "print(\"Embedidng Size: {0}\".format(emb_size))\n",
    "print(\"LSTM Size: {0}\".format(lstm_size))\n",
    "print(\"Batch Size: {0}\".format(batch_size))\n",
    "print(\"Sample Sequence Length: {0}\\n\".format(sample_seq_len))"
   ]
  },
  {
   "cell_type": "code",
   "execution_count": null,
   "metadata": {},
   "outputs": [],
   "source": [
    "decoder = Decoder(vocab_size, emb_size, lstm_size)\n",
    "sample_input = tf.zeros((batch_size, sample_seq_len))\n",
    "\n",
    "dec_output = decoder(sample_input, sample_output)  # Decoder.call(x, context_v) 을 호출"
   ]
  },
  {
   "cell_type": "markdown",
   "metadata": {},
   "source": [
    "## 7-5. Attention! (1) Bahdanau Attention"
   ]
  },
  {
   "cell_type": "code",
   "execution_count": null,
   "metadata": {},
   "outputs": [],
   "source": [
    "class BahdanauAttention(tf.keras.layers.Layer):\n",
    "  def __init__(self, units):\n",
    "    super(BahdanauAttention, self).__init__()\n",
    "    self.W_decoder = tf.keras.layers.Dense(units)\n",
    "    self.W_encoder = tf.keras.layers.Dense(units)\n",
    "    self.W_combine = tf.keras.layers.Dense(1)\n",
    "\n",
    "  def call(self, H_encoder, H_decoder):\n",
    "    print(\"[ H_encoder ] Shape:\", H_encoder.shape)\n",
    "\n",
    "    H_encoder = self.W_encoder(H_encoder)\n",
    "    print(\"[ W_encoder X H_encoder ] Shape:\", H_encoder.shape)\n",
    "\n",
    "    print(\"\\n[ H_decoder ] Shape:\", H_decoder.shape)\n",
    "    H_decoder = tf.expand_dims(H_decoder, 1)\n",
    "    H_decoder = self.W_decoder(H_decoder)\n",
    "    \n",
    "    print(\"[ W_decoder X H_decoder ] Shape:\", H_decoder.shape)\n",
    "\n",
    "    score = self.W_combine(tf.nn.tanh(H_decoder + H_encoder))\n",
    "    print(\"[ Score_alignment ] Shape:\", score.shape)\n",
    "    \n",
    "    attention_weights = tf.nn.softmax(score, axis=1)\n",
    "    print(\"\\n최종 Weight:\\n\", attention_weights.numpy())\n",
    "\n",
    "    context_vector = attention_weights * H_decoder\n",
    "    context_vector = tf.reduce_sum(context_vector, axis=1)\n",
    "\n",
    "    return context_vector, attention_weights\n",
    "\n",
    "W_size = 100\n",
    "\n",
    "print(\"Hidden State를 {0}차원으로 Mapping\\n\".format(W_size))\n",
    "\n",
    "attention = BahdanauAttention(W_size)\n",
    "\n",
    "enc_state = tf.random.uniform((1, 10, 512))\n",
    "dec_state = tf.random.uniform((1, 512))\n",
    "\n",
    "_ = attention(enc_state, dec_state)"
   ]
  },
  {
   "cell_type": "markdown",
   "metadata": {},
   "source": [
    "## 7-6. Attention! (2) Luong Attention"
   ]
  },
  {
   "cell_type": "code",
   "execution_count": null,
   "metadata": {},
   "outputs": [],
   "source": [
    "class LuongAttention(tf.keras.layers.Layer):\n",
    "  def __init__(self, units):\n",
    "    super(LuongAttention, self).__init__()\n",
    "    self.W_combine = tf.keras.layers.Dense(units)\n",
    "\n",
    "  def call(self, H_encoder, H_decoder):\n",
    "    print(\"[ H_encoder ] Shape:\", H_encoder.shape)\n",
    "\n",
    "    WH = self.W_combine(H_encoder)\n",
    "    print(\"[ W_encoder X H_encoder ] Shape:\", WH.shape)\n",
    "\n",
    "    H_decoder = tf.expand_dims(H_decoder, 1)\n",
    "    alignment = tf.matmul(WH, tf.transpose(H_decoder, [0, 2, 1]))\n",
    "    print(\"[ Score_alignment ] Shape:\", alignment.shape)\n",
    "\n",
    "    attention_weights = tf.nn.softmax(alignment, axis=1)\n",
    "    print(\"\\n최종 Weight:\\n\", attention_weights.numpy())\n",
    "\n",
    "    attention_weights = tf.squeeze(attention_weights, axis=-1)\n",
    "    context_vector = tf.matmul(attention_weights, H_encoder)\n",
    "\n",
    "    return context_vector, attention_weights\n",
    "\n",
    "emb_dim = 512\n",
    "\n",
    "attention = LuongAttention(emb_dim)\n",
    "\n",
    "enc_state = tf.random.uniform((1, 10, emb_dim))\n",
    "dec_state = tf.random.uniform((1, emb_dim))\n",
    "\n",
    "_ = attention(enc_state, dec_state)"
   ]
  },
  {
   "cell_type": "markdown",
   "metadata": {},
   "source": [
    "## 7-7. 트랜스포머로 가기 전 징검다리?"
   ]
  },
  {
   "cell_type": "markdown",
   "metadata": {},
   "source": [
    "## 7-8. 마무리"
   ]
  }
 ],
 "metadata": {
  "interpreter": {
   "hash": "b3ce9abe337a9e694d01ea52d504102083454ad8bd4b0e3a574e4432f4229329"
  },
  "kernelspec": {
   "display_name": "Python 3.8.12 ('aiffel_3.8')",
   "language": "python",
   "name": "python3"
  },
  "language_info": {
   "name": "python",
   "version": "3.8.12"
  },
  "orig_nbformat": 4
 },
 "nbformat": 4,
 "nbformat_minor": 2
}
