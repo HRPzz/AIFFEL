{
 "cells": [
  {
   "cell_type": "markdown",
   "metadata": {},
   "source": [
    "# 4. 개발자를 위한 첫 번째 필수 교양\n",
    "\n",
    "**개발에 필요한 git, jupyter notebook 등 기본 툴을 익힌다.**"
   ]
  },
  {
   "cell_type": "markdown",
   "metadata": {},
   "source": [
    "## 4-1. 학습 목표 및 목차"
   ]
  },
  {
   "cell_type": "markdown",
   "metadata": {},
   "source": [
    "## 4-2. 개발자를 위한 첫 번째 필수 교양 (1) 협업을 더 잘, 더 편리하게 하기 위해"
   ]
  },
  {
   "cell_type": "markdown",
   "metadata": {},
   "source": [
    "## 4-3. 개발자를 위한 첫 번째 필수 교양 (2) 개발자의 가드닝, 잔디 심기"
   ]
  },
  {
   "cell_type": "markdown",
   "metadata": {},
   "source": [
    "## 4-4. 내 코드의 모든 발자취를 기록할 수 있을까? (1) 버전관리와 Git"
   ]
  },
  {
   "cell_type": "markdown",
   "metadata": {},
   "source": [
    "## 4-5. 코드의 모든 발자취를 기록할 수 있을까? (2) Git과 GitHub"
   ]
  },
  {
   "cell_type": "markdown",
   "metadata": {},
   "source": [
    "## 4-6. 내 코드의 모든 발자취를 기록할 수 있을까? (3) Git, GitHub 셋팅하기"
   ]
  },
  {
   "cell_type": "markdown",
   "metadata": {},
   "source": [
    "## 4-7. GitHub에 첫 번째 잔디 심기, 어렵지 않아요! (1) 로컬 저장소"
   ]
  },
  {
   "cell_type": "markdown",
   "metadata": {},
   "source": [
    "## 4-8. GitHub에 첫 번째 잔디 심기, 어렵지 않아요! (2) 변화 추적하기"
   ]
  },
  {
   "cell_type": "markdown",
   "metadata": {},
   "source": [
    "## 4-9. GitHub에 첫 번째 잔디 심기, 어렵지 않아요! (3) 원격 저장소"
   ]
  },
  {
   "cell_type": "markdown",
   "metadata": {},
   "source": [
    "## 4-10. GitHub에 첫 번째 잔디 심기, 어렵지 않아요! (4) 협업하기"
   ]
  },
  {
   "cell_type": "markdown",
   "metadata": {},
   "source": [
    "## 4-11. GitHub에 첫 번째 잔디 심기, 어렵지 않아요! (5) 받아오기"
   ]
  },
  {
   "cell_type": "markdown",
   "metadata": {},
   "source": [
    "## 4-12. GitHub에 첫 번째 잔디 심기, 어렵지 않아요! (6) 정리"
   ]
  },
  {
   "cell_type": "markdown",
   "metadata": {},
   "source": [
    "## 4-13. 데이터 분석계의 워드, Jupyter Notebook 마스터하기 (1) 노트북 생성"
   ]
  },
  {
   "cell_type": "markdown",
   "metadata": {},
   "source": [
    "## 4-14. 데이터 분석계의 워드, Jupyter Notebook 마스터하기 (2) 노트북 셀"
   ]
  },
  {
   "cell_type": "markdown",
   "metadata": {},
   "source": [
    "## 4-15. 개발자 문서작업의 시작과 끝! 마크다운을 익혀보자 (1) 마크다운 소개"
   ]
  },
  {
   "cell_type": "markdown",
   "metadata": {},
   "source": [
    "## 4-16. 개발자 문서작업의 시작과 끝! 마크다운을 익혀보자 (2) 마크다운 작성하기"
   ]
  },
  {
   "cell_type": "markdown",
   "metadata": {},
   "source": [
    "## 4-17. 마무리"
   ]
  }
 ],
 "metadata": {
  "interpreter": {
   "hash": "b3ce9abe337a9e694d01ea52d504102083454ad8bd4b0e3a574e4432f4229329"
  },
  "kernelspec": {
   "display_name": "Python 3.8.12 ('aiffel_3.8')",
   "language": "python",
   "name": "python3"
  },
  "language_info": {
   "name": "python",
   "version": "3.8.12"
  },
  "orig_nbformat": 4
 },
 "nbformat": 4,
 "nbformat_minor": 2
}
