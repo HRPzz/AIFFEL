{
 "cells": [
  {
   "cell_type": "markdown",
   "metadata": {},
   "source": [
    "# 26. 활성화 함수의 이해\n",
    "\n",
    "**퍼셉트론에서 선형과 비선형이 가지는 의미 및 비선형함수가 필요한 이유를 파악하고, 다양한 활성화 함수에 대해 알아본다.**"
   ]
  },
  {
   "cell_type": "markdown",
   "metadata": {},
   "source": [
    "## 26-1. 들어가며"
   ]
  },
  {
   "cell_type": "code",
   "execution_count": null,
   "metadata": {},
   "outputs": [],
   "source": [
    "import numpy as np\n",
    "import matplotlib.pyplot as plt\n",
    "from PIL import Image\n",
    "from itertools import product\n",
    "import tensorflow as tf\n",
    "\n",
    "tf.random.set_seed(7879)\n",
    "\n",
    "print('Ready to activate?⤴')"
   ]
  },
  {
   "cell_type": "markdown",
   "metadata": {},
   "source": [
    "```bash\n",
    "$ mkdir -p ~/aiffel/activation\n",
    "$ ln -s ~/data/* ~/aiffel/activation\n",
    "```"
   ]
  },
  {
   "cell_type": "markdown",
   "metadata": {},
   "source": [
    "## 26-2. 활성화 함수"
   ]
  },
  {
   "cell_type": "markdown",
   "metadata": {},
   "source": [
    "## 26-3. 퍼셉트론"
   ]
  },
  {
   "cell_type": "markdown",
   "metadata": {},
   "source": [
    "## 26-4. 선형과 비선형"
   ]
  },
  {
   "cell_type": "markdown",
   "metadata": {},
   "source": [
    "## 26-5. 비선형 함수를 쓰는 이유 (1)"
   ]
  },
  {
   "cell_type": "markdown",
   "metadata": {},
   "source": [
    "## 26-6. 비선형 함수를 쓰는 이유 (2)"
   ]
  },
  {
   "cell_type": "markdown",
   "metadata": {},
   "source": [
    "## 26-7. 활성화 함수의 종류 (1) 이진 계단 함수"
   ]
  },
  {
   "cell_type": "code",
   "execution_count": null,
   "metadata": {},
   "outputs": [],
   "source": [
    "def binary_step(x, threshold=0): \n",
    "# threshold가 있는 함수를 쓰면 꼭 defualt 값을 설정해주세요\n",
    "    return 0 if x<threshold else 1"
   ]
  },
  {
   "cell_type": "code",
   "execution_count": null,
   "metadata": {},
   "outputs": [],
   "source": [
    "import matplotlib.pyplot as plt\n",
    "from PIL import Image\n",
    "import numpy as np\n",
    "\n",
    "def plot_and_visulize(image_url, function, derivative=False):\n",
    "    X = [-10 + x/100 for x in range(2000)]\n",
    "    y = [function(y) for y in X]\n",
    "    \n",
    "    plt.figure(figsize=(12,12))\n",
    "    \n",
    "    # 함수 그래프\n",
    "    plt.subplot(3,2,1)\n",
    "    plt.title('function')\n",
    "    plt.plot(X,y)\n",
    "    \n",
    "    # 함수의 미분 그래프\n",
    "    plt.subplot(3,2,2)\n",
    "    plt.title('derivative')\n",
    "    if derivative:\n",
    "        dev_y = [derivative(y) for y in X]\n",
    "        plt.plot(X,dev_y)\n",
    "    \n",
    "    # 무작위 샘플들 분포\n",
    "    samples = np.random.rand(1000)\n",
    "    samples -= np.mean(samples)\n",
    "    plt.subplot(3,2,3)\n",
    "    plt.title('samples')\n",
    "    plt.hist(samples,100)\n",
    "    \n",
    "    # 활성화 함수를 통과한 샘플들 분포\n",
    "    act_values = [function(y) for y in samples]\n",
    "    plt.subplot(3,2,4)\n",
    "    plt.title('activation values')\n",
    "    plt.hist(act_values,100)\n",
    "    \n",
    "    # 원본 이미지\n",
    "    image = np.array(Image.open(image_url), dtype=np.float64)[:,:,0]/255. # 구분을 위해 gray-scale해서 확인\n",
    "    image -= np.median(image)\n",
    "    plt.subplot(3,2,5)\n",
    "    plt.title('origin image')\n",
    "    plt.imshow(image, cmap='gray')\n",
    "    \n",
    "    # 활성화 함수를 통과한 이미지\n",
    "    activation_image = np.zeros(image.shape)\n",
    "    h, w = image.shape\n",
    "    for i in range(w):\n",
    "        for j in range(h):\n",
    "            activation_image[j][i] += function(image[j][i])\n",
    "    plt.subplot(3,2,6)\n",
    "    plt.title('activation results')\n",
    "    plt.imshow(activation_image, cmap='gray')\n",
    "    \n",
    "    return plt"
   ]
  },
  {
   "cell_type": "code",
   "execution_count": null,
   "metadata": {},
   "outputs": [],
   "source": [
    "import os\n",
    "img_path = os.getenv('HOME')+'/aiffel/activation/jindo_dog.jpg'\n",
    "ax = plot_and_visulize(img_path, binary_step)\n",
    "ax.show()"
   ]
  },
  {
   "cell_type": "code",
   "execution_count": null,
   "metadata": {},
   "outputs": [],
   "source": [
    "# 퍼셉트론\n",
    "class Perceptron(object):\n",
    "    def __init__(self, input_size, activation_ftn, threshold=0, learning_rate=0.01):\n",
    "        self.weights = np.random.randn(input_size)\n",
    "        self.bias = np.random.randn(1)\n",
    "        self.activation_ftn = np.vectorize(activation_ftn)\n",
    "        self.learning_rate = learning_rate\n",
    "        self.threshold = threshold\n",
    "\n",
    "    def train(self, training_inputs, labels, epochs=100, verbose=1):\n",
    "        '''\n",
    "        verbose : 1-매 에포크 결과 출력, \n",
    "                  0-마지막 결과만 출력 \n",
    "        '''\n",
    "        for epoch in range(epochs):\n",
    "            for inputs, label in zip(training_inputs, labels):\n",
    "                prediction = self.__call__(inputs)\n",
    "                self.weights += self.learning_rate * (label - prediction) * inputs\n",
    "                self.bias += self.learning_rate * (label - prediction)\n",
    "            if verbose == 1:\n",
    "                pred = self.__call__(training_inputs)\n",
    "                accuracy = np.sum(pred==labels)/len(pred)\n",
    "                print(f'{epoch}th epoch, accuracy : {accuracy}')\n",
    "        if verbose == 0:\n",
    "            pred = self.__call__(training_inputs)\n",
    "            accuracy = np.sum(pred==labels)/len(pred)\n",
    "            print(f'{epoch}th epoch, accuracy : {accuracy}')\n",
    "    \n",
    "    def get_weights(self):\n",
    "        return self.weights, self.bias\n",
    "                \n",
    "    def __call__(self, inputs):\n",
    "        summation = np.dot(inputs, self.weights) + self.bias\n",
    "        return self.activation_ftn(summation, self.threshold)"
   ]
  },
  {
   "cell_type": "code",
   "execution_count": null,
   "metadata": {},
   "outputs": [],
   "source": [
    "def scatter_plot(plt, X, y, threshold = 0, three_d=False):\n",
    "    ax = plt\n",
    "    if not three_d:\n",
    "        area1 = np.ma.masked_where(y <= threshold, y)\n",
    "        area2 = np.ma.masked_where(y > threshold, y+1)\n",
    "        ax.scatter(X[:,0], X[:,1], s = area1*10, label='True')\n",
    "        ax.scatter(X[:,0], X[:,1], s = area2*10, label='False')\n",
    "        ax.legend()\n",
    "    else:\n",
    "        area1 = np.ma.masked_where(y <= threshold, y)\n",
    "        area2 = np.ma.masked_where(y > threshold, y+1)\n",
    "        ax.scatter(X[:,0], X[:,1], y-threshold, s = area1, label='True')\n",
    "        ax.scatter(X[:,0], X[:,1], y-threshold, s = area2, label='False')\n",
    "        ax.scatter(X[:,0], X[:,1], 0, s = 0.05, label='zero', c='gray')\n",
    "        ax.legend()\n",
    "    return ax"
   ]
  },
  {
   "cell_type": "code",
   "execution_count": null,
   "metadata": {},
   "outputs": [],
   "source": [
    "# AND gate, OR gate\n",
    "X = np.array([[0,0], [1,0], [0,1], [1,1]])\n",
    "\n",
    "plt.figure(figsize=(10,5))\n",
    "# OR gate\n",
    "or_y = np.array([x1 | x2 for x1,x2 in X])\n",
    "ax1 = plt.subplot(1,2,1)\n",
    "ax1.set_title('OR gate ' + str(or_y))\n",
    "ax1 = scatter_plot(ax1, X, or_y)\n",
    "\n",
    "# AND gate\n",
    "and_y = np.array([x1 & x2 for x1,x2 in X])\n",
    "ax2 = plt.subplot(1,2,2)\n",
    "ax2.set_title('AND gate ' + str(and_y))\n",
    "ax2 = scatter_plot(ax2, X, and_y)\n",
    "\n",
    "plt.show()"
   ]
  },
  {
   "cell_type": "code",
   "execution_count": null,
   "metadata": {},
   "outputs": [],
   "source": [
    "# OR gate\n",
    "or_p = Perceptron(input_size=2, activation_ftn=binary_step)\n",
    "or_p.train(X, or_y, epochs=1000, verbose=0)\n",
    "print(or_p.get_weights()) # 가중치와 편향값은 훈련마다 달라질 수 있습니다.\n",
    "\n",
    "# AND gate\n",
    "and_p = Perceptron(input_size=2, activation_ftn=binary_step)\n",
    "and_p.train(X, and_y, epochs=1000, verbose=0)\n",
    "print(and_p.get_weights()) # 가중치와 편향값은 훈련마다 달라질 수 있습니다."
   ]
  },
  {
   "cell_type": "code",
   "execution_count": null,
   "metadata": {},
   "outputs": [],
   "source": [
    "from itertools import product\n",
    "\n",
    "# 그래프로 그려보기\n",
    "test_X = np.array([[x/100,y/100] for (x,y) in product(range(101),range(101))])\n",
    "pred_or_y = or_p(test_X)\n",
    "pred_and_y = and_p(test_X)\n",
    "\n",
    "plt.figure(figsize=(10,10))\n",
    "ax1 = plt.subplot(2,2,1)\n",
    "ax1.set_title('predict OR gate')\n",
    "ax1 = scatter_plot(ax1, test_X, pred_or_y)\n",
    "\n",
    "ax2 = plt.subplot(2,2,2, projection='3d')\n",
    "ax2.set_title('predict OR gate 3D')\n",
    "ax2 = scatter_plot(ax2, test_X, pred_or_y, three_d=True)\n",
    "\n",
    "ax3 = plt.subplot(2,2,3)\n",
    "ax3.set_title('predict AND gate')\n",
    "ax3 = scatter_plot(ax3, test_X, pred_and_y)\n",
    "\n",
    "ax4 = plt.subplot(2,2,4, projection='3d')\n",
    "ax4.set_title('predict AND gate 3D')\n",
    "ax4 = scatter_plot(ax4, test_X, pred_and_y, three_d=True)\n",
    "\n",
    "plt.show()"
   ]
  },
  {
   "cell_type": "code",
   "execution_count": null,
   "metadata": {},
   "outputs": [],
   "source": [
    "# XOR gate\n",
    "threshold = 0\n",
    "X = np.array([[0,0], [1,0], [0,1], [1,1]])\n",
    "\n",
    "plt.figure(figsize=(5,5))\n",
    "xor_y = np.array([x1 ^ x2 for x1,x2 in X])\n",
    "plt.title('XOR gate '+ str(xor_y))\n",
    "plt = scatter_plot(plt, X, xor_y)\n",
    "plt.show()"
   ]
  },
  {
   "cell_type": "code",
   "execution_count": null,
   "metadata": {},
   "outputs": [],
   "source": [
    "# XOR gate가 풀릴까?\n",
    "xor_p = Perceptron(input_size=2, activation_ftn=binary_step, threshold=threshold)\n",
    "xor_p.train(X, xor_y, epochs=1000, verbose=0)\n",
    "print(xor_p.get_weights())\n",
    "\n",
    "# 그래프로 그려보기\n",
    "test_X = np.array([[x/100,y/100] for (x,y) in product(range(101),range(101))])\n",
    "pred_xor_y = xor_p(test_X)\n",
    "\n",
    "plt.figure(figsize=(10,5))\n",
    "ax1 = plt.subplot(1,2,1)\n",
    "ax1.set_title('predict XOR gate?')\n",
    "ax1 = scatter_plot(ax1, test_X, pred_xor_y)\n",
    "\n",
    "ax2 = plt.subplot(1,2,2, projection='3d')\n",
    "ax2.set_title('predict XOR gate 3D?')\n",
    "ax2 = scatter_plot(ax2, test_X, pred_xor_y, three_d=True)\n",
    "\n",
    "plt.show()"
   ]
  },
  {
   "cell_type": "markdown",
   "metadata": {},
   "source": [
    "## 26-8. 활성화 함수의 종류 (2) 선형 활성화 함수"
   ]
  },
  {
   "cell_type": "code",
   "execution_count": null,
   "metadata": {},
   "outputs": [],
   "source": [
    "import os\n",
    "img_path = os.getenv('HOME')+'/aiffel/activation/jindo_dog.jpg'\n",
    "\n",
    "# 선형 함수\n",
    "def linear(x):\n",
    "    return x\n",
    "\n",
    "def dev_linear(x):\n",
    "    return 1\n",
    "\n",
    "# 시각화\n",
    "ax = plot_and_visulize(img_path, linear, dev_linear)\n",
    "ax.show()"
   ]
  },
  {
   "cell_type": "code",
   "execution_count": null,
   "metadata": {},
   "outputs": [],
   "source": [
    "# AND gate, OR gate\n",
    "threshold = 0\n",
    "X = np.array([[0,0], [1,0], [0,1], [1,1]])\n",
    "\n",
    "plt.figure(figsize=(10,5))\n",
    "# OR gate\n",
    "or_y = np.array([x1 | x2 for x1,x2 in X])\n",
    "ax1 = plt.subplot(1,2,1)\n",
    "ax1.set_title('OR gate ' + str(or_y))\n",
    "ax1 = scatter_plot(ax1, X, or_y)\n",
    "\n",
    "# AND gate\n",
    "and_y = np.array([x1 & x2 for x1,x2 in X])\n",
    "ax2 = plt.subplot(1,2,2)\n",
    "ax2.set_title('AND gate ' + str(and_y))\n",
    "ax2 = scatter_plot(ax2, X, and_y)\n",
    "\n",
    "plt.show()"
   ]
  },
  {
   "cell_type": "code",
   "execution_count": null,
   "metadata": {},
   "outputs": [],
   "source": [
    "import tensorflow as tf\n",
    "\n",
    "# OR gate model\n",
    "or_linear_model = tf.keras.Sequential([\n",
    "    tf.keras.layers.Input(shape=(2,), dtype='float64'),\n",
    "    tf.keras.layers.Dense(1, activation='linear')\n",
    "])\n",
    "or_linear_model.compile(loss='mse', optimizer=tf.keras.optimizers.Adam(learning_rate=0.01), metrics=['accuracy'])\n",
    "or_linear_model.summary()\n",
    "\n",
    "# AND gate model\n",
    "and_linear_model = tf.keras.Sequential([\n",
    "    tf.keras.layers.Input(shape=(2,), dtype='float64'),\n",
    "    tf.keras.layers.Dense(1, activation='linear')\n",
    "])\n",
    "and_linear_model.compile(loss='mse', optimizer=tf.keras.optimizers.Adam(learning_rate=0.01), metrics=['accuracy'])\n",
    "and_linear_model.summary()"
   ]
  },
  {
   "cell_type": "code",
   "execution_count": null,
   "metadata": {},
   "outputs": [],
   "source": [
    "or_linear_model.fit(X, or_y, epochs=1000, verbose=0)\n",
    "and_linear_model.fit(X, and_y, epochs=1000, verbose=0)\n",
    "print('done')"
   ]
  },
  {
   "cell_type": "code",
   "execution_count": null,
   "metadata": {},
   "outputs": [],
   "source": [
    "# 그래프로 그려보기\n",
    "test_X = np.array([[x/100,y/100] for (x,y) in product(range(101),range(101))])\n",
    "pred_or_y = or_linear_model(test_X)\n",
    "pred_and_y = and_linear_model(test_X)\n",
    "\n",
    "plt.figure(figsize=(10,10))\n",
    "ax1 = plt.subplot(2,2,1)\n",
    "ax1.set_title('predict OR gate')\n",
    "ax1 = scatter_plot(ax1, test_X, pred_or_y, threshold=0.5)\n",
    "\n",
    "ax2 = plt.subplot(2,2,2, projection='3d')\n",
    "ax2.set_title('predict OR gate 3D')\n",
    "ax2 = scatter_plot(ax2, test_X, pred_or_y, threshold=0.5, three_d=True)\n",
    "\n",
    "ax3 = plt.subplot(2,2,3)\n",
    "ax3.set_title('predict AND gate')\n",
    "ax3 = scatter_plot(ax3, test_X, pred_and_y, threshold=0.5)\n",
    "\n",
    "ax4 = plt.subplot(2,2,4, projection='3d')\n",
    "ax4.set_title('predict AND gate 3D')\n",
    "ax4 = scatter_plot(ax4, test_X, pred_and_y, threshold=0.5, three_d=True)\n",
    "\n",
    "plt.show()"
   ]
  },
  {
   "cell_type": "code",
   "execution_count": null,
   "metadata": {},
   "outputs": [],
   "source": [
    "# XOR gate\n",
    "xor_linear_model = tf.keras.Sequential([\n",
    "    tf.keras.layers.Input(shape=(2,), dtype='float64'),\n",
    "    tf.keras.layers.Dense(1, activation='linear')\n",
    "])\n",
    "xor_linear_model.compile(loss='mse', optimizer=tf.keras.optimizers.Adam(learning_rate=0.01), metrics=['accuracy'])\n",
    "xor_linear_model.fit(X, xor_y, epochs=1000, verbose=0)\n",
    "\n",
    "# 그래프로 그려보기\n",
    "test_X = np.array([[x/100,y/100] for (x,y) in product(range(101),range(101))])\n",
    "pred_xor_y = xor_linear_model(test_X)\n",
    "\n",
    "plt.figure(figsize=(10,5))\n",
    "ax1 = plt.subplot(1,2,1)\n",
    "ax1.set_title('predict XOR gate')\n",
    "ax1 = scatter_plot(ax1, test_X, pred_xor_y, threshold=0.5)\n",
    "\n",
    "ax2 = plt.subplot(1,2,2, projection='3d')\n",
    "ax2.set_title('predict XOR gate 3D')\n",
    "ax2 = scatter_plot(ax2, test_X, pred_xor_y, threshold=0.5, three_d=True)\n",
    "\n",
    "plt.show()"
   ]
  },
  {
   "cell_type": "markdown",
   "metadata": {},
   "source": [
    "## 26-9. 활성화 함수의 종류 (3) 비선형 활성화 함수-시그모이드, Softmax"
   ]
  },
  {
   "cell_type": "code",
   "execution_count": null,
   "metadata": {},
   "outputs": [],
   "source": [
    "import os\n",
    "img_path = os.getenv('HOME')+'/aiffel/activation/jindo_dog.jpg'\n",
    "\n",
    "# 시그모이드 함수\n",
    "def sigmoid(x):\n",
    "    return 1/(1+np.exp(-x).astype(np.float64))\n",
    "\n",
    "def dev_sigmoid(x):\n",
    "    return sigmoid(x)*(1-sigmoid(x))\n",
    "\n",
    "# 시각화\n",
    "ax = plot_and_visulize(img_path, sigmoid, dev_sigmoid)\n",
    "ax.show()"
   ]
  },
  {
   "cell_type": "code",
   "execution_count": null,
   "metadata": {},
   "outputs": [],
   "source": [
    "# 수치 미분\n",
    "def num_derivative(x, function):\n",
    "    h = 1e-15 # 이 값을 바꾸어 가며 그래프를 확인해 보세요\n",
    "    numerator = function(x+h)-function(x)\n",
    "    return numerator/h\n",
    "\n",
    "# 두 그래프의 차이\n",
    "diff_X = [-5+x/100 for x in range(1001)]\n",
    "dev_y = np.array([dev_sigmoid(x) for x in diff_X])\n",
    "num_dev_y = np.array([num_derivative(x, sigmoid) for x in diff_X])\n",
    "\n",
    "diff_y = dev_y - num_dev_y\n",
    "plt.plot(diff_X, num_dev_y, label='numerical')\n",
    "plt.plot(diff_X, dev_y, label='analytic')\n",
    "plt.plot(diff_X, diff_y, label='differnce')\n",
    "plt.legend()\n",
    "\n",
    "plt.show()"
   ]
  },
  {
   "cell_type": "code",
   "execution_count": null,
   "metadata": {},
   "outputs": [],
   "source": [
    "# OR gate\n",
    "or_sigmoid_model = tf.keras.Sequential([\n",
    "    tf.keras.layers.Input(shape=(2,)),\n",
    "    tf.keras.layers.Dense(1, activation='sigmoid')\n",
    "])\n",
    "or_sigmoid_model.compile(loss='mse', optimizer=tf.keras.optimizers.Adam(learning_rate=0.01), metrics=['accuracy'])\n",
    "or_sigmoid_model.fit(X, or_y, epochs=1000, verbose=0)\n",
    "\n",
    "# AND gate\n",
    "and_sigmoid_model = tf.keras.Sequential([\n",
    "    tf.keras.layers.Input(shape=(2,)),\n",
    "    tf.keras.layers.Dense(1, activation='sigmoid')\n",
    "])\n",
    "and_sigmoid_model.compile(loss='mse', optimizer=tf.keras.optimizers.Adam(learning_rate=0.01), metrics=['accuracy'])\n",
    "and_sigmoid_model.fit(X, and_y, epochs=1000, verbose=0)\n",
    "\n",
    "# XOR gate\n",
    "xor_sigmoid_model = tf.keras.Sequential([\n",
    "    tf.keras.layers.Input(shape=(2,)),\n",
    "    tf.keras.layers.Dense(1, activation='sigmoid')\n",
    "])\n",
    "xor_sigmoid_model.compile(loss='mse', optimizer=tf.keras.optimizers.Adam(learning_rate=0.01), metrics=['accuracy'])\n",
    "xor_sigmoid_model.fit(X, xor_y, epochs=1000, verbose=0)\n",
    "\n",
    "# 그래프로 그려보기\n",
    "test_X = np.array([[x/100,y/100] for (x,y) in product(range(101),range(101))])\n",
    "pred_or_y = or_sigmoid_model(test_X)\n",
    "pred_and_y = and_sigmoid_model(test_X)\n",
    "pred_xor_y = xor_sigmoid_model(test_X)\n",
    "\n",
    "plt.figure(figsize=(10,15))\n",
    "ax1 = plt.subplot(3,2,1)\n",
    "ax1.set_title('predict OR gate')\n",
    "ax1 = scatter_plot(ax1, test_X, pred_or_y, threshold=0.5)\n",
    "\n",
    "ax2 = plt.subplot(3,2,2, projection='3d')\n",
    "ax2.set_title('predict OR gate 3D')\n",
    "ax2 = scatter_plot(ax2, test_X, pred_or_y, threshold=0.5, three_d=True)\n",
    "\n",
    "ax3 = plt.subplot(3,2,3)\n",
    "ax3.set_title('predict AND gate')\n",
    "ax3 = scatter_plot(ax3, test_X, pred_and_y, threshold=0.5)\n",
    "\n",
    "ax4 = plt.subplot(3,2,4, projection='3d')\n",
    "ax4.set_title('predict AND gate 3D')\n",
    "ax4 = scatter_plot(ax4, test_X, pred_and_y, threshold=0.5, three_d=True)\n",
    "\n",
    "ax5 = plt.subplot(3,2,5)\n",
    "ax5.set_title('predict XOR gate')\n",
    "ax5 = scatter_plot(ax5, test_X, pred_xor_y, threshold=0.5)\n",
    "\n",
    "ax6 = plt.subplot(3,2,6, projection='3d')\n",
    "ax6.set_title('predict XOR gate 3D')\n",
    "ax6 = scatter_plot(ax6, test_X, pred_xor_y, threshold=0.5, three_d=True)\n",
    "\n",
    "plt.show()"
   ]
  },
  {
   "cell_type": "code",
   "execution_count": null,
   "metadata": {},
   "outputs": [],
   "source": [
    "# 레이어를 추가했을 때\n",
    "# XOR gate\n",
    "xor_sigmoid_model = tf.keras.Sequential([\n",
    "    tf.keras.layers.Input(shape=(2,)),\n",
    "    tf.keras.layers.Dense(2, activation='sigmoid'), # 2 nodes로 변경\n",
    "    tf.keras.layers.Dense(1)\n",
    "])\n",
    "xor_sigmoid_model.compile(loss='mse', optimizer=tf.keras.optimizers.Adam(learning_rate=0.01), metrics=['accuracy'])\n",
    "xor_sigmoid_model.fit(X, xor_y, epochs=1000, verbose=0)\n",
    "\n",
    "plt.figure(figsize=(10,5))\n",
    "pred_xor_y = xor_sigmoid_model(test_X)\n",
    "\n",
    "ax1 = plt.subplot(1,2,1)\n",
    "ax1.set_title('predict XOR gate')\n",
    "ax1 = scatter_plot(ax1, test_X, pred_xor_y, threshold=0.5)\n",
    "\n",
    "ax2 = plt.subplot(1,2,2, projection='3d')\n",
    "ax2.set_title('predict XOR gate 3D')\n",
    "ax2 = scatter_plot(ax2, test_X, pred_xor_y, threshold=0.5, three_d=True)\n",
    "\n",
    "plt.show()"
   ]
  },
  {
   "cell_type": "markdown",
   "metadata": {},
   "source": [
    "## 26-10. 활성화 함수의 종류 (4) 비선형 활성화 함수-하이퍼볼릭 탄젠트"
   ]
  },
  {
   "cell_type": "code",
   "execution_count": null,
   "metadata": {},
   "outputs": [],
   "source": [
    "import os\n",
    "img_path = os.getenv('HOME')+'/aiffel/activation/jindo_dog.jpg'\n",
    "\n",
    "# 하이퍼볼릭 탄젠트 함수\n",
    "def tanh(x):\n",
    "    return (np.exp(x)-np.exp(-x))/(np.exp(x)+np.exp(-x))\n",
    "\n",
    "def dev_tanh(x):\n",
    "    return 1-tanh(x)**2\n",
    "\n",
    "# 시각화\n",
    "ax = plot_and_visulize(img_path, tanh, dev_tanh)\n",
    "ax.show()"
   ]
  },
  {
   "cell_type": "markdown",
   "metadata": {},
   "source": [
    "## 26-11. 활성화 함수의 종류 (5) 비선형 활성화 함수-ReLU"
   ]
  },
  {
   "cell_type": "code",
   "execution_count": null,
   "metadata": {},
   "outputs": [],
   "source": [
    "import os\n",
    "img_path = os.getenv('HOME')+'/aiffel/activation/jindo_dog.jpg'\n",
    "\n",
    "# relu 함수\n",
    "def relu(x):\n",
    "    return max(0,x)\n",
    "\n",
    "# 시각화\n",
    "ax = plot_and_visulize(img_path, relu)\n",
    "ax.show()"
   ]
  },
  {
   "cell_type": "code",
   "execution_count": null,
   "metadata": {},
   "outputs": [],
   "source": [
    "q_X = np.array([-10+x/100 for x in range(2001)])\n",
    "q_y = np.array([(x)**2 + np.random.randn(1)*10 for x in q_X])\n",
    "plt.scatter(q_X, q_y, s=0.5)"
   ]
  },
  {
   "cell_type": "code",
   "execution_count": null,
   "metadata": {},
   "outputs": [],
   "source": [
    "approx_relu_model_p = tf.keras.Sequential([\n",
    "    tf.keras.layers.Input(shape=(1,)),\n",
    "    tf.keras.layers.Dense(6, activation='relu'), # 6 nodes 병렬 연결\n",
    "    tf.keras.layers.Dense(1)\n",
    "])\n",
    "approx_relu_model_p.compile(loss='mse', optimizer=tf.keras.optimizers.Adam(learning_rate=0.005), metrics=['accuracy'])\n",
    "approx_relu_model_p.fit(q_X, q_y, batch_size=32, epochs=100, verbose=0)\n",
    "\n",
    "approx_relu_model_s = tf.keras.Sequential([\n",
    "    tf.keras.layers.Input(shape=(1,)),\n",
    "    tf.keras.layers.Dense(2, activation='relu'),# 2 nodes 직렬로 3번 연결\n",
    "    tf.keras.layers.Dense(2, activation='relu'),\n",
    "    tf.keras.layers.Dense(2, activation='relu'),\n",
    "    tf.keras.layers.Dense(1)\n",
    "])\n",
    "approx_relu_model_s.compile(loss='mse', optimizer=tf.keras.optimizers.Adam(learning_rate=0.005), metrics=['accuracy'])\n",
    "approx_relu_model_s.fit(q_X, q_y, batch_size=32, epochs=100, verbose=0)\n",
    "\n",
    "approx_relu_model_p.summary()\n",
    "approx_relu_model_s.summary()"
   ]
  },
  {
   "cell_type": "code",
   "execution_count": null,
   "metadata": {},
   "outputs": [],
   "source": [
    "q_test_X = q_X.reshape((*q_X.shape,1))\n",
    "plt.figure(figsize=(10,5))\n",
    "\n",
    "ax1 = plt.subplot(1,2,1)\n",
    "ax1.set_title('parallel')\n",
    "pred_y_p = approx_relu_model_p(q_test_X)\n",
    "ax1.plot(q_X, pred_y_p)\n",
    "\n",
    "ax2 = plt.subplot(1,2,2)\n",
    "ax2.set_title('serial')\n",
    "pred_y_s = approx_relu_model_s(q_test_X)\n",
    "ax2.plot(q_X, pred_y_s)\n",
    "\n",
    "plt.show()"
   ]
  },
  {
   "cell_type": "markdown",
   "metadata": {},
   "source": [
    "## 26-12. 활성화 함수의 종류 (6) 비선형 활성화 함수-ReLU의 단점을 극복하기 위한 시도들"
   ]
  },
  {
   "cell_type": "code",
   "execution_count": null,
   "metadata": {},
   "outputs": [],
   "source": [
    "import os\n",
    "img_path = os.getenv('HOME')+'/aiffel/activation/jindo_dog.jpg'\n",
    "\n",
    "# leaky relu 함수\n",
    "def leaky_relu(x):\n",
    "    return max(0.01*x,x)\n",
    "\n",
    "# 시각화\n",
    "ax = plot_and_visulize(img_path, leaky_relu)\n",
    "ax.show()"
   ]
  },
  {
   "cell_type": "code",
   "execution_count": null,
   "metadata": {},
   "outputs": [],
   "source": [
    "# PReLU 함수\n",
    "def prelu(x, alpha):\n",
    "    return max(alpha*x,x)\n",
    "\n",
    "# 시각화\n",
    "ax = plot_and_visulize(img_path, lambda x: prelu(x, 0.1)) # parameter alpha=0.1일 때\n",
    "\n",
    "ax.show()"
   ]
  },
  {
   "cell_type": "code",
   "execution_count": null,
   "metadata": {},
   "outputs": [],
   "source": [
    "# elu 함수\n",
    "def elu(x, alpha):\n",
    "    return x if x > 0 else alpha*(np.exp(x)-1)\n",
    "\n",
    "def dev_elu(x, alpha):\n",
    "    return 1 if x > 0 else elu(x, alpha) + alpha\n",
    "\n",
    "# 시각화\n",
    "ax = plot_and_visulize(img_path, lambda x: elu(x, 1), lambda x: dev_elu(x, 1)) # alpha가 1일 때\n",
    "ax.show()"
   ]
  }
 ],
 "metadata": {
  "interpreter": {
   "hash": "b3ce9abe337a9e694d01ea52d504102083454ad8bd4b0e3a574e4432f4229329"
  },
  "kernelspec": {
   "display_name": "Python 3.8.12 ('aiffel_3.8')",
   "language": "python",
   "name": "python3"
  },
  "language_info": {
   "name": "python",
   "version": "3.8.12"
  },
  "orig_nbformat": 4
 },
 "nbformat": 4,
 "nbformat_minor": 2
}
