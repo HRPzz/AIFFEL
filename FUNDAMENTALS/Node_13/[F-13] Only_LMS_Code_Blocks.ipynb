{
 "cells": [
  {
   "cell_type": "markdown",
   "metadata": {},
   "source": [
    "# 13. 당신의 행운의 숫자는? 나만의 n면체 주사위 위젯 만들기\n",
    "\n",
    "**n면체 주사위를 구현하는 프로젝트를 통해 파이썬 클래스 활용법과 객체 지향 프로그래밍(OOP) 개념을 실습해 본다.**"
   ]
  },
  {
   "cell_type": "markdown",
   "metadata": {},
   "source": [
    "## 13-1. 들어가며"
   ]
  },
  {
   "cell_type": "markdown",
   "metadata": {},
   "source": [
    "## 13-2. 객체 지향 프로그래밍 (1) 객체란?"
   ]
  },
  {
   "cell_type": "code",
   "execution_count": null,
   "metadata": {},
   "outputs": [],
   "source": [
    "myvar = 3\n",
    "myvar"
   ]
  },
  {
   "cell_type": "code",
   "execution_count": null,
   "metadata": {},
   "outputs": [],
   "source": [
    "myword = 'cat'\n",
    "myword"
   ]
  },
  {
   "cell_type": "code",
   "execution_count": null,
   "metadata": {},
   "outputs": [],
   "source": [
    "myword.upper()"
   ]
  },
  {
   "cell_type": "code",
   "execution_count": null,
   "metadata": {},
   "outputs": [],
   "source": [
    "'cat'.upper()"
   ]
  },
  {
   "cell_type": "code",
   "execution_count": null,
   "metadata": {},
   "outputs": [],
   "source": [
    "var = 4\n",
    "var"
   ]
  },
  {
   "cell_type": "code",
   "execution_count": null,
   "metadata": {},
   "outputs": [],
   "source": [
    "print(id(var), id(4)) #id 값은 pc마다 다릅니다."
   ]
  },
  {
   "cell_type": "code",
   "execution_count": null,
   "metadata": {},
   "outputs": [],
   "source": [
    "mylist = [1,2,3]\n",
    "var = mylist\n",
    "var"
   ]
  },
  {
   "cell_type": "code",
   "execution_count": null,
   "metadata": {},
   "outputs": [],
   "source": [
    "mylist.append(4)\n",
    "print(mylist)"
   ]
  },
  {
   "cell_type": "code",
   "execution_count": null,
   "metadata": {},
   "outputs": [],
   "source": [
    "print(var)"
   ]
  },
  {
   "cell_type": "code",
   "execution_count": null,
   "metadata": {},
   "outputs": [],
   "source": [
    "print(id(mylist), id(var))"
   ]
  },
  {
   "cell_type": "markdown",
   "metadata": {},
   "source": [
    "## 13-3. 객체 지향 프로그래밍 (2) 객체 지향 프로그래밍이란?"
   ]
  },
  {
   "cell_type": "markdown",
   "metadata": {},
   "source": [
    "## 13-4. 클래스 기본 문법 (1) 클래스 선언 및 인스턴스화"
   ]
  },
  {
   "cell_type": "code",
   "execution_count": null,
   "metadata": {},
   "outputs": [],
   "source": [
    "class Car:\n",
    "    pass\n",
    "\n",
    "class Car():\n",
    "    pass\n",
    "\n",
    "#id(Car)는 여러번 호출해도 같은 값이 얻어집니다. \n",
    "print(id(Car))\n",
    "print(id(Car))\n",
    "\n",
    "#id(Car())는 Car()가 호출될 때마다 다른 값이 얻어집니다. \n",
    "print(id(Car()))\n",
    "print(id(Car()))\n",
    "\n",
    "# 두 객체의 type을 살펴봅니다. \n",
    "print(type(Car))\n",
    "print(type(Car()))"
   ]
  },
  {
   "cell_type": "code",
   "execution_count": null,
   "metadata": {},
   "outputs": [],
   "source": [
    "mycar = Car()\n",
    "mycar2 = Car()\n",
    "print(id(mycar))\n",
    "print(id(mycar2))"
   ]
  },
  {
   "cell_type": "markdown",
   "metadata": {},
   "source": [
    "## 13-5. 클래스 기본 문법 (2) 클래스 속성과 메서드"
   ]
  },
  {
   "cell_type": "code",
   "execution_count": null,
   "metadata": {},
   "outputs": [],
   "source": [
    "class Car:\n",
    "    color = 'red'\n",
    "    category = 'sports car'\n",
    "\n",
    "    def drive(self):\n",
    "        print(\"I'm driving\")\n",
    "\n",
    "    def accel(self, speed_up, current_speed=10):\n",
    "        self.speed_up = speed_up\n",
    "        self.current_speed = current_speed + speed_up\n",
    "        print(\"speed up\", self.speed_up, \"driving at\", self.current_speed)"
   ]
  },
  {
   "cell_type": "markdown",
   "metadata": {},
   "source": [
    "```python\n",
    "# Car 클래스입니다.\n",
    "class Car:\n",
    "    '''\n",
    "    속성은 클래스의 상태를 나타냅니다.\n",
    "    색상: 빨강\n",
    "    종류: 스포츠 카\n",
    "    '''\n",
    "    color = 'red'\n",
    "    category = 'sports car'\n",
    "\t\t\n",
    "    '''\n",
    "    동작은 메서드로 나타냅니다.\n",
    "    '''\n",
    "    def drive(self):\n",
    "        '''\n",
    "        주행 메서드\n",
    "        '''\n",
    "        print(\"I'm driving\")\n",
    "\t\t\t\t\n",
    "    def accel(self, speed_up, current_speed=10):\n",
    "        '''\n",
    "        가속 메서드\n",
    "        :param speed_up: 가속\n",
    "        :param current_speed: 현재 속도\n",
    "        :type speed_up: string\n",
    "        :type current_speed: string\n",
    "        '''\n",
    "        self.speed_up = speed_up\n",
    "        self.current_speed = current_speed + speed_up\n",
    "        print(\"speed up\", self.speed_up, \"driving at\", self.current_speed)\n",
    "```"
   ]
  },
  {
   "cell_type": "code",
   "execution_count": null,
   "metadata": {},
   "outputs": [],
   "source": [
    "mycar = Car()"
   ]
  },
  {
   "cell_type": "code",
   "execution_count": null,
   "metadata": {},
   "outputs": [],
   "source": [
    "print(mycar.color)"
   ]
  },
  {
   "cell_type": "code",
   "execution_count": null,
   "metadata": {},
   "outputs": [],
   "source": [
    "mycar.price"
   ]
  },
  {
   "cell_type": "code",
   "execution_count": null,
   "metadata": {},
   "outputs": [],
   "source": [
    "mycar.drive()"
   ]
  },
  {
   "cell_type": "code",
   "execution_count": null,
   "metadata": {},
   "outputs": [],
   "source": [
    "mycar.accel(5)"
   ]
  },
  {
   "cell_type": "code",
   "execution_count": null,
   "metadata": {},
   "outputs": [],
   "source": [
    "mycar.drive()"
   ]
  },
  {
   "cell_type": "code",
   "execution_count": null,
   "metadata": {},
   "outputs": [],
   "source": [
    "Car.drive(mycar)"
   ]
  },
  {
   "cell_type": "code",
   "execution_count": null,
   "metadata": {},
   "outputs": [],
   "source": [
    "class Test:\n",
    "    def run1(self):\n",
    "        print(\"run1\")\n",
    "\n",
    "    def run2():\n",
    "        print(\"run2\")\n",
    "\n",
    "t = Test()"
   ]
  },
  {
   "cell_type": "code",
   "execution_count": null,
   "metadata": {},
   "outputs": [],
   "source": [
    "t.run1()"
   ]
  },
  {
   "cell_type": "code",
   "execution_count": null,
   "metadata": {},
   "outputs": [],
   "source": [
    "t.run2()"
   ]
  },
  {
   "cell_type": "code",
   "execution_count": null,
   "metadata": {},
   "outputs": [],
   "source": [
    "class Test2:\n",
    "    def run1(self, a):\n",
    "        self.a = float(a) * 10\n",
    "        print(self.a)\n",
    "\n",
    "    def run2(self, b):\n",
    "        b = float(b) + 10\n",
    "        print(self.b)\n",
    "        \n",
    "t = Test2()"
   ]
  },
  {
   "cell_type": "code",
   "execution_count": null,
   "metadata": {},
   "outputs": [],
   "source": [
    "t.run1(1)"
   ]
  },
  {
   "cell_type": "code",
   "execution_count": null,
   "metadata": {},
   "outputs": [],
   "source": [
    "t.run2(1)"
   ]
  },
  {
   "cell_type": "markdown",
   "metadata": {},
   "source": [
    "## 13-6. 클래스 기본 문법 (3) 생성자"
   ]
  },
  {
   "cell_type": "code",
   "execution_count": null,
   "metadata": {},
   "outputs": [],
   "source": [
    "class Car:\n",
    "    color = 'red'\n",
    "    category = 'sports car'\n",
    "\n",
    "    def drive(self):\n",
    "        print(\"I'm driving\")\n",
    "\n",
    "    def accel(self, speed_up, current_speed=10):\n",
    "        self.speed_up = speed_up\n",
    "        self.current_speed = current_speed + self.speed_up\n",
    "        print(\"speed up\", self.speed_up, \"driving at\", self.current_speed)"
   ]
  },
  {
   "cell_type": "code",
   "execution_count": null,
   "metadata": {},
   "outputs": [],
   "source": [
    "class Car2:\n",
    "    def __init__(self, color, category):\n",
    "        self.color = color\n",
    "        self.category = category\n",
    "\n",
    "    def drive(self):\n",
    "        print(\"I'm driving\")\n",
    "\n",
    "    def accel(self, speed_up, current_speed=10):\n",
    "        self.speed_up = speed_up\n",
    "        self.current_speed = current_speed + self.speed_up\n",
    "        print(\"speed up\", self.speed_up, \"driving at\", self.current_speed)"
   ]
  },
  {
   "cell_type": "code",
   "execution_count": null,
   "metadata": {},
   "outputs": [],
   "source": [
    "#인스턴스 객체 선언\n",
    "car1 = Car()\n",
    "car2 = Car2('yellow', 'sedan')"
   ]
  },
  {
   "cell_type": "code",
   "execution_count": null,
   "metadata": {},
   "outputs": [],
   "source": [
    "car1.color"
   ]
  },
  {
   "cell_type": "code",
   "execution_count": null,
   "metadata": {},
   "outputs": [],
   "source": [
    "car2.color"
   ]
  },
  {
   "cell_type": "code",
   "execution_count": null,
   "metadata": {},
   "outputs": [],
   "source": [
    "car1.category"
   ]
  },
  {
   "cell_type": "code",
   "execution_count": null,
   "metadata": {},
   "outputs": [],
   "source": [
    "car2.category"
   ]
  },
  {
   "cell_type": "code",
   "execution_count": null,
   "metadata": {},
   "outputs": [],
   "source": [
    "class Car2:\n",
    "    def __init__(self, color='red', category='sprots car'):\n",
    "        self.color = color\n",
    "        self.category = category"
   ]
  },
  {
   "cell_type": "markdown",
   "metadata": {},
   "source": [
    "## 13-7. 클래스 기본 문법 (4) 클래스 변수와 인스턴스 변수"
   ]
  },
  {
   "cell_type": "code",
   "execution_count": null,
   "metadata": {},
   "outputs": [],
   "source": [
    "class Car:\n",
    "    Manufacture = \"India\"\n",
    "\n",
    "    def __init__(self, color, category='sedan'):\n",
    "        self.color = color\n",
    "        self.category = category"
   ]
  },
  {
   "cell_type": "code",
   "execution_count": null,
   "metadata": {},
   "outputs": [],
   "source": [
    "car1 = Car('red','sports car')\n",
    "car2 = Car('white')\n",
    "print(car1.Manufacture, car1.color, car1.category)\n",
    "print(car2.Manufacture, car2.color, car2.category)"
   ]
  },
  {
   "cell_type": "markdown",
   "metadata": {},
   "source": [
    "## 13-8. 클래스, 조금 더 알아보기 - 상속"
   ]
  },
  {
   "cell_type": "code",
   "execution_count": null,
   "metadata": {},
   "outputs": [],
   "source": [
    "class Car:\n",
    "    Manufacture = \"India\"\n",
    "\n",
    "    def __init__(self, color='red', category='sedan'):\n",
    "        self.color = color\n",
    "        self.category = category\n",
    "\n",
    "    def drive(self):\n",
    "        print(\"I'm driving\")\n",
    "\n",
    "    def accel(self, speed_up, current_speed=10):\n",
    "        self.speed_up = speed_up\n",
    "        self.current_speed = current_speed + self.speed_up\n",
    "        print(\"speed up\", self.speed_up, \"driving at\", self.current_speed)"
   ]
  },
  {
   "cell_type": "code",
   "execution_count": null,
   "metadata": {},
   "outputs": [],
   "source": [
    "class NewCar(Car):\n",
    "    pass\n",
    "\n",
    "car = NewCar()\n",
    "car.drive()\n",
    "car.accel(10)"
   ]
  },
  {
   "cell_type": "code",
   "execution_count": null,
   "metadata": {},
   "outputs": [],
   "source": [
    "class NewCar(Car):\n",
    "    maker = 'Porsche'\n",
    "\n",
    "car = NewCar()\n",
    "car.maker"
   ]
  },
  {
   "cell_type": "code",
   "execution_count": null,
   "metadata": {},
   "outputs": [],
   "source": [
    "class NewCar(Car):\n",
    "    def fly(self):\n",
    "        print(\"I'm flying!! This is the new car!!\")"
   ]
  },
  {
   "cell_type": "code",
   "execution_count": null,
   "metadata": {},
   "outputs": [],
   "source": [
    "class NewCar(Car):\n",
    "    def fly(self):\n",
    "        print(\"I'm flying!! This is the new car!!\")\n",
    "\n",
    "    def drive(self):\n",
    "        print(\"I'm driving and can fly\")"
   ]
  },
  {
   "cell_type": "code",
   "execution_count": null,
   "metadata": {},
   "outputs": [],
   "source": [
    "class NewCar(Car):\n",
    "    def __init__(self, color, category, maker):\n",
    "        super().__init__(color, category)\n",
    "        self.maker = maker\n",
    "\n",
    "    def fly(self):\n",
    "        print(\"I'm flying!! This is the new car!!\")\n",
    "\n",
    "    def accel(self, speed_up, level=1, current_speed=10):\n",
    "        self.boost[level] = {1 : 0, 2 : 30, 3 : 50}\n",
    "        self.speed_up = speed_up + self.boost[level]\n",
    "        self.current_speed = current_speed + self.speed_up\n",
    "        print(\"speed up\", self.speed_up, \"driving at\", self.current_speed)"
   ]
  },
  {
   "cell_type": "code",
   "execution_count": null,
   "metadata": {},
   "outputs": [],
   "source": [
    "class Car:\n",
    "    Manufacture = \"India\"\n",
    "\n",
    "    def __init__(self, color='red', category='sedan'):\n",
    "        self.color = color \n",
    "        self.category = '2020Y '+ category\n",
    "\n",
    "\n",
    "class NewCar(Car):\n",
    "    def __init__(self, color, category, maker):\n",
    "        super().__init__(color, category)\n",
    "        self.maker = maker\n",
    "\n",
    "newcar = NewCar('red','sports car', 'Kia')\n",
    "print(newcar.category)"
   ]
  },
  {
   "cell_type": "markdown",
   "metadata": {},
   "source": [
    "## 13-9. n면체 주사위 만들기 (1) 기획"
   ]
  },
  {
   "cell_type": "markdown",
   "metadata": {},
   "source": [
    "## 13-10. n면체 주사위 만들기 (2) 주 프로그램 - main 함수"
   ]
  },
  {
   "cell_type": "code",
   "execution_count": null,
   "metadata": {},
   "outputs": [],
   "source": [
    "def main():\n",
    "    n = get_inputs()\n",
    "    mydice = FunnyDice(n)\n",
    "    mydice.throw()\n",
    "    print(\"행운의 숫자는? {}\".format(mydice.getval()))"
   ]
  },
  {
   "cell_type": "markdown",
   "metadata": {},
   "source": [
    "## 13-11. n면체 주사위 만들기 (3) FunnyDice 클래스"
   ]
  },
  {
   "cell_type": "code",
   "execution_count": null,
   "metadata": {},
   "outputs": [],
   "source": [
    "class FunnyDice:\n",
    "    def __init__(self, n):\n",
    "            self.n = n\n",
    "    \n",
    "    def throw(self):\n",
    "        pass\n",
    "    \n",
    "    def getval(self):\n",
    "        pass\n",
    "\n",
    "    def setval(self, val):\n",
    "        pass"
   ]
  },
  {
   "cell_type": "code",
   "execution_count": null,
   "metadata": {},
   "outputs": [],
   "source": [
    "from random import randrange\n",
    "\n",
    "class FunnyDice:\n",
    "    def __init__(self, n=6):\n",
    "        self.n = int(n)\n",
    "        self.numbers = list(range(1, n+1))\n",
    "        self.index = randrange(0, self.n)\n",
    "        self.val = self.numbers[self.index]"
   ]
  },
  {
   "cell_type": "code",
   "execution_count": null,
   "metadata": {},
   "outputs": [],
   "source": [
    "from random import randrange\n",
    "\n",
    "class FunnyDice:\n",
    "    def throw(self):\n",
    "        self.index = randrange(0, self.n)\n",
    "        self.val = self.numbers[self.index]\n",
    "    \n",
    "    def getval(self):\n",
    "        return self.val"
   ]
  },
  {
   "cell_type": "code",
   "execution_count": null,
   "metadata": {},
   "outputs": [],
   "source": [
    "from random import randrange\n",
    "\n",
    "class FunnyDice:    \n",
    "    def setval(self, val:int):\n",
    "        if val <= self.n:\n",
    "            self.val = val\n",
    "        else:\n",
    "            msg = \"주사위에 없는 숫자입니다. 주사위는 1 ~ {0}까지 있습니다. \".format(self.n)\n",
    "            raise ValueError(msg)"
   ]
  },
  {
   "cell_type": "code",
   "execution_count": null,
   "metadata": {},
   "outputs": [],
   "source": [
    "class FunnyDice:\n",
    "    def __init__(self, n=6):\n",
    "        self.n = int(n)\n",
    "        self.numbers = list(range(1, n+1))\n",
    "        self.index = randrange(0, self.n)\n",
    "        self.val = self.numbers[self.index]\n",
    "\n",
    "    def throw(self):\n",
    "        self.index = randrange(0, self.n)\n",
    "        self.val = self.numbers[self.index]\n",
    "\n",
    "    def getval(self):\n",
    "        return self.val\n",
    "\n",
    "    def setval(self, val):\n",
    "        if val <= self.n:\n",
    "            self.val = val\n",
    "        else:\n",
    "            msg = \"주사위에 없는 숫자입니다. 주사위는 1 ~ {0}까지 있습니다. \".format(self.n)\n",
    "            raise ValueError(msg)"
   ]
  },
  {
   "cell_type": "markdown",
   "metadata": {},
   "source": [
    "## 13-12. n면체 주사위 만들기 (4) FunnyDice 클래스 테스트, get_input 함수"
   ]
  },
  {
   "cell_type": "code",
   "execution_count": null,
   "metadata": {},
   "outputs": [],
   "source": [
    "# 코드를 입력하세요.\n",
    "lucknum = FunnyDice()\n",
    "lucknum.throw()\n",
    "print(lucknum.getval())\n",
    "lucknum.setval(7)"
   ]
  },
  {
   "cell_type": "markdown",
   "metadata": {},
   "source": [
    "```python\n",
    "# 정답 코드\n",
    "\n",
    "lucknum = FunnyDice()\n",
    "lucknum.throw()\n",
    "print(lucknum.getval())\n",
    "lucknum.setval(7)\n",
    "```"
   ]
  },
  {
   "cell_type": "code",
   "execution_count": null,
   "metadata": {},
   "outputs": [],
   "source": [
    "def get_inputs():\n",
    "    n = int(input(\"주사위 면의 개수를 입력하세요: \"))\n",
    "    return n"
   ]
  },
  {
   "cell_type": "markdown",
   "metadata": {},
   "source": [
    "## 13-13. n면체 주사위 만들기 (5) 완성 코드"
   ]
  },
  {
   "cell_type": "code",
   "execution_count": null,
   "metadata": {},
   "outputs": [],
   "source": [
    "# funnydice.py\n",
    "\n",
    "from random import randrange\n",
    "\n",
    "class FunnyDice:\n",
    "    def __init__(self, n=6):\n",
    "        self.n = n\n",
    "        self.options = list(range(1, n+1))\n",
    "        self.index = randrange(0, self.n)\n",
    "        self.val = self.options[self.index]\n",
    "    \n",
    "    def throw(self):\n",
    "        self.index = randrange(0, self.n)\n",
    "        self.val = self.options[self.index]\n",
    "    \n",
    "    def getval(self):\n",
    "        return self.val\n",
    "    \n",
    "    def setval(self, val):\n",
    "        if val <= self.n:\n",
    "            self.val = val\n",
    "        else:\n",
    "            msg = \"주사위에 없는 숫자입니다. 주사위는 1 ~ {0}까지 있습니다. \".format(self.n)\n",
    "            raise ValueError(msg)\n",
    "\n",
    "def get_inputs():\n",
    "    n = int(input(\"주사위 면의 개수를 입력하세요: \"))\n",
    "    return n\n",
    "\n",
    "def main():\n",
    "    n = get_inputs()\n",
    "    mydice = FunnyDice(n)\n",
    "    mydice.throw()\n",
    "    print(\"행운의 숫자는? {0}\".format(mydice.getval()))\n",
    "\n",
    "if __name__ == '__main__':\n",
    "    main()"
   ]
  }
 ],
 "metadata": {
  "interpreter": {
   "hash": "b3ce9abe337a9e694d01ea52d504102083454ad8bd4b0e3a574e4432f4229329"
  },
  "kernelspec": {
   "display_name": "Python 3.8.12 ('aiffel_3.8')",
   "language": "python",
   "name": "python3"
  },
  "language_info": {
   "name": "python",
   "version": "3.8.12"
  },
  "orig_nbformat": 4
 },
 "nbformat": 4,
 "nbformat_minor": 2
}
