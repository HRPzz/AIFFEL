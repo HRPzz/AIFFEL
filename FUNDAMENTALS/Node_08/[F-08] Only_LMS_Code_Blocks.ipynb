{
 "cells": [
  {
   "cell_type": "markdown",
   "metadata": {},
   "source": [
    "# 8. 파이썬 잘하는 척 해보자\n",
    "\n",
    "**파이썬을 파이썬답게 활용하기 위해 알아야 할 핵심개념과 문법을 이해하고 실습해 본다.**"
   ]
  },
  {
   "cell_type": "markdown",
   "metadata": {},
   "source": [
    "## 8-1. 들어가며"
   ]
  },
  {
   "cell_type": "markdown",
   "metadata": {},
   "source": [
    "## 8-2. 파이썬 어디까지 써 봤니?!"
   ]
  },
  {
   "cell_type": "markdown",
   "metadata": {},
   "source": [
    "## 8-3. 파이썬을 더 잘 사용해보자! (1) for문 잘 사용하기"
   ]
  },
  {
   "cell_type": "code",
   "execution_count": null,
   "metadata": {},
   "outputs": [],
   "source": [
    "my_list = ['a','b','c','d']\n",
    "\n",
    "for i in my_list:\n",
    "    print(\"값 : \", i)"
   ]
  },
  {
   "cell_type": "code",
   "execution_count": null,
   "metadata": {},
   "outputs": [],
   "source": [
    "my_list = ['a','b','c','d']\n",
    "\n",
    "for i, value in enumerate(my_list):\n",
    "    print(\"순번 : \", i, \" , 값 : \", value)"
   ]
  },
  {
   "cell_type": "code",
   "execution_count": null,
   "metadata": {},
   "outputs": [],
   "source": [
    "my_list = ['a','b','c','d']\n",
    "result_list = []\n",
    "\n",
    "for i in range(2):\n",
    "    for j in my_list:\n",
    "        result_list.append((i, j))\n",
    "        \n",
    "print(result_list)"
   ]
  },
  {
   "cell_type": "code",
   "execution_count": null,
   "metadata": {},
   "outputs": [],
   "source": [
    "my_list = ['a','b','c','d']\n",
    "\n",
    "result_list = [(i, j) for i in range(2) for j in my_list]\n",
    "\n",
    "print(result_list)"
   ]
  },
  {
   "cell_type": "code",
   "execution_count": null,
   "metadata": {},
   "outputs": [],
   "source": [
    "my_list = ['a','b','c','d']\n",
    "\n",
    "# 인자로 받은 리스트를 가공해서 만든 데이터셋 리스트를 리턴하는 함수\n",
    "def get_dataset_list(my_list):\n",
    "    result_list = []\n",
    "    for i in range(2):\n",
    "        for j in my_list:\n",
    "            result_list.append((i, j))\n",
    "    print('>>  {} data loaded..'.format(len(result_list)))\n",
    "    return result_list\n",
    "\n",
    "for X, y in get_dataset_list(my_list):\n",
    "    print(X, y)"
   ]
  },
  {
   "cell_type": "code",
   "execution_count": null,
   "metadata": {},
   "outputs": [],
   "source": [
    "my_list = ['a','b','c','d']\n",
    "\n",
    "# 인자로 받은 리스트로부터 데이터를 하나씩 가져오는 제너레이터를 리턴하는 함수\n",
    "def get_dataset_generator(my_list):\n",
    "    result_list = []\n",
    "    for i in range(2):\n",
    "        for j in my_list:\n",
    "            yield (i, j)   # 이 줄이 이전의 append 코드를 대체했습니다\n",
    "            print('>>  1 data loaded..')\n",
    "\n",
    "dataset_generator = get_dataset_generator(my_list)\n",
    "for X, y in dataset_generator:\n",
    "    print(X, y)"
   ]
  },
  {
   "cell_type": "markdown",
   "metadata": {},
   "source": [
    "## 8-4. 파이썬을 더 잘 사용해보자! (2) Try - Except 예외 처리하기"
   ]
  },
  {
   "cell_type": "code",
   "execution_count": null,
   "metadata": {},
   "outputs": [],
   "source": [
    "print(10/0)"
   ]
  },
  {
   "cell_type": "code",
   "execution_count": null,
   "metadata": {},
   "outputs": [],
   "source": [
    "a = 10\n",
    "b = 0\n",
    "try:\n",
    "    #실행 코드\n",
    "    print(a/b)\n",
    "\t\t\n",
    "except:\n",
    "    #에러가 발생했을 때 처리하는 코드\n",
    "    print('에러가 발생했습니다.')"
   ]
  },
  {
   "cell_type": "code",
   "execution_count": null,
   "metadata": {},
   "outputs": [],
   "source": [
    "a = 10\n",
    "b = 1\n",
    "\n",
    "try:\n",
    "    #실행 코드\n",
    "    print(a/b)\n",
    "\t\t\n",
    "except:\n",
    "    #에러가 발생했을 때 처리하는 코드\n",
    "    print('에러가 발생했습니다.')"
   ]
  },
  {
   "cell_type": "code",
   "execution_count": null,
   "metadata": {},
   "outputs": [],
   "source": [
    "a = 10\n",
    "b = 0 \n",
    "\n",
    "try:\n",
    "    #실행 코드\n",
    "    print(a/b)\n",
    "\t\t\n",
    "except:\n",
    "    print('에러가 발생했습니다.')\n",
    "    #에러가 발생했을 때 처리하는 코드\n",
    "    b = b+1\n",
    "    print(\"값 수정 : \", a/b)"
   ]
  },
  {
   "cell_type": "markdown",
   "metadata": {},
   "source": [
    "## 8-5. 파이썬을 더 잘 사용해보자! (3) Multiprocessing"
   ]
  },
  {
   "cell_type": "code",
   "execution_count": null,
   "metadata": {},
   "outputs": [],
   "source": [
    "import time\n",
    "start = time.time()  # 시작 시간 저장\n",
    "\n",
    "a = 1\n",
    "for i in range(100):\n",
    "\ta += 1\n",
    " \n",
    "# 작업 코드\n",
    "print(\"time :\", time.time() - start) # 결과는 '초' 단위 입니다."
   ]
  },
  {
   "cell_type": "code",
   "execution_count": null,
   "metadata": {},
   "outputs": [],
   "source": [
    "import time\n",
    "\n",
    "num_list = ['p1','p2', 'p3', 'p4']\n",
    "start = time.time()\n",
    "\n",
    "def count(name):\n",
    "    for i in range(0, 100000000):\n",
    "        a = 1 + 2\n",
    "        \n",
    "    print(\"finish:\"+name+\"\\n\")\n",
    "\n",
    "for num in num_list:\n",
    "    count(num)\n",
    "\n",
    "print(\"time :\", time.time() - start)"
   ]
  },
  {
   "cell_type": "code",
   "execution_count": null,
   "metadata": {},
   "outputs": [],
   "source": [
    "import multiprocessing\n",
    "import time\n",
    "\n",
    "num_list = ['p1','p2', 'p3', 'p4']\n",
    "start = time.time()\n",
    "\n",
    "def count(name):\n",
    "    for i in range(0, 100000000):\n",
    "        a = 1+2\n",
    "    print(\"finish:\"+name+\"\\n\")\n",
    "    \n",
    "\n",
    "if __name__ == '__main__':\n",
    "    pool = multiprocessing.Pool(processes = 4)\n",
    "    pool.map(count, num_list)\n",
    "    pool.close()\n",
    "    pool.join()\n",
    "\n",
    "print(\"time :\", time.time() - start)"
   ]
  },
  {
   "cell_type": "code",
   "execution_count": null,
   "metadata": {},
   "outputs": [],
   "source": [
    "import multiprocessing\n",
    "\n",
    "def count(name):\n",
    "    for i in range(0, 100000000):\n",
    "        a = 1 + 2\n",
    "    print(\"finish:\"+name+\"\\n\")"
   ]
  },
  {
   "cell_type": "code",
   "execution_count": null,
   "metadata": {},
   "outputs": [],
   "source": [
    "num_list = ['p1','p2', 'p3', 'p4']\n",
    "\n",
    "if __name__ == '__main__':\n",
    "    pool = multiprocessing.Pool(processes = 4)\n",
    "    pool.map(count, num_list)\n",
    "    pool.close()\n",
    "    pool.join()"
   ]
  },
  {
   "cell_type": "markdown",
   "metadata": {},
   "source": [
    "## 8-6. 같은 코드 두 번 짜지 말자! (1) 함수 사용하기"
   ]
  },
  {
   "cell_type": "code",
   "execution_count": null,
   "metadata": {},
   "outputs": [],
   "source": [
    "def function_f(input_x):\n",
    "\toutput_x = input_x*input_x\n",
    "\treturn output_x"
   ]
  },
  {
   "cell_type": "code",
   "execution_count": null,
   "metadata": {},
   "outputs": [],
   "source": [
    "list_data = [10, 20, 30, 40]\n",
    "list_data2 = [20, 30, 40, 50]\n",
    "\n",
    "length = len(list_data)\n",
    "max_result = list_data[0]\n",
    "for i in range(length):\n",
    "    if max_result < list_data[i]:\n",
    "        max_result = list_data[i]\n",
    "        \n",
    "print(\"최댓값은 \", max_result)\n",
    "\n",
    "length = len(list_data2)\n",
    "max_result = list_data2[0]\n",
    "for i in range(length):\n",
    "    if max_result < list_data2[i]:\n",
    "        max_result = list_data2[i]\n",
    "        \n",
    "print(\"최댓값은 \", max_result)"
   ]
  },
  {
   "cell_type": "code",
   "execution_count": null,
   "metadata": {},
   "outputs": [],
   "source": [
    "list_data = [10, 20, 30, 40]\n",
    "list_data2 = [20, 30, 40, 50]\n",
    "\n",
    "def max_function(x):\n",
    "    length = len(x)\n",
    "    max_result = x[0]\n",
    "    for i in range(length):\n",
    "        if max_result < x[i]:\n",
    "            max_result = x[i]\n",
    "    return max_result\n",
    "\n",
    "print(\"최댓값은 \", max_function(list_data))\n",
    "print(\"최댓값은 \", max_function(list_data2))"
   ]
  },
  {
   "cell_type": "markdown",
   "metadata": {},
   "source": [
    "## 8-7. 같은 코드 두 번 짜지 말자! (2) 함수 사용 팁"
   ]
  },
  {
   "cell_type": "code",
   "execution_count": null,
   "metadata": {},
   "outputs": [],
   "source": [
    "def empty_function():"
   ]
  },
  {
   "cell_type": "code",
   "execution_count": null,
   "metadata": {},
   "outputs": [],
   "source": [
    "def empty_function():\n",
    "    pass"
   ]
  },
  {
   "cell_type": "code",
   "execution_count": null,
   "metadata": {},
   "outputs": [],
   "source": [
    "def say_something(txt):\n",
    "    return txt\n",
    "\n",
    "def send(function, count):\n",
    "    for i in range(count):  \n",
    "        print(function)\n",
    "    \n",
    "send(say_something(\"안녕!\"), 2)"
   ]
  },
  {
   "cell_type": "code",
   "execution_count": null,
   "metadata": {},
   "outputs": [],
   "source": [
    "list_data = [30, 20, 30, 40]\n",
    "\n",
    "def minmax_function(x_list):\n",
    "        \n",
    "    def inner_min_function(x):\n",
    "        length = len(x)\n",
    "        min_result = x[0]\n",
    "        for i in range(length):\n",
    "            if min_result > x[i]:\n",
    "                min_result = x[i]\n",
    "        return min_result\n",
    "    \n",
    "    def inner_max_function(x):\n",
    "        length = len(x)\n",
    "        max_result = x[0]\n",
    "        for i in range(length):\n",
    "            if max_result < x[i]:\n",
    "                max_result = x[i]\n",
    "        return max_result\n",
    "        \n",
    "    x_min = inner_min_function(x_list)\n",
    "    x_max = inner_max_function(x_list)\n",
    "    \n",
    "    minmax_list = [x_min, x_max]\n",
    "\n",
    "    return minmax_list\n",
    "\n",
    "print(\"최솟값, 최댓값은 : \", minmax_function(list_data))\n",
    "print(\"최솟값은 : \", minmax_function(list_data)[0])\n",
    "print(\"최댓값은 : \", minmax_function(list_data)[1])"
   ]
  },
  {
   "cell_type": "code",
   "execution_count": null,
   "metadata": {},
   "outputs": [],
   "source": [
    "print(\"최솟값, 최댓값은 : \", inner_min_function(list_data)) # 변경\n",
    "print(\"최솟값은 : \", minmax_function(list_data)[0])\n",
    "print(\"최댓값은 : \", minmax_function(list_data)[1])"
   ]
  },
  {
   "cell_type": "code",
   "execution_count": null,
   "metadata": {},
   "outputs": [],
   "source": [
    "list_data = [30, 20, 30, 40]\n",
    "\n",
    "def minmax_function(x_list):\n",
    "        \n",
    "    def inner_min_function(x):\n",
    "        length = len(x)\n",
    "        min_result = x[0]\n",
    "        for i in range(length):\n",
    "            if min_result > x[i]:\n",
    "                min_result = x[i]\n",
    "        return min_result\n",
    "    \n",
    "    def inner_max_function(x):\n",
    "        length = len(x)\n",
    "        max_result = x[0]\n",
    "        for i in range(length):\n",
    "            if max_result < x[i]:\n",
    "                max_result = x[i]\n",
    "        return max_result\n",
    "        \n",
    "    x_min = inner_min_function(x_list)\n",
    "    x_max = inner_max_function(x_list)\n",
    "    \n",
    "    return x_min, x_max\n",
    "\n",
    "min_value, max_value = minmax_function(list_data)\n",
    "\n",
    "print(\"최솟값은 : \", min_value)\n",
    "print(\"최댓값은 : \", max_value)"
   ]
  },
  {
   "cell_type": "markdown",
   "metadata": {},
   "source": [
    "## 8-8. 같은 코드 두 번 짜지 말자! (3) 람다 표현식"
   ]
  },
  {
   "cell_type": "code",
   "execution_count": null,
   "metadata": {},
   "outputs": [],
   "source": [
    "def add(x, y):\n",
    "    return x + y"
   ]
  },
  {
   "cell_type": "code",
   "execution_count": null,
   "metadata": {},
   "outputs": [],
   "source": [
    "def add(x, y): return x + y"
   ]
  },
  {
   "cell_type": "code",
   "execution_count": null,
   "metadata": {},
   "outputs": [],
   "source": [
    "print( (lambda x,y: x + y)(10, 20) )"
   ]
  },
  {
   "cell_type": "code",
   "execution_count": null,
   "metadata": {},
   "outputs": [],
   "source": [
    "def list_mul(x):\n",
    "     return x * 2\n",
    "\n",
    "result = list(map(list_mul, [1, 2, 3]))\n",
    "print(result)\n",
    "\n",
    "# 각 함수를 실행할 때마다 어떤 결과가 나오는지 궁금하다면 아래 주석을 풀고 실행해보세요! \n",
    "# map_res = map(list_mul, [1, 2, 3])\n",
    "# print(map_res)\n",
    "# list_map_res = list(map_res)\n",
    "# print(list_map_res)"
   ]
  },
  {
   "cell_type": "code",
   "execution_count": null,
   "metadata": {},
   "outputs": [],
   "source": [
    "result = list(map(lambda i: i * 2 , [1, 2, 3]))\n",
    "print(result)"
   ]
  },
  {
   "cell_type": "markdown",
   "metadata": {},
   "source": [
    "## 8-9. 같은 코드 두 번 짜지 말자! (4) 클래스, 모듈, 패키지"
   ]
  },
  {
   "cell_type": "code",
   "execution_count": null,
   "metadata": {},
   "outputs": [],
   "source": [
    "# mycalculator.py\n",
    "\n",
    "test = \"you can use this module.\"\n",
    "\n",
    "def add(a, b):\n",
    "    return a + b\n",
    " \n",
    "def mul(a, b):\n",
    "    return a * b\n",
    "\n",
    "def sub(a, b):\n",
    "    return a - b\n",
    "\n",
    "def div(a, b):\n",
    "    return a / b\n",
    "\n",
    "\n",
    "class all_calc():\n",
    "\n",
    "    def __init__(self, a, b):\n",
    "        self.a = a\n",
    "        self.b = b\n",
    "\n",
    "    def add(self):\n",
    "        return self.a + self.b\n",
    " \n",
    "    def mul(self):\n",
    "        return self.a * self.b\n",
    "\n",
    "    def sub(self):\n",
    "        return self.a - self.b\n",
    "\n",
    "    def div(self):\n",
    "        return self.a / self.b"
   ]
  },
  {
   "cell_type": "code",
   "execution_count": null,
   "metadata": {},
   "outputs": [],
   "source": [
    "code = '# mycalculator.py\\ntest = \"you can use this module.\"\\n\\ndef add(a, b):\\n    return a + b\\n \\ndef mul(a, b):\\n    return a * b\\n\\ndef sub(a, b):\\n    return a - b\\n\\ndef div(a, b):\\n    return a / b\\n\\n\\nclass all_calc():\\n\\n    def __init__(self, a, b):\\n        self.a = a\\n        self.b = b\\n\\n    def add(self):\\n        return self.a + self.b\\n \\n    def mul(self):\\n        return self.a * self.b\\n\\n    def sub(self):\\n        return self.a - self.b\\n\\n    def div(self):\\n        return self.a / self.b'\n",
    "\n",
    "f = open(\"mycalculator.py\", \"w\")\n",
    "f.write(code)\n",
    "f.close()"
   ]
  },
  {
   "cell_type": "code",
   "execution_count": null,
   "metadata": {},
   "outputs": [],
   "source": [
    "# import 모듈이름\n",
    "import mycalculator"
   ]
  },
  {
   "cell_type": "code",
   "execution_count": null,
   "metadata": {},
   "outputs": [],
   "source": [
    "# 모듈이름.함수이름()\n",
    "print(mycalculator.add(4, 2))"
   ]
  },
  {
   "cell_type": "code",
   "execution_count": null,
   "metadata": {},
   "outputs": [],
   "source": [
    "import mycalculator as mc\n",
    "\n",
    "# 모듈이름.함수이름()\n",
    "print(mc.add(4, 2))"
   ]
  },
  {
   "cell_type": "markdown",
   "metadata": {},
   "source": [
    "```bash\n",
    "# pip install 패키지이름\n",
    "$ pip install pandas\n",
    "```"
   ]
  },
  {
   "cell_type": "markdown",
   "metadata": {},
   "source": [
    "## 8-10. 프로그래밍 패러다임과 함수형 프로그래밍"
   ]
  },
  {
   "cell_type": "code",
   "execution_count": null,
   "metadata": {},
   "outputs": [],
   "source": [
    "A = 5\n",
    "\n",
    "def impure_mul(b):\n",
    "    return b * A\n",
    "\n",
    "print(impure_mul(6))"
   ]
  },
  {
   "cell_type": "code",
   "execution_count": null,
   "metadata": {},
   "outputs": [],
   "source": [
    "def pure_mul(a, b):\n",
    "    return a * b\n",
    "\n",
    "print(pure_mul(4, 6))"
   ]
  },
  {
   "cell_type": "markdown",
   "metadata": {},
   "source": [
    "## 8-11. 파이써닉하게 코드를 짜보자"
   ]
  },
  {
   "cell_type": "markdown",
   "metadata": {},
   "source": [
    "```python\n",
    "y = a + a + a + a # 79자 이하\n",
    "```"
   ]
  },
  {
   "cell_type": "markdown",
   "metadata": {},
   "source": [
    "```python\n",
    "class a():\n",
    "    pass\n",
    "# 빈 줄\n",
    "# 빈 줄\n",
    "class b():\n",
    "    pass\n",
    "# 빈 줄\n",
    "# 빈 줄\n",
    "def c():\n",
    "    pass\n",
    "# 빈 줄\n",
    "# 빈 줄\n",
    "```"
   ]
  },
  {
   "cell_type": "markdown",
   "metadata": {},
   "source": [
    "```python\n",
    "class a():\n",
    "\t\n",
    "\tdef b():\n",
    "\t\tpass\n",
    "\t\n",
    "\tdef c():\n",
    "\t\tpass\n",
    "```"
   ]
  },
  {
   "cell_type": "markdown",
   "metadata": {},
   "source": [
    "```python\n",
    "y = 1\n",
    "```"
   ]
  },
  {
   "cell_type": "markdown",
   "metadata": {},
   "source": [
    "```python\n",
    "my_list = [1, 2, 3]\n",
    "my_list[0] # 리스트 인덱스 호출\n",
    "\n",
    "my_function(0) # 함수 호출\n",
    "```"
   ]
  },
  {
   "cell_type": "markdown",
   "metadata": {},
   "source": [
    "```python\n",
    "my_list = [1, 2, 3]; my_list[0:1]\n",
    "if len(my_list) == 3: print my_list\n",
    "```"
   ]
  },
  {
   "cell_type": "markdown",
   "metadata": {},
   "source": [
    "```python\n",
    "_my_list = []\n",
    "```"
   ]
  },
  {
   "cell_type": "markdown",
   "metadata": {},
   "source": [
    "```python\n",
    "import_ = \"not_import\"\n",
    "```"
   ]
  },
  {
   "cell_type": "markdown",
   "metadata": {},
   "source": [
    "```bash\n",
    "my_module.py\n",
    "```"
   ]
  },
  {
   "cell_type": "markdown",
   "metadata": {},
   "source": [
    "```python\n",
    "class MyClass():\n",
    "\tpass\n",
    "```"
   ]
  },
  {
   "cell_type": "markdown",
   "metadata": {},
   "source": [
    "```python\n",
    "def my_function():\n",
    "\tpass\n",
    "```"
   ]
  },
  {
   "cell_type": "markdown",
   "metadata": {},
   "source": [
    "```python\n",
    "MY_PI = 3.14 # 상수는 변하지 않는 변수입니다.\n",
    "```"
   ]
  }
 ],
 "metadata": {
  "interpreter": {
   "hash": "b3ce9abe337a9e694d01ea52d504102083454ad8bd4b0e3a574e4432f4229329"
  },
  "kernelspec": {
   "display_name": "Python 3.8.12 ('aiffel_3.8')",
   "language": "python",
   "name": "python3"
  },
  "language_info": {
   "name": "python",
   "version": "3.8.12"
  },
  "orig_nbformat": 4
 },
 "nbformat": 4,
 "nbformat_minor": 2
}
