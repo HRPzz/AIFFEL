{
 "cells": [
  {
   "cell_type": "markdown",
   "metadata": {},
   "source": [
    "# 2. 인공지능 개발자가 되기 위한 위대한 첫 걸음\n",
    "\n",
    "**실습 진행 환경인 Ubuntu, Python, Tensorflow 등에 대해 직관적으로 이해하고, Anaconda를 활용하여 나만의 실습환경 구성을 완료한다.**"
   ]
  },
  {
   "cell_type": "markdown",
   "metadata": {},
   "source": [
    "## 2-1. 인공지능 개발자가 되기 위한 위대한 첫 걸음"
   ]
  },
  {
   "cell_type": "markdown",
   "metadata": {},
   "source": [
    "## 2-2. 까만 화면에 흰 글씨, 해커만 쓰는 거 아니냐고? 나도 쓸 수 있다!"
   ]
  },
  {
   "cell_type": "markdown",
   "metadata": {},
   "source": [
    "```bash\n",
    "$ python3\n",
    "```"
   ]
  },
  {
   "cell_type": "markdown",
   "metadata": {},
   "source": [
    "```python\n",
    ">>> print(\"Hello World!\")\n",
    "Hello World\n",
    "```"
   ]
  },
  {
   "cell_type": "markdown",
   "metadata": {},
   "source": [
    "```python\n",
    ">>> import tensorflow as tf\n",
    "```"
   ]
  },
  {
   "cell_type": "markdown",
   "metadata": {},
   "source": [
    "```python\n",
    ">>> print(tf.__version__)\n",
    "2.6.0\n",
    "```"
   ]
  },
  {
   "cell_type": "markdown",
   "metadata": {},
   "source": [
    "```python\n",
    ">>> exit()\n",
    "```"
   ]
  },
  {
   "cell_type": "markdown",
   "metadata": {},
   "source": [
    "## 2-3. 터미널을 자유자재로, 내 친구 삼기"
   ]
  },
  {
   "cell_type": "markdown",
   "metadata": {},
   "source": [
    "```bash\n",
    "$ whoami\n",
    "```"
   ]
  },
  {
   "cell_type": "markdown",
   "metadata": {},
   "source": [
    "```bash\n",
    "$ pwd\n",
    "/aiffel\n",
    "```"
   ]
  },
  {
   "cell_type": "markdown",
   "metadata": {},
   "source": [
    "```bash\n",
    "$ ls\n",
    "aiffel  data\n",
    "```"
   ]
  },
  {
   "cell_type": "markdown",
   "metadata": {},
   "source": [
    "```bash\n",
    "$ ls -al\n",
    "total 32\n",
    "drwxr-xr-x 1 root root 4096 Jun  9 02:38 .\n",
    "drwxr-xr-x 1 root root 4096 Jun  9 02:38 ..\n",
    "drwxrwxrwx 2 root root    0 Jun  1 07:53 aiffel\n",
    "drwxr-xr-x 1 root root 4096 Apr 19 09:30 .cache\n",
    "drwxrwsr-x 2 root root 4096 Apr 19 09:30 .conda\n",
    "drwxr-xr-x 6 root root 4096 May 24 09:42 data\n",
    "drwx------ 1 root root 4096 Apr 19 09:23 .jupyter\n",
    "drwxr-xr-x 3 root root 4096 Jun  9 02:38 .local\n",
    "-rw-r--r-- 1 root root  170 Apr 19 09:28 .wget-hsts\n",
    "```"
   ]
  },
  {
   "cell_type": "markdown",
   "metadata": {},
   "source": [
    "```bash\n",
    "$ cd aiffel\n",
    "$ pwd\n",
    "\n",
    "/aiffel/aiffel\n",
    "```"
   ]
  },
  {
   "cell_type": "markdown",
   "metadata": {},
   "source": [
    "```bash\n",
    "$ cd ..\n",
    "$ pwd\n",
    "\n",
    "/aiffel\n",
    "```"
   ]
  },
  {
   "cell_type": "markdown",
   "metadata": {},
   "source": [
    "```bash\n",
    "$ cd ~\n",
    "$ pwd\n",
    "\n",
    "/aiffel\n",
    "```"
   ]
  },
  {
   "cell_type": "markdown",
   "metadata": {},
   "source": [
    "```bash\n",
    "$ mkdir new_folder\n",
    "$ ls\n",
    "\n",
    "aiffel  data  new_folder\n",
    "```"
   ]
  },
  {
   "cell_type": "markdown",
   "metadata": {},
   "source": [
    "```bash\n",
    "$ rm -r new_folder\n",
    "$ ls\n",
    "\n",
    "aiffel  data\n",
    "```"
   ]
  },
  {
   "cell_type": "markdown",
   "metadata": {},
   "source": [
    "```bash\n",
    "$ cd ~\n",
    "$ mkdir new_folder\n",
    "$ mv new_folder aiffel\n",
    "```"
   ]
  },
  {
   "cell_type": "markdown",
   "metadata": {},
   "source": [
    "```bash\n",
    "$ cd aiffel\n",
    "$ ls\n",
    "\n",
    "new_folder\n",
    "```"
   ]
  },
  {
   "cell_type": "markdown",
   "metadata": {},
   "source": [
    "```bash\n",
    "$ cp -r new_folder ..\n",
    "$ cd ..\n",
    "ls\n",
    "\n",
    "aiffel  data  new_folder\n",
    "```"
   ]
  },
  {
   "cell_type": "markdown",
   "metadata": {},
   "source": [
    "## 2-4. Terminal, 또 무엇을 할 수 있을까?"
   ]
  },
  {
   "cell_type": "markdown",
   "metadata": {},
   "source": [
    "## 2-5. 가상환경으로 패키지를 조금 더 유연하게 관리해보자"
   ]
  }
 ],
 "metadata": {
  "interpreter": {
   "hash": "b3ce9abe337a9e694d01ea52d504102083454ad8bd4b0e3a574e4432f4229329"
  },
  "kernelspec": {
   "display_name": "Python 3.8.12 ('aiffel_3.8')",
   "language": "python",
   "name": "python3"
  },
  "language_info": {
   "name": "python",
   "version": "3.8.12"
  },
  "orig_nbformat": 4
 },
 "nbformat": 4,
 "nbformat_minor": 2
}
