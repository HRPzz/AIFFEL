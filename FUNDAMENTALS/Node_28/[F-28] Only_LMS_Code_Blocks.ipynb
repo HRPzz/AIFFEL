{
 "cells": [
  {
   "cell_type": "markdown",
   "metadata": {},
   "source": [
    "# 28. 정보이론 톺아보기\n",
    "\n",
    "**머신러닝의 가장 중요한 이론 중 하나인 정보이론(Information Theory)의 주요 개념인 Entropy, Cross Entropy, KL divergence 등의 개념을 파악하고, 이런 개념들이 머신러닝 이론과 어떻게 연결되는지의 사례를 알아본다.**"
   ]
  },
  {
   "cell_type": "markdown",
   "metadata": {},
   "source": [
    "## 28-1. 들어가며"
   ]
  },
  {
   "cell_type": "markdown",
   "metadata": {},
   "source": [
    "## 28-2. Information Content"
   ]
  },
  {
   "cell_type": "code",
   "execution_count": null,
   "metadata": {},
   "outputs": [],
   "source": [
    "import numpy as np\n",
    "import math\n",
    "import random\n",
    "\n",
    "# 주머니 속에 들어있는 공의 개수입니다. 숫자를 바꾸면서 실험해보세요!\n",
    "total = 1000\n",
    "\n",
    "#---------------#\n",
    "\n",
    "count = 1   # 실험이 끝날 때까지 꺼낸 공의 개수\n",
    "\n",
    "# 1부터 total까지의 정수 중에서 하나를 뽑고 total과 같으면 실험 종료\n",
    "# total=1000인 경우 1~999: blue / 1000: red\n",
    "while True:\n",
    "    sample = random.randrange(1,total+1)\n",
    "    if sample == total:\n",
    "        break\n",
    "    count += 1\n",
    "\n",
    "print('number of blue samples: '+str(count-1))\n",
    "print('information content: '+str(-math.log(1/count)))"
   ]
  },
  {
   "cell_type": "markdown",
   "metadata": {},
   "source": [
    "## 28-3. Entropy"
   ]
  },
  {
   "cell_type": "markdown",
   "metadata": {},
   "source": [
    "## 28-4. Kullback Leibler Divergence"
   ]
  },
  {
   "cell_type": "markdown",
   "metadata": {},
   "source": [
    "## 28-5. Cross Entropy Loss"
   ]
  },
  {
   "cell_type": "code",
   "execution_count": null,
   "metadata": {},
   "outputs": [],
   "source": [
    "import numpy as np\n",
    "import random\n",
    "\n",
    "# generate random output\n",
    "#-----------------#\n",
    "# can be modified\n",
    "class_num = 4\n",
    "#-----------------#\n",
    "q_vector = []\n",
    "total = 1\n",
    "\n",
    "for i in range(class_num-1):\n",
    "    q = random.uniform(0,total)\n",
    "    q_vector.append(round(q,3))\n",
    "    total = total - q\n",
    "\n",
    "q_vector.append(total)\n",
    "softmax_output = np.array(q_vector)\n",
    "\n",
    "print(softmax_output)"
   ]
  },
  {
   "cell_type": "code",
   "execution_count": null,
   "metadata": {},
   "outputs": [],
   "source": [
    "#-----------------#\n",
    "# can be modified\n",
    "class_index = 1\n",
    "#-----------------#\n",
    "\n",
    "p_vector = np.zeros(class_num)\n",
    "p_vector[class_index-1] = 1\n",
    "\n",
    "cross_entropy = -np.sum(np.multiply(p_vector, np.log(softmax_output)))\n",
    "\n",
    "print('model prediction: '+str(softmax_output))\n",
    "print('data label: '+str(p_vector))\n",
    "print('cross entropy: '+str(round(cross_entropy,4)))"
   ]
  },
  {
   "cell_type": "markdown",
   "metadata": {},
   "source": [
    "## 28-6. Decision Tree와 Entropy"
   ]
  },
  {
   "cell_type": "markdown",
   "metadata": {},
   "source": [
    "```bash\n",
    "$ mkdir -p ~/aiffel/information_theory\n",
    "$ ln -s ~/data/* ~/aiffel/information_theory\n",
    "```"
   ]
  },
  {
   "cell_type": "code",
   "execution_count": null,
   "metadata": {},
   "outputs": [],
   "source": [
    "import pandas as pd\n",
    "import numpy as np\n",
    "from sklearn.tree import DecisionTreeClassifier \n",
    "from sklearn.model_selection import train_test_split \n",
    "from sklearn import metrics"
   ]
  },
  {
   "cell_type": "code",
   "execution_count": null,
   "metadata": {},
   "outputs": [],
   "source": [
    "import os\n",
    "csv_path = os.getenv('HOME')+'/aiffel/information_theory/diabetes.csv'\n",
    "\n",
    "col_names = ['pregnant', 'glucose', 'bp', 'skin', 'insulin', 'bmi', 'pedigree', 'age', 'label']\n",
    "# load dataset\n",
    "df = pd.read_csv(csv_path, header=0, names=col_names)\n",
    "df.head()"
   ]
  },
  {
   "cell_type": "code",
   "execution_count": null,
   "metadata": {},
   "outputs": [],
   "source": [
    "# 데이터셋 준비\n",
    "feature_cols = ['pregnant', 'insulin', 'bmi', 'age', 'glucose', 'bp', 'pedigree']\n",
    "X = df[feature_cols] # Features\n",
    "y = df.label # Target variable\n",
    "\n",
    "# Split dataset into training set and test set\n",
    "X_train, X_test, y_train, y_test = train_test_split(X, y, test_size=0.3, random_state=1)\n",
    "\n",
    "print('슝=3')"
   ]
  },
  {
   "cell_type": "code",
   "execution_count": null,
   "metadata": {},
   "outputs": [],
   "source": [
    "# Decision Tree  모델 학습\n",
    "# Create Decision Tree classifer object\n",
    "clf = DecisionTreeClassifier()\n",
    "\n",
    "# Train Decision Tree Classifer\n",
    "clf = clf.fit(X_train,y_train)\n",
    "\n",
    "#Predict the response for test dataset\n",
    "y_pred = clf.predict(X_test)\n",
    "\n",
    "print(\"Accuracy:\",metrics.accuracy_score(y_test, y_pred))"
   ]
  },
  {
   "cell_type": "code",
   "execution_count": null,
   "metadata": {},
   "outputs": [],
   "source": [
    "from sklearn.tree import export_graphviz\n",
    "from six import StringIO  \n",
    "from IPython.display import Image  \n",
    "import pydotplus\n",
    "\n",
    "dot_data = StringIO()\n",
    "export_graphviz(clf, \n",
    "                out_file=dot_data,  \n",
    "                filled=True, \n",
    "                rounded=True,\n",
    "                special_characters=True, \n",
    "                feature_names=feature_cols, \n",
    "                class_names=['0','1'])\n",
    "graph = pydotplus.graph_from_dot_data(dot_data.getvalue())  \n",
    "graph.write_png('diabetes1.png')\n",
    "Image(graph.create_png(), retina=True)"
   ]
  },
  {
   "cell_type": "code",
   "execution_count": null,
   "metadata": {},
   "outputs": [],
   "source": [
    "# 정보 이득이 되지 않고 남은 Impurity  총량 측정\n",
    "ccp_path1 = clf.cost_complexity_pruning_path(X_train,y_train)\n",
    "ccp_path2 = clf.cost_complexity_pruning_path(X_test,y_test)\n",
    "print(np.mean(ccp_path1.impurities))\n",
    "print(np.mean(ccp_path2.impurities))"
   ]
  },
  {
   "cell_type": "code",
   "execution_count": null,
   "metadata": {},
   "outputs": [],
   "source": [
    "clf = DecisionTreeClassifier(criterion=\"entropy\", max_depth=3)\n",
    "\n",
    "# Train Decision Tree Classifer\n",
    "clf = clf.fit(X_train, y_train)\n",
    "\n",
    "#Predict the response for test dataset\n",
    "y_pred = clf.predict(X_test)\n",
    "\n",
    "# Model Accuracy, how often is the classifier correct?\n",
    "print(\"Accuracy:\",metrics.accuracy_score(y_test, y_pred))"
   ]
  },
  {
   "cell_type": "code",
   "execution_count": null,
   "metadata": {},
   "outputs": [],
   "source": [
    "dot_data = StringIO()\n",
    "export_graphviz(clf, \n",
    "                out_file=dot_data,  \n",
    "                filled=True, \n",
    "                rounded=True,\n",
    "                special_characters=True,\n",
    "                feature_names = feature_cols,\n",
    "                class_names=['0','1'])\n",
    "graph = pydotplus.graph_from_dot_data(dot_data.getvalue())  \n",
    "graph.write_png('diabetes2.png')\n",
    "Image(graph.create_png(), retina=True)"
   ]
  },
  {
   "cell_type": "code",
   "execution_count": null,
   "metadata": {},
   "outputs": [],
   "source": [
    "# 정보이득이 되지 않고 남은 Impurity  총량 측정\n",
    "ccp_path1 = clf.cost_complexity_pruning_path(X_train,y_train)\n",
    "ccp_path2 = clf.cost_complexity_pruning_path(X_test,y_test)\n",
    "print(np.mean(ccp_path1.impurities))\n",
    "print(np.mean(ccp_path2.impurities))"
   ]
  }
 ],
 "metadata": {
  "interpreter": {
   "hash": "b3ce9abe337a9e694d01ea52d504102083454ad8bd4b0e3a574e4432f4229329"
  },
  "kernelspec": {
   "display_name": "Python 3.8.12 ('aiffel_3.8')",
   "language": "python",
   "name": "python3"
  },
  "language_info": {
   "name": "python",
   "version": "3.8.12"
  },
  "orig_nbformat": 4
 },
 "nbformat": 4,
 "nbformat_minor": 2
}
