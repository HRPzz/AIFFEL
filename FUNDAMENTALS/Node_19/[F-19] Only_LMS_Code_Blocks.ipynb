{
 "cells": [
  {
   "cell_type": "markdown",
   "metadata": {},
   "source": [
    "# 19. 선형 회귀와 로지스틱 회귀\n",
    "\n",
    "**선형 회귀와 로지스틱 회귀의 개념을 익히고 유방암 데이터 셋으로 실습해본다.**"
   ]
  },
  {
   "cell_type": "markdown",
   "metadata": {},
   "source": [
    "## 19-1. 회귀(Regression)에 대하여"
   ]
  },
  {
   "cell_type": "markdown",
   "metadata": {},
   "source": [
    "## 19-2. 선형 회귀 분석(Linear Regression)"
   ]
  },
  {
   "cell_type": "code",
   "execution_count": null,
   "metadata": {},
   "outputs": [],
   "source": [
    "from sklearn.datasets import load_boston\n",
    "from sklearn import model_selection\n",
    "import pandas as pd\n",
    "import numpy as np\n",
    "\n",
    "# 데이터 로드\n",
    "boston = load_boston()\n",
    "data, price = boston['data'], boston['target']\n",
    "x_train, x_test, y_train, y_test = model_selection.train_test_split(data, price, test_size=0.2)\n",
    "\n",
    "df = pd.DataFrame(x_train, columns=boston['feature_names'])\n",
    "print(\"boston dataset의 차원: \", data.shape)\n",
    "print(\"price의 차원\", price.shape)\n",
    "print(\"boston train dataset의 차원: \", x_train.shape)\n",
    "print(\"boston test dataset의 차원: \", x_test.shape)\n",
    "\n",
    "print(\"Boston dataset의 예시\")\n",
    "df.head() # data 요약"
   ]
  },
  {
   "cell_type": "code",
   "execution_count": null,
   "metadata": {},
   "outputs": [],
   "source": [
    "print(boston[\"DESCR\"])"
   ]
  },
  {
   "cell_type": "code",
   "execution_count": null,
   "metadata": {},
   "outputs": [],
   "source": [
    "# Boston dataset의 각 attribute에 선형회귀 적용하는 예제\n",
    "import pandas as pd\n",
    "from sklearn import datasets\n",
    "from sklearn import model_selection\n",
    "from sklearn.linear_model import LinearRegression\n",
    "from sklearn import metrics\n",
    "from sklearn import datasets\n",
    "import matplotlib.pyplot as plt\n",
    "\n",
    "fig = plt.figure(figsize=(10,35))\n",
    "fig.suptitle('Boston dataset - (X:Y = each attr: price) with R2', fontsize=16, y=0.9)\n",
    "\n",
    "for i in range(data.shape[1]): # boston dataset에서 i번째 attribute(column)을 살펴볼 거에요.\n",
    "\n",
    "    single_attr, attr_name = data[:, i].reshape(-1, 1), boston['feature_names'][i] # i번째 attribute에 대한 data 및 이름\n",
    "    estimator = LinearRegression() # 선형 회귀 모델이에요.\n",
    "\n",
    "    #x에는 single_attr, y에는 price에 해당하는 데이터를 대입해서 최소제곱법을 이용하여 모델 내에서 W, b를 구하는 과정이에요\n",
    "    estimator.fit(single_attr, price) \n",
    "\n",
    "    #위 fit() 과정을 통해 구한 회귀계수를 기반으로 회귀모델에 X값을 대입했을 때의 예측 Y 값이에요. \n",
    "    pred_price = estimator.predict(single_attr)\n",
    "\n",
    "    score = metrics.r2_score(price, pred_price) # 결정계수를 구하는 함수에요. \n",
    "\n",
    "    # 캔버스 생성\n",
    "    ax = fig.add_subplot(7, 2, i+1)\n",
    "    ax.scatter(single_attr, price) # 실제 데이터에 대한 산포도\n",
    "    ax.plot(single_attr, pred_price, color='red') # 선형회귀모델의 추세선\n",
    "    ax.set_title(\"{} x price, R2 score={:.3f}\".format(attr_name ,score)) #subplot의 제목이에요\n",
    "    ax.set_xlabel(attr_name) # x축\n",
    "    ax.set_ylabel('price') # y축"
   ]
  },
  {
   "cell_type": "markdown",
   "metadata": {},
   "source": [
    "## 19-3. 로지스틱 회귀분석(Logistic Regression)"
   ]
  },
  {
   "cell_type": "code",
   "execution_count": null,
   "metadata": {},
   "outputs": [],
   "source": [
    "# 로지스틱 회귀분석 예제: 유방암 데이터셋\n",
    "from sklearn.datasets import load_breast_cancer\n",
    "from sklearn.model_selection import train_test_split\n",
    "\n",
    "# 데이터 로드\n",
    "cancer=load_breast_cancer()\n",
    "\n",
    "# y = 0(Malignant - 악성 종양), y=1(Benign - 양성 종양)\n",
    "cancer_X, cancer_y= cancer.data, cancer['target']\n",
    "train_X, test_X, train_y, test_y = train_test_split(cancer_X, cancer_y, test_size=0.1, random_state=10) # train 데이터셋과 test 데이터셋으로 나눔\n",
    "print(\"전체 검사자 수: {}\".format(len(cancer_X)))\n",
    "print(\"Attribute 수: {}\".format(len(cancer_X[0])))\n",
    "print(\"Train dataset에 사용되는 검사자 수: {}\".format(len(train_X)))\n",
    "print(\"Test dataset에 사용되는 검사자 수: {}\".format(len(test_X)))\n",
    "cancer_df = pd.DataFrame(cancer_X, columns=cancer['feature_names'])\n",
    "cancer_df.head()"
   ]
  },
  {
   "cell_type": "code",
   "execution_count": null,
   "metadata": {},
   "outputs": [],
   "source": [
    "from sklearn.linear_model import LogisticRegression\n",
    "from sklearn.metrics import classification_report\n",
    "\n",
    "LR = LogisticRegression() #로지스틱 회귀분석\n",
    "LR.fit(train_X, train_y) # 유방암 train data를 이용하여 로지스틱 회귀분석 모델 학습\n",
    "pred = LR.predict(test_X) # 학습된 로지스틱 회귀분석 모델을 이용한 예측값 출력\n",
    "\n",
    "\n",
    "# 로지스틱 회귀분석 모델의 예측값과 실제값 비교결과를 나타낸 통계표\n",
    "print(classification_report(test_y, pred))"
   ]
  },
  {
   "cell_type": "markdown",
   "metadata": {},
   "source": [
    "## 19-4. Softmax 함수와 Cross Entropy"
   ]
  },
  {
   "cell_type": "code",
   "execution_count": null,
   "metadata": {},
   "outputs": [],
   "source": [
    "import tensorflow as tf\n",
    "from tensorflow import keras\n",
    "\n",
    "n_dense=30\n",
    "n_train_epoch=20\n",
    "num_classes = 2 # 악성, 양성\n",
    "\n",
    "model=keras.models.Sequential()\n",
    "model.add(keras.layers.Dense(num_classes, use_bias=True, activation='softmax', input_shape=(30,)))\n",
    "\n",
    "model.summary()\n",
    "model.compile(optimizer='adam',\n",
    "             loss='sparse_categorical_crossentropy',\n",
    "             metrics=['accuracy'])\n",
    "\n",
    "# 모델 훈련\n",
    "model.fit(train_X, train_y, epochs=n_train_epoch)\n",
    "\n",
    "# 모델 시험\n",
    "test_loss, test_accuracy = model.evaluate(test_X, test_y, verbose=1)\n",
    "print(\"test_loss: {} \".format(test_loss))\n",
    "print(\"test_accuracy: {}\".format(test_accuracy))"
   ]
  },
  {
   "cell_type": "code",
   "execution_count": null,
   "metadata": {},
   "outputs": [],
   "source": [
    "import tensorflow as tf\n",
    "from tensorflow import keras\n",
    "\n",
    "n_dense=30\n",
    "n_train_epoch=20\n",
    "num_classes = 2 # 악성, 양성\n",
    "\n",
    "model=keras.models.Sequential()\n",
    "\n",
    "#레이어 3장을 추가\n",
    "model.add(keras.layers.Dense(n_dense, input_shape=(30,), use_bias=True))\n",
    "model.add(keras.layers.Dense(n_dense,  use_bias=True))\n",
    "model.add(keras.layers.Dense(n_dense,  use_bias=True))\n",
    "\n",
    "model.add(keras.layers.Dense(num_classes, use_bias=True, activation='softmax'))\n",
    "\n",
    "model.summary()\n",
    "model.compile(optimizer='adam',\n",
    "             loss='sparse_categorical_crossentropy',\n",
    "             metrics=['accuracy'])\n",
    "\n",
    "# 모델 훈련\n",
    "model.fit(train_X, train_y, epochs=n_train_epoch)\n",
    "\n",
    "# 모델 시험\n",
    "test_loss, test_accuracy = model.evaluate(test_X, test_y, verbose=1)\n",
    "print(\"test_loss: {} \".format(test_loss))\n",
    "print(\"test_accuracy: {}\".format(test_accuracy))"
   ]
  },
  {
   "cell_type": "markdown",
   "metadata": {},
   "source": [
    "## 19-5. 정리 및 요약"
   ]
  }
 ],
 "metadata": {
  "interpreter": {
   "hash": "b3ce9abe337a9e694d01ea52d504102083454ad8bd4b0e3a574e4432f4229329"
  },
  "kernelspec": {
   "display_name": "Python 3.8.12 ('aiffel_3.8')",
   "language": "python",
   "name": "python3"
  },
  "language_info": {
   "name": "python",
   "version": "3.8.12"
  },
  "orig_nbformat": 4
 },
 "nbformat": 4,
 "nbformat_minor": 2
}
