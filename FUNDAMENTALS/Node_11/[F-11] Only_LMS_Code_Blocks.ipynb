{
 "cells": [
  {
   "cell_type": "markdown",
   "metadata": {},
   "source": [
    "# 11. 데이터를 한눈에! Visualization\n",
    "\n",
    "**Pandas, Matplotlib, Seaborn을 활용해 다양한 형태의 히스토그램이나 그래프로 시각화하는 기법을 익히고, 시계열 데이터를 시각화하는 실습을 진행한다.**"
   ]
  },
  {
   "cell_type": "markdown",
   "metadata": {},
   "source": [
    "## 11-1. 들어가며"
   ]
  },
  {
   "cell_type": "markdown",
   "metadata": {},
   "source": [
    "## 11-2. 파이썬으로 그래프를 그린다는건?"
   ]
  },
  {
   "cell_type": "markdown",
   "metadata": {},
   "source": [
    "```bash\n",
    "$ pip list | grep matplotlib \n",
    "$ pip list | grep seaborn\n",
    "```"
   ]
  },
  {
   "cell_type": "code",
   "execution_count": null,
   "metadata": {},
   "outputs": [],
   "source": [
    "import matplotlib.pyplot as plt\n",
    "%matplotlib inline\n",
    "\n",
    "# 그래프 데이터 \n",
    "subject = ['English', 'Math', 'Korean', 'Science', 'Computer']\n",
    "points = [40, 90, 50, 60, 100]\n",
    "\n",
    "# 축 그리기\n",
    "fig = plt.figure()\n",
    "ax1 = fig.add_subplot(1,1,1)\n",
    "\n",
    "# 그래프 그리기\n",
    "ax1.bar(subject, points)\n",
    "\n",
    "# 라벨, 타이틀 달기\n",
    "plt.xlabel('Subject')\n",
    "plt.ylabel('Points')\n",
    "plt.title(\"Yuna's Test Result\")\n",
    "\n",
    "# 보여주기\n",
    "plt.savefig('./barplot.png')  # 그래프를 이미지로 출력\n",
    "plt.show()                    # 그래프를 화면으로 출력"
   ]
  },
  {
   "cell_type": "markdown",
   "metadata": {},
   "source": [
    "## 11-3. 간단한 그래프 그리기 (1) 막대그래프 그려보기"
   ]
  },
  {
   "cell_type": "code",
   "execution_count": null,
   "metadata": {},
   "outputs": [],
   "source": [
    "import matplotlib.pyplot as plt\n",
    "%matplotlib inline\n",
    "\n",
    "# 그래프 데이터 \n",
    "subject = ['English', 'Math', 'Korean', 'Science', 'Computer']\n",
    "points = [40, 90, 50, 60, 100]"
   ]
  },
  {
   "cell_type": "code",
   "execution_count": null,
   "metadata": {},
   "outputs": [],
   "source": [
    "# 축 그리기\n",
    "fig = plt.figure() #도화지(그래프) 객체 생성\n",
    "ax1 = fig.add_subplot(1,1,1) #figure()객체에 add_subplot 메서드를 이용해 축을 그려준다."
   ]
  },
  {
   "cell_type": "code",
   "execution_count": null,
   "metadata": {},
   "outputs": [],
   "source": [
    "fig = plt.figure()"
   ]
  },
  {
   "cell_type": "code",
   "execution_count": null,
   "metadata": {},
   "outputs": [],
   "source": [
    "fig = plt.figure(figsize=(5,2))\n",
    "ax1 = fig.add_subplot(1,1,1)"
   ]
  },
  {
   "cell_type": "code",
   "execution_count": null,
   "metadata": {},
   "outputs": [],
   "source": [
    "fig = plt.figure()\n",
    "ax1 = fig.add_subplot(2,2,1)\n",
    "ax2 = fig.add_subplot(2,2,2)\n",
    "ax3 = fig.add_subplot(2,2,4)"
   ]
  },
  {
   "cell_type": "code",
   "execution_count": null,
   "metadata": {},
   "outputs": [],
   "source": [
    "# 그래프 데이터 \n",
    "subject = ['English', 'Math', 'Korean', 'Science', 'Computer']\n",
    "points = [40, 90, 50, 60, 100]\n",
    "\n",
    "# 축 그리기\n",
    "fig = plt.figure()\n",
    "ax1 = fig.add_subplot(1,1,1)\n",
    "\n",
    "# 그래프 그리기\n",
    "ax1.bar(subject,points)"
   ]
  },
  {
   "cell_type": "code",
   "execution_count": null,
   "metadata": {},
   "outputs": [],
   "source": [
    "# 그래프 데이터 \n",
    "subject = ['English', 'Math', 'Korean', 'Science', 'Computer']\n",
    "points = [40, 90, 50, 60, 100]\n",
    "\n",
    "# 축 그리기\n",
    "fig = plt.figure()\n",
    "ax1 = fig.add_subplot(1,1,1)\n",
    "\n",
    "# 그래프 그리기\n",
    "ax1.bar(subject, points)\n",
    "\n",
    "# 라벨, 타이틀 달기\n",
    "plt.xlabel('Subject')\n",
    "plt.ylabel('Points')\n",
    "plt.title(\"Yuna's Test Result\")"
   ]
  },
  {
   "cell_type": "markdown",
   "metadata": {},
   "source": [
    "## 11-4. 간단한 그래프 그리기 (2) 선 그래프 그려보기"
   ]
  },
  {
   "cell_type": "markdown",
   "metadata": {},
   "source": [
    "```bash\n",
    "$ mkdir -p ~/aiffel/data_visualization\n",
    "$ ln -s ~/data ~/aiffel/data_visualization/\n",
    "```"
   ]
  },
  {
   "cell_type": "code",
   "execution_count": null,
   "metadata": {},
   "outputs": [],
   "source": [
    "from datetime import datetime\n",
    "import pandas as pd\n",
    "import os\n",
    "\n",
    "# 그래프 데이터 \n",
    "csv_path = os.getenv(\"HOME\") + \"/aiffel/data_visualization/data/AMZN.csv\"\n",
    "data = pd.read_csv(csv_path ,index_col=0, parse_dates=True)\n",
    "price = data['Close']\n",
    "\n",
    "# 축 그리기 및 좌표축 설정\n",
    "fig = plt.figure()\n",
    "ax = fig.add_subplot(1,1,1)\n",
    "price.plot(ax=ax, style='black')\n",
    "plt.ylim([1600,2200])\n",
    "plt.xlim(['2019-05-01','2020-03-01'])\n",
    "\n",
    "# 주석달기\n",
    "important_data = [(datetime(2019, 6, 3), \"Low Price\"),(datetime(2020, 2, 19), \"Peak Price\")]\n",
    "for d, label in important_data:\n",
    "    ax.annotate(label, xy=(d, price.asof(d)+10), # 주석을 달 좌표(x,y)\n",
    "                xytext=(d,price.asof(d)+100), # 주석 텍스트가 위차할 좌표(x,y)\n",
    "                arrowprops=dict(facecolor='red')) # 화살표 추가 및 색 설정\n",
    "\n",
    "# 그리드, 타이틀 달기\n",
    "plt.grid()\n",
    "ax.set_title('StockPrice')\n",
    "\n",
    "# 보여주기\n",
    "plt.show()"
   ]
  },
  {
   "cell_type": "markdown",
   "metadata": {},
   "source": [
    "## 11-5. 간단한 그래프 그리기 (3) plot 사용법 상세"
   ]
  },
  {
   "cell_type": "code",
   "execution_count": null,
   "metadata": {},
   "outputs": [],
   "source": [
    "import numpy as np\n",
    "x = np.linspace(0, 10, 100) #0에서 10까지 균등한 간격으로  100개의 숫자를 만들라는 뜻입니다.\n",
    "plt.plot(x, np.sin(x),'o')\n",
    "plt.plot(x, np.cos(x),'--', color='black') \n",
    "plt.show()"
   ]
  },
  {
   "cell_type": "code",
   "execution_count": null,
   "metadata": {},
   "outputs": [],
   "source": [
    "x = np.linspace(0, 10, 100) \n",
    "\n",
    "plt.subplot(2,1,1)\n",
    "plt.plot(x, np.sin(x),'orange','o')\n",
    "\n",
    "plt.subplot(2,1,2)\n",
    "plt.plot(x, np.cos(x), 'orange') \n",
    "plt.show()"
   ]
  },
  {
   "cell_type": "code",
   "execution_count": null,
   "metadata": {},
   "outputs": [],
   "source": [
    "x = np.linspace(0, 10, 100) \n",
    "\n",
    "plt.plot(x, x + 0, linestyle='solid') \n",
    "plt.plot(x, x + 1, linestyle='dashed') \n",
    "plt.plot(x, x + 2, linestyle='dashdot') \n",
    "plt.plot(x, x + 3, linestyle='dotted')\n",
    "plt.plot(x, x + 0, '-g') # solid green \n",
    "plt.plot(x, x + 1, '--c') # dashed cyan \n",
    "plt.plot(x, x + 2, '-.k') # dashdot black \n",
    "plt.plot(x, x + 3, ':r'); # dotted red\n",
    "plt.plot(x, x + 4, linestyle='-') # solid \n",
    "plt.plot(x, x + 5, linestyle='--') # dashed \n",
    "plt.plot(x, x + 6, linestyle='-.') # dashdot \n",
    "plt.plot(x, x + 7, linestyle=':'); # dotted"
   ]
  },
  {
   "cell_type": "code",
   "execution_count": null,
   "metadata": {},
   "outputs": [],
   "source": [
    "fig, axes = plt.subplots(2, 1)\n",
    "data = pd.Series(np.random.rand(5), index=list('abcde'))\n",
    "data.plot(kind='bar', ax=axes[0], color='blue', alpha=1)\n",
    "data.plot(kind='barh', ax=axes[1], color='red', alpha=0.3)"
   ]
  },
  {
   "cell_type": "code",
   "execution_count": null,
   "metadata": {},
   "outputs": [],
   "source": [
    "df = pd.DataFrame(np.random.rand(6,4), columns=pd.Index(['A','B','C','D']))\n",
    "df.plot(kind='line')"
   ]
  },
  {
   "cell_type": "markdown",
   "metadata": {},
   "source": [
    "## 11-6. 간단한 그래프 그리기 (4) 정리해 보자"
   ]
  },
  {
   "cell_type": "markdown",
   "metadata": {},
   "source": [
    "## 11-7. 그래프 4대 천왕 (1) 데이터 준비"
   ]
  },
  {
   "cell_type": "code",
   "execution_count": null,
   "metadata": {},
   "outputs": [],
   "source": [
    "import pandas as pd\n",
    "import seaborn as sns\n",
    "\n",
    "tips = sns.load_dataset(\"tips\")"
   ]
  },
  {
   "cell_type": "code",
   "execution_count": null,
   "metadata": {},
   "outputs": [],
   "source": [
    "df = pd.DataFrame(tips)\n",
    "df.head()"
   ]
  },
  {
   "cell_type": "code",
   "execution_count": null,
   "metadata": {},
   "outputs": [],
   "source": [
    "df.shape"
   ]
  },
  {
   "cell_type": "code",
   "execution_count": null,
   "metadata": {},
   "outputs": [],
   "source": [
    "df.describe()"
   ]
  },
  {
   "cell_type": "code",
   "execution_count": null,
   "metadata": {},
   "outputs": [],
   "source": [
    "df.info()"
   ]
  },
  {
   "cell_type": "code",
   "execution_count": null,
   "metadata": {},
   "outputs": [],
   "source": [
    "print(df['sex'].value_counts())\n",
    "print(\"===========================\")\n",
    "\n",
    "\n",
    "print(df['time'].value_counts())\n",
    "print(\"===========================\")\n",
    "\n",
    "\n",
    "print(df['smoker'].value_counts())\n",
    "print(\"===========================\")\n",
    "\n",
    "\n",
    "print(df['day'].value_counts())\n",
    "print(\"===========================\")\n",
    "\n",
    "\n",
    "print(df['size'].value_counts())\n",
    "print(\"===========================\")"
   ]
  },
  {
   "cell_type": "markdown",
   "metadata": {},
   "source": [
    "## 11-8. 그래프 4대 천왕 (2) 범주형 데이터"
   ]
  },
  {
   "cell_type": "code",
   "execution_count": null,
   "metadata": {},
   "outputs": [],
   "source": [
    "#df의 첫 5행을 확인해봅시다. \n",
    "df.head()"
   ]
  },
  {
   "cell_type": "code",
   "execution_count": null,
   "metadata": {},
   "outputs": [],
   "source": [
    "grouped = df['tip'].groupby(df['sex'])"
   ]
  },
  {
   "cell_type": "code",
   "execution_count": null,
   "metadata": {},
   "outputs": [],
   "source": [
    "grouped.mean() # 성별에 따른 팁의 평균"
   ]
  },
  {
   "cell_type": "code",
   "execution_count": null,
   "metadata": {},
   "outputs": [],
   "source": [
    "grouped.size() # 성별에 따른 데이터 량(팁 횟수)"
   ]
  },
  {
   "cell_type": "code",
   "execution_count": null,
   "metadata": {},
   "outputs": [],
   "source": [
    "import numpy as np\n",
    "sex = dict(grouped.mean()) #평균 데이터를 딕셔너리 형태로 바꿔줍니다.\n",
    "sex"
   ]
  },
  {
   "cell_type": "code",
   "execution_count": null,
   "metadata": {},
   "outputs": [],
   "source": [
    "x = list(sex.keys())  \n",
    "x"
   ]
  },
  {
   "cell_type": "code",
   "execution_count": null,
   "metadata": {},
   "outputs": [],
   "source": [
    "y = list(sex.values())\n",
    "y"
   ]
  },
  {
   "cell_type": "code",
   "execution_count": null,
   "metadata": {},
   "outputs": [],
   "source": [
    "import matplotlib.pyplot as plt\n",
    "\n",
    "plt.bar(x = x, height = y)\n",
    "plt.ylabel('tip[$]')\n",
    "plt.title('Tip by Sex')"
   ]
  },
  {
   "cell_type": "code",
   "execution_count": null,
   "metadata": {},
   "outputs": [],
   "source": [
    "sns.barplot(data=df, x='sex', y='tip')"
   ]
  },
  {
   "cell_type": "code",
   "execution_count": null,
   "metadata": {},
   "outputs": [],
   "source": [
    "plt.figure(figsize=(10,6)) # 도화지 사이즈를 정합니다.\n",
    "sns.barplot(data=df, x='sex', y='tip')\n",
    "plt.ylim(0, 4) # y값의 범위를 정합니다.\n",
    "plt.title('Tip by sex') # 그래프 제목을 정합니다."
   ]
  },
  {
   "cell_type": "code",
   "execution_count": null,
   "metadata": {},
   "outputs": [],
   "source": [
    "plt.figure(figsize=(10,6))\n",
    "sns.barplot(data=df, x='day', y='tip')\n",
    "plt.ylim(0, 4)\n",
    "plt.title('Tip by day')"
   ]
  },
  {
   "cell_type": "code",
   "execution_count": null,
   "metadata": {},
   "outputs": [],
   "source": [
    "fig = plt.figure(figsize=(10,7))\n",
    "\n",
    "ax1 = fig.add_subplot(2,2,1)\n",
    "sns.barplot(data=df, x='day', y='tip',palette=\"ch:.25\")\n",
    "\n",
    "ax2 = fig.add_subplot(2,2,2)\n",
    "sns.barplot(data=df, x='sex', y='tip')\n",
    "\n",
    "ax3 = fig.add_subplot(2,2,4)\n",
    "sns.violinplot(data=df, x='sex', y='tip')\n",
    "\n",
    "ax4 = fig.add_subplot(2,2,3)\n",
    "sns.violinplot(data=df, x='day', y='tip',palette=\"ch:.25\")"
   ]
  },
  {
   "cell_type": "code",
   "execution_count": null,
   "metadata": {},
   "outputs": [],
   "source": [
    "sns.catplot(x=\"day\", y=\"tip\", jitter=False, data=tips)"
   ]
  },
  {
   "cell_type": "markdown",
   "metadata": {},
   "source": [
    "## 11-9. 그래프 4대 천왕 (3) 수치형 데이터"
   ]
  },
  {
   "cell_type": "code",
   "execution_count": null,
   "metadata": {},
   "outputs": [],
   "source": [
    "sns.scatterplot(data=df , x='total_bill', y='tip', palette=\"ch:r=-.2,d=.3_r\")"
   ]
  },
  {
   "cell_type": "code",
   "execution_count": null,
   "metadata": {},
   "outputs": [],
   "source": [
    "sns.scatterplot(data=df , x='total_bill', y='tip', hue='day')"
   ]
  },
  {
   "cell_type": "code",
   "execution_count": null,
   "metadata": {},
   "outputs": [],
   "source": [
    "#np.random.randn 함수는 표준 정규분포에서 난수를 생성하는 함수입니다. \n",
    "#cumsum()은 누적합을 구하는 함수입니다.\n",
    "plt.plot(np.random.randn(50).cumsum())"
   ]
  },
  {
   "cell_type": "code",
   "execution_count": null,
   "metadata": {},
   "outputs": [],
   "source": [
    "x = np.linspace(0, 10, 100) \n",
    "plt.plot(x, np.sin(x), 'o')\n",
    "plt.plot(x, np.cos(x)) \n",
    "plt.show()"
   ]
  },
  {
   "cell_type": "code",
   "execution_count": null,
   "metadata": {},
   "outputs": [],
   "source": [
    "sns.lineplot(x=x, y=np.sin(x))\n",
    "sns.lineplot(x=x, y=np.cos(x))"
   ]
  },
  {
   "cell_type": "code",
   "execution_count": null,
   "metadata": {},
   "outputs": [],
   "source": [
    "#그래프 데이터 \n",
    "mu1, mu2, sigma = 100, 130, 15\n",
    "x1 = mu1 + sigma*np.random.randn(10000)\n",
    "x2 = mu2 + sigma*np.random.randn(10000)\n",
    "\n",
    "# 축 그리기\n",
    "fig = plt.figure()\n",
    "ax1 = fig.add_subplot(1,1,1)\n",
    "\n",
    "# 그래프 그리기\n",
    "patches = ax1.hist(x1, bins=50, density=False) #bins는 x값을 총 50개 구간으로 나눈다는 뜻입니다.\n",
    "patches = ax1.hist(x2, bins=50, density=False, alpha=0.5)\n",
    "ax1.xaxis.set_ticks_position('bottom') # x축의 눈금을 아래 표시 \n",
    "ax1.yaxis.set_ticks_position('left') #y축의 눈금을 왼쪽에 표시\n",
    "\n",
    "# 라벨, 타이틀 달기\n",
    "plt.xlabel('Bins')\n",
    "plt.ylabel('Number of Values in Bin')\n",
    "ax1.set_title('Two Frequency Distributions')\n",
    "\n",
    "# 보여주기\n",
    "plt.show()"
   ]
  },
  {
   "cell_type": "code",
   "execution_count": null,
   "metadata": {},
   "outputs": [],
   "source": [
    "sns.histplot(df['total_bill'], label = \"total_bill\")\n",
    "sns.histplot(df['tip'], label = \"tip\").legend()# legend()를 이용하여 label을 표시해 줍니다."
   ]
  },
  {
   "cell_type": "code",
   "execution_count": null,
   "metadata": {},
   "outputs": [],
   "source": [
    "df['tip_pct'] = df['tip'] / df['total_bill']\n",
    "df['tip_pct'].hist(bins=50)"
   ]
  },
  {
   "cell_type": "code",
   "execution_count": null,
   "metadata": {},
   "outputs": [],
   "source": [
    "df['tip_pct'].plot(kind='kde')"
   ]
  },
  {
   "cell_type": "markdown",
   "metadata": {},
   "source": [
    "## 11-10. 시계열 데이터 시각화하기"
   ]
  },
  {
   "cell_type": "code",
   "execution_count": null,
   "metadata": {},
   "outputs": [],
   "source": [
    "csv_path = os.getenv(\"HOME\") + \"/aiffel/data_visualization/data/flights.csv\"\n",
    "data = pd.read_csv(csv_path)\n",
    "flights = pd.DataFrame(data)\n",
    "flights"
   ]
  },
  {
   "cell_type": "code",
   "execution_count": null,
   "metadata": {},
   "outputs": [],
   "source": [
    "sns.barplot(data=flights, x='year', y='passengers')"
   ]
  },
  {
   "cell_type": "code",
   "execution_count": null,
   "metadata": {},
   "outputs": [],
   "source": [
    "sns.pointplot(data=flights, x='year', y='passengers')"
   ]
  },
  {
   "cell_type": "code",
   "execution_count": null,
   "metadata": {},
   "outputs": [],
   "source": [
    "sns.lineplot(data=flights, x='year', y='passengers')"
   ]
  },
  {
   "cell_type": "code",
   "execution_count": null,
   "metadata": {},
   "outputs": [],
   "source": [
    "sns.lineplot(data=flights, x='year', y='passengers', hue='month', palette='ch:.50')\n",
    "plt.legend(bbox_to_anchor=(1.03, 1), loc=2) #legend 그래프 밖에 추가하기"
   ]
  },
  {
   "cell_type": "code",
   "execution_count": null,
   "metadata": {},
   "outputs": [],
   "source": [
    "sns.histplot(flights['passengers'])"
   ]
  },
  {
   "cell_type": "markdown",
   "metadata": {},
   "source": [
    "## 11-11. Heatmap"
   ]
  },
  {
   "cell_type": "code",
   "execution_count": null,
   "metadata": {},
   "outputs": [],
   "source": [
    "pivot = flights.pivot(index='year', columns='month', values='passengers')\n",
    "pivot"
   ]
  },
  {
   "cell_type": "code",
   "execution_count": null,
   "metadata": {},
   "outputs": [],
   "source": [
    "sns.heatmap(pivot)"
   ]
  },
  {
   "cell_type": "code",
   "execution_count": null,
   "metadata": {},
   "outputs": [],
   "source": [
    "sns.heatmap(pivot, linewidths=.2, annot=True, fmt=\"d\")"
   ]
  },
  {
   "cell_type": "code",
   "execution_count": null,
   "metadata": {},
   "outputs": [],
   "source": [
    "sns.heatmap(pivot, cmap=\"YlGnBu\")"
   ]
  }
 ],
 "metadata": {
  "interpreter": {
   "hash": "b3ce9abe337a9e694d01ea52d504102083454ad8bd4b0e3a574e4432f4229329"
  },
  "kernelspec": {
   "display_name": "Python 3.8.12 ('aiffel_3.8')",
   "language": "python",
   "name": "python3"
  },
  "language_info": {
   "name": "python",
   "version": "3.8.12"
  },
  "orig_nbformat": 4
 },
 "nbformat": 4,
 "nbformat_minor": 2
}
