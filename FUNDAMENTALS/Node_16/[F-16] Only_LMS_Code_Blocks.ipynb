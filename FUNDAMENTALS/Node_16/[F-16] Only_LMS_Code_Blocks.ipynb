{
 "cells": [
  {
   "cell_type": "markdown",
   "metadata": {},
   "source": [
    "# 16. 파이썬으로 이미지 파일 다루기\n",
    "\n",
    "**파이썬에서 OpenCV를 이용하여 이미지 파일을 열고 정보를 추출 해 본다. 컴퓨터에서 이미지가 표현되는 방식을 이해하는 데 도움이 될 것이다.**"
   ]
  },
  {
   "cell_type": "markdown",
   "metadata": {},
   "source": [
    "## 16-1. 들어가며"
   ]
  },
  {
   "cell_type": "markdown",
   "metadata": {},
   "source": [
    "```bash\n",
    "$ pip install pillow opencv-python matplotlib    \n",
    "```"
   ]
  },
  {
   "cell_type": "markdown",
   "metadata": {},
   "source": [
    "```bash\n",
    "$ mkdir -p ~/aiffel/python_image_proc/data\n",
    "$ ln -s ~/data/* ~/aiffel/python_image_proc/data\n",
    "$ ls ~/aiffel/python_image_proc/data  # 파일 확인\n",
    "```"
   ]
  },
  {
   "cell_type": "markdown",
   "metadata": {},
   "source": [
    "## 16-2. 디지털 이미지"
   ]
  },
  {
   "cell_type": "markdown",
   "metadata": {},
   "source": [
    "## 16-3. Pillow 사용법"
   ]
  },
  {
   "cell_type": "code",
   "execution_count": null,
   "metadata": {},
   "outputs": [],
   "source": [
    "import numpy as np\n",
    "from PIL import Image\n",
    "\n",
    "data = np.zeros([32, 32, 3], dtype=np.uint8)\n",
    "image = Image.fromarray(data, 'RGB')\n",
    "image"
   ]
  },
  {
   "cell_type": "code",
   "execution_count": null,
   "metadata": {},
   "outputs": [],
   "source": [
    "data[:, :] = [255, 0, 0]\n",
    "image = Image.fromarray(data, 'RGB')\n",
    "image"
   ]
  },
  {
   "cell_type": "code",
   "execution_count": null,
   "metadata": {},
   "outputs": [],
   "source": [
    "#- 문제 1 -# \n",
    "# [[YOUR CODE]]\n",
    "data = np.zeros([128, 128, 3], dtype=np.uint8)\n",
    "data[:, :] = [255, 255, 255]\n",
    "image = Image.fromarray(data, 'RGB')\n",
    "image"
   ]
  },
  {
   "cell_type": "markdown",
   "metadata": {},
   "source": [
    "```python\n",
    "# 정답 코드\n",
    "\n",
    "data = np.zeros([128, 128, 3], dtype=np.uint8)\n",
    "data[:, :] = [255, 255, 255]\n",
    "image = Image.fromarray(data, 'RGB')\n",
    "image\n",
    "```"
   ]
  },
  {
   "cell_type": "code",
   "execution_count": null,
   "metadata": {},
   "outputs": [],
   "source": [
    "#- 문제 2 -#\n",
    "from PIL import Image\n",
    "import os\n",
    "\n",
    "# 연습용 파일 경로\n",
    "image_path = os.getenv('HOME')+'/aiffel/python_image_proc/data/pillow_practice.png'\n",
    "\n",
    "# 이미지 열기\n",
    "# [[YOUR CODE]]\n",
    "image = Image.open(image_path)\n",
    "\n",
    "# width와 height 출력\n",
    "# [[YOUR CODE]]\n",
    "width, height = image.size\n",
    "print(width, height)\n",
    "\n",
    "# JPG 파일 형식으로 저장해보기\n",
    "# [[YOUR CODE]]\n",
    "image_save_path = image_path.split('.')[0] + '.jpg'\n",
    "image = image.convert('RGB')  # jpg 파일은 투명도를 표현할 수 없음!\n",
    "image.save(image_save_path)"
   ]
  },
  {
   "cell_type": "markdown",
   "metadata": {},
   "source": [
    "```python\n",
    "# 정답 코드\n",
    "\n",
    "from PIL import Image\n",
    "import os\n",
    "\n",
    "# 연습용 파일 경로\n",
    "image_path = os.getenv('HOME')+'/aiffel/python_image_proc/data/pillow_practice.png'\n",
    "\n",
    "# 이미지 열기\n",
    "img = Image.open(image_path)\n",
    "img\n",
    "\n",
    "# width와 height 출력\n",
    "print(img.width)\n",
    "print(img.height)\n",
    "\n",
    "# JPG 파일 형식으로 저장해보기\n",
    "new_image_path = os.getenv('HOME')+'/aiffel/python_image_proc/data/jpg_pillow_practice.jpg'\n",
    "img = img.convert('RGB')\n",
    "img.save(new_image_path)\n",
    "```"
   ]
  },
  {
   "cell_type": "code",
   "execution_count": null,
   "metadata": {},
   "outputs": [],
   "source": [
    "#- 문제 3 -# \n",
    "# [[YOUR CODE]]\n",
    "image = Image.open(image_path)\n",
    "image_resize = image.resize((100, 200))\n",
    "\n",
    "image_save_path = image_path.replace('pillow_practice', 'pillow_practice_resize')\n",
    "image_resize.save(image_save_path)"
   ]
  },
  {
   "cell_type": "markdown",
   "metadata": {},
   "source": [
    "```python\n",
    "# 정답 코드\n",
    "\n",
    "resized_image = img.resize((100,200))\n",
    "\n",
    "resized_image_path = os.getenv('HOME')+'/aiffel/python_image_proc/data/pillow_practice_resized.png'\n",
    "resized_image.save(resized_image_path)\n",
    "resized_image\n",
    "```"
   ]
  },
  {
   "cell_type": "code",
   "execution_count": null,
   "metadata": {},
   "outputs": [],
   "source": [
    "#- 문제 4 -#\n",
    "# [[YOUR CODE]]\n",
    "image = Image.open(image_path)\n",
    "image_crop = image.crop((300, 100, 600, 400))\n",
    "\n",
    "image_save_path = image_path.replace('pillow_practice', 'pillow_practice_crop')\n",
    "image_crop.save(image_save_path)"
   ]
  },
  {
   "cell_type": "markdown",
   "metadata": {},
   "source": [
    "```python\n",
    "# 정답 코드\n",
    "\n",
    "box = (300, 100, 600, 400)\n",
    "region = img.crop(box)\n",
    "\n",
    "cropped_image_path = os.getenv('HOME')+'/aiffel/python_image_proc/data/pillow_practice_cropped.png'\n",
    "region.save(cropped_image_path)\n",
    "region\n",
    "```"
   ]
  },
  {
   "cell_type": "markdown",
   "metadata": {},
   "source": [
    "## 16-4. Pillow를 활용한 데이터 전처리"
   ]
  },
  {
   "cell_type": "code",
   "execution_count": null,
   "metadata": {},
   "outputs": [],
   "source": [
    "import os\n",
    "import pickle\n",
    "from PIL import Image\n",
    "\n",
    "dir_path = os.getenv('HOME')+'/aiffel/python_image_proc/data/cifar-100-python'\n",
    "train_file_path = os.path.join(dir_path, 'train')\n",
    "\n",
    "with open(train_file_path, 'rb') as f:\n",
    "    train = pickle.load(f, encoding='bytes')\n",
    "\n",
    "print(type(train))\n",
    "#print(train)   # 혹시 내용이 궁금하다면 주석을 풀고 실행해 보세요."
   ]
  },
  {
   "cell_type": "code",
   "execution_count": null,
   "metadata": {},
   "outputs": [],
   "source": [
    "train.keys()"
   ]
  },
  {
   "cell_type": "code",
   "execution_count": null,
   "metadata": {},
   "outputs": [],
   "source": [
    "type(train[b'filenames'])"
   ]
  },
  {
   "cell_type": "code",
   "execution_count": null,
   "metadata": {},
   "outputs": [],
   "source": [
    "train[b'filenames'][0:5]"
   ]
  },
  {
   "cell_type": "code",
   "execution_count": null,
   "metadata": {},
   "outputs": [],
   "source": [
    "train[b'data'][0:5]"
   ]
  },
  {
   "cell_type": "code",
   "execution_count": null,
   "metadata": {},
   "outputs": [],
   "source": [
    "train[b'data'][0].shape"
   ]
  },
  {
   "cell_type": "code",
   "execution_count": null,
   "metadata": {},
   "outputs": [],
   "source": [
    "image_data = train[b'data'][0].reshape([32, 32, 3], order='F')   # order를 주의하세요!!\n",
    "image = Image.fromarray(image_data)    # Pillow를 사용하여 Numpy 배열을 Image객체로 만들어서\n",
    "image    # 화면에 띄워 봅시다!!"
   ]
  },
  {
   "cell_type": "code",
   "execution_count": null,
   "metadata": {},
   "outputs": [],
   "source": [
    "image_data = image_data.swapaxes(0, 1)\n",
    "image = Image.fromarray(image_data)\n",
    "image"
   ]
  },
  {
   "cell_type": "code",
   "execution_count": null,
   "metadata": {},
   "outputs": [],
   "source": [
    "import os\n",
    "import pickle\n",
    "from PIL import Image\n",
    "import numpy\n",
    "from tqdm import tqdm\n",
    "\n",
    "dir_path = os.getenv('HOME')+'/aiffel/python_image_proc/data/cifar-100-python'\n",
    "train_file_path = os.path.join(dir_path, 'train')\n",
    "\n",
    "# image를 저장할 cifar-100-python의 하위 디렉토리(images)를 생성합니다. \n",
    "images_dir_path = os.getenv('HOME')+'/aiffel/python_image_proc/cifar-images'\n",
    "if not os.path.exists(images_dir_path):\n",
    "    os.mkdir(images_dir_path)  # images 디렉토리 생성\n",
    "\n",
    "# 32X32의 이미지 파일 50000개를 생성합니다. \n",
    "with open(train_file_path, 'rb') as f:\n",
    "    train = pickle.load(f, encoding='bytes')\n",
    "    for i in tqdm(range(len(train[b'filenames']))):\n",
    "        # [[YOUR CODE]]"
   ]
  },
  {
   "cell_type": "markdown",
   "metadata": {},
   "source": [
    "```python\n",
    "# 정답 코드\n",
    "\n",
    "import os\n",
    "import pickle\n",
    "from PIL import Image\n",
    "import numpy\n",
    "from tqdm import tqdm\n",
    "\n",
    "dir_path = os.getenv('HOME')+'/aiffel/python_image_proc/data/cifar-100-python'\n",
    "train_file_path = os.path.join(dir_path, 'train')\n",
    "\n",
    "# image를 저장할 cifar-100-python의 하위 디렉토리(images)를 생성합니다. \n",
    "images_dir_path = os.getenv('HOME')+'/aiffel/python_image_proc/cifar-images'\n",
    "if not os.path.exists(images_dir_path):\n",
    "    os.mkdir(images_dir_path)  # images 디렉토리 생성\n",
    "\n",
    "# 32X32의 이미지 파일 50000개를 생성합니다. \n",
    "with open(train_file_path, 'rb') as f:\n",
    "    train = pickle.load(f, encoding='bytes')\n",
    "    for i in tqdm(range(len(train[b'filenames']))):\n",
    "        filename = train[b'filenames'][i].decode()\n",
    "        data = train[b'data'][i].reshape([32, 32, 3], order='F')\n",
    "        image = Image.fromarray(data.swapaxes(0, 1))\n",
    "        image.save(os.path.join(images_dir_path, filename))\n",
    "```"
   ]
  },
  {
   "cell_type": "markdown",
   "metadata": {},
   "source": [
    "## 16-5. OpenCV (1) 안녕, OpenCV"
   ]
  },
  {
   "cell_type": "code",
   "execution_count": null,
   "metadata": {},
   "outputs": [],
   "source": [
    "import os\n",
    "import cv2 as cv\n",
    "import numpy as np\n",
    "from  matplotlib import pyplot as plt\n",
    "%matplotlib inline\n",
    "\n",
    "img_path = os.getenv('HOME')+'/aiffel/python_image_proc/data/cv_practice.png'\n",
    "img = cv.imread(img_path)\n",
    "\n",
    "# Convert BGR to HSV\n",
    "hsv = cv.cvtColor(img, cv.COLOR_BGR2HSV)\n",
    "\n",
    "# define range of blue color in HSV\n",
    "lower_blue = np.array([100,100,100])\n",
    "upper_blue = np.array([130,255,255])\n",
    "\n",
    "# Threshold the HSV image to get only blue colors\n",
    "mask = cv.inRange(hsv, lower_blue, upper_blue)\n",
    "\n",
    "# Bitwise-AND mask and original image\n",
    "res = cv.bitwise_and(img, img, mask=mask)\n",
    "\n",
    "plt.imshow(cv.cvtColor(img, cv.COLOR_BGR2RGB))\n",
    "plt.show()\n",
    "plt.imshow(cv.cvtColor(mask, cv.COLOR_BGR2RGB))\n",
    "plt.show()\n",
    "plt.imshow(cv.cvtColor(res, cv.COLOR_BGR2RGB))\n",
    "plt.show()"
   ]
  },
  {
   "cell_type": "markdown",
   "metadata": {},
   "source": [
    "## 16-6. OpenCV (2) 톺아보기"
   ]
  },
  {
   "cell_type": "markdown",
   "metadata": {},
   "source": [
    "```python\n",
    "import cv2 as cv\n",
    "import numpy as np\n",
    "```"
   ]
  },
  {
   "cell_type": "markdown",
   "metadata": {},
   "source": [
    "```python\n",
    "img_path = os.getenv('HOME')+'/aiffel/python_image_proc/data/cv_practice.png'\n",
    "img = cv.imread(img_path)\n",
    "```"
   ]
  },
  {
   "cell_type": "markdown",
   "metadata": {},
   "source": [
    "```python\n",
    "# Convert BGR to HSV\n",
    "hsv = cv.cvtColor(img, cv.COLOR_BGR2HSV)\n",
    "```"
   ]
  },
  {
   "cell_type": "markdown",
   "metadata": {},
   "source": [
    "```python\n",
    "# define range of blue color in HSV\n",
    "lower_blue = np.array([100,100,100])\n",
    "upper_blue = np.array([130,255,255])\n",
    "\n",
    "# Threshold the HSV image to get only blue colors\n",
    "mask = cv.inRange(hsv, lower_blue, upper_blue)\n",
    "```"
   ]
  },
  {
   "cell_type": "markdown",
   "metadata": {},
   "source": [
    "```python\n",
    "# Bitwise-AND mask and original image\n",
    "res = cv.bitwise_and(img, img, mask=mask)\n",
    "```"
   ]
  },
  {
   "cell_type": "markdown",
   "metadata": {},
   "source": [
    "```python\n",
    "plt.imshow(cv.cvtColor(img, cv.COLOR_BGR2RGB))\n",
    "plt.show()\n",
    "plt.imshow(cv.cvtColor(mask, cv.COLOR_BGR2RGB))\n",
    "plt.show()\n",
    "plt.imshow(cv.cvtColor(res, cv.COLOR_BGR2RGB))\n",
    "plt.show()\n",
    "```"
   ]
  },
  {
   "cell_type": "markdown",
   "metadata": {},
   "source": [
    "## 16-7. 실습 : 비슷한 이미지 찾아내기"
   ]
  },
  {
   "cell_type": "markdown",
   "metadata": {},
   "source": [
    "```bash\n",
    "$ pip install opencv-python matplotlib\n",
    "```"
   ]
  },
  {
   "cell_type": "code",
   "execution_count": null,
   "metadata": {},
   "outputs": [],
   "source": [
    "import os\n",
    "import pickle\n",
    "import cv2\n",
    "import numpy as np\n",
    "from matplotlib import pyplot as plt\n",
    "from tqdm import tqdm\n",
    "from PIL import Image\n",
    "\n",
    "# 전처리 시 생성했던 디렉토리 구조\n",
    "dir_path = os.getenv('HOME')+'/aiffel/python_image_proc/'\n",
    "train_file_path = os.path.join(dir_path, 'train')\n",
    "images_dir_path = os.path.join(dir_path, 'cifar-images')"
   ]
  },
  {
   "cell_type": "code",
   "execution_count": null,
   "metadata": {},
   "outputs": [],
   "source": [
    "# 파일명을 인자로 받아 해당 이미지 파일과 히스토그램을 출력해 주는 함수\n",
    "def draw_color_histogram_from_image(file_name):\n",
    "    image_path = os.path.join(images_dir_path, file_name)\n",
    "    # 이미지 열기\n",
    "    img = Image.open(image_path)\n",
    "    cv_image = cv2.imread(image_path)\n",
    "\n",
    "    # Image와 Histogram 그려보기\n",
    "    f=plt.figure(figsize=(10,3))\n",
    "    im1 = f.add_subplot(1,2,1)\n",
    "    im1.imshow(img)\n",
    "    im1.set_title(\"Image\")\n",
    "\n",
    "    im2 = f.add_subplot(1,2,2)\n",
    "    color = ('b','g','r')\n",
    "    for i,col in enumerate(color):\n",
    "        # image에서 i번째 채널의 히스토그램을 뽑아서(0:blue, 1:green, 2:red)\n",
    "        histr = cv2.calcHist([cv_image],[i],None,[256],[0,256])   \n",
    "        im2.plot(histr,color = col)   # 그래프를 그릴 때 채널 색상과 맞춰서 그립니다.\n",
    "    im2.set_title(\"Histogram\")"
   ]
  },
  {
   "cell_type": "code",
   "execution_count": null,
   "metadata": {},
   "outputs": [],
   "source": [
    "draw_color_histogram_from_image('adriatic_s_001807.png')"
   ]
  },
  {
   "cell_type": "code",
   "execution_count": null,
   "metadata": {},
   "outputs": [],
   "source": [
    "def get_histogram(image):\n",
    "    histogram = []\n",
    "\n",
    "    # Create histograms per channels, in 4 bins each.\n",
    "    for i in range(3):\n",
    "        # [[YOUR CODE]]\n",
    "        hist = cv2.calcHist([image],[i],None,[4],[0,256])\n",
    "        histogram.append(hist)\n",
    "\n",
    "    histogram = np.concatenate(histogram)\n",
    "    histogram = cv2.normalize(histogram, histogram)\n",
    "\n",
    "    return histogram"
   ]
  },
  {
   "cell_type": "markdown",
   "metadata": {},
   "source": [
    "```python\n",
    "# 정답 코드\n",
    "\n",
    "def get_histogram(image):\n",
    "    histogram = []\n",
    "\n",
    "    # Create histograms per channels, in 4 bins each.\n",
    "    for i in range(3):\n",
    "        channel_histogram = cv2.calcHist(images=[image],\n",
    "                                         channels=[i],\n",
    "                                         mask=None,\n",
    "                                         histSize=[4],  # 히스토그램 구간을 4개로 한다.\n",
    "                                         ranges=[0, 256])\n",
    "        histogram.append(channel_histogram)  \n",
    "\n",
    "    histogram = np.concatenate(histogram)\n",
    "    histogram = cv2.normalize(histogram, histogram)\n",
    "\n",
    "    return histogram\n",
    "```"
   ]
  },
  {
   "cell_type": "code",
   "execution_count": null,
   "metadata": {},
   "outputs": [],
   "source": [
    "# get_histogram() 확인용 코드\n",
    "filename = train[b'filenames'][0].decode()\n",
    "file_path = os.path.join(images_dir_path, filename)\n",
    "image = cv2.imread(file_path)\n",
    "histogram = get_histogram(image)\n",
    "histogram"
   ]
  },
  {
   "cell_type": "code",
   "execution_count": null,
   "metadata": {},
   "outputs": [],
   "source": [
    "import os\n",
    "import pickle\n",
    "import cv2\n",
    "import numpy as np\n",
    "from matplotlib import pyplot as plt\n",
    "from tqdm import tqdm\n",
    "\n",
    "def build_histogram_db():\n",
    "    histogram_db = {}\n",
    "\n",
    "    #디렉토리에 모아 둔 이미지 파일들을 전부 리스트업합니다. \n",
    "    path = images_dir_path\n",
    "    file_list = os.listdir(images_dir_path)\n",
    "\n",
    "    # [[YOUR CODE]]\n",
    "    for file in tqdm(file_list):\n",
    "        img_path = os.path.join(path, file)\n",
    "        img = cv2.imread(img_path)  # CIFAR-100 이미지 불러오기\n",
    "\n",
    "        hist = get_histogram(img)  # CIFAR-100 이미지를 히스토그램으로 만듦\n",
    "\n",
    "        histogram_db[file] = hist  # key: 이미지 이름, value: 히스토그램\n",
    "    \n",
    "\n",
    "    return histogram_db"
   ]
  },
  {
   "cell_type": "markdown",
   "metadata": {},
   "source": [
    "```python\n",
    "# 정답 코드\n",
    "\n",
    "def build_histogram_db():\n",
    "    histogram_db = {}\n",
    "\n",
    "    #디렉토리에 모아 둔 이미지 파일들을 전부 리스트업합니다. \n",
    "    path = images_dir_path\n",
    "    file_list = os.listdir(images_dir_path)\n",
    "\n",
    "    for file_name in tqdm(file_list):\n",
    "        file_path = os.path.join(images_dir_path, file_name)\n",
    "        image = cv2.imread(file_path)\n",
    "\n",
    "        histogram = get_histogram(image)\n",
    "\n",
    "        histogram_db[file_name] = histogram\n",
    "\n",
    "    return histogram_db\n",
    "```"
   ]
  },
  {
   "cell_type": "code",
   "execution_count": null,
   "metadata": {},
   "outputs": [],
   "source": [
    "histogram_db = build_histogram_db()\n",
    "histogram_db['adriatic_s_001807.png']"
   ]
  },
  {
   "cell_type": "code",
   "execution_count": null,
   "metadata": {},
   "outputs": [],
   "source": [
    "def get_target_histogram():\n",
    "    filename = input(\"이미지 파일명을 입력하세요: \")\n",
    "    if filename not in histogram_db:\n",
    "        print('유효하지 않은 이미지 파일명입니다.')\n",
    "        return None\n",
    "    return histogram_db[filename]"
   ]
  },
  {
   "cell_type": "code",
   "execution_count": null,
   "metadata": {},
   "outputs": [],
   "source": [
    "target_histogram = get_target_histogram()\n",
    "target_histogram"
   ]
  },
  {
   "cell_type": "code",
   "execution_count": null,
   "metadata": {},
   "outputs": [],
   "source": [
    "def search(histogram_db, target_histogram, top_k=5):\n",
    "    results = {}\n",
    "\n",
    "    # Calculate similarity distance by comparing histograms.\n",
    "    # [[YOUR CODE]]\n",
    "    for file, hist in tqdm(histogram_db.items()):\n",
    "        ret = cv2.compareHist(target_histogram, hist, cv2.HISTCMP_CORREL)  # 입력 이미지와 검색 대상 이미지의 히스토그램 간 유사도 계산\n",
    "        results[file] = ret  # key: 이미지 이름, value: 유사도\n",
    "\n",
    "    sorted_results = sorted(results.items(), key = lambda item: item[1])  # 유사도를 기준으로 정렬 # type: list\n",
    "    results = dict(sorted_results[:top_k])  # 유사도 순서상 상위 5개 이미지만 남김\n",
    "\n",
    "    return results"
   ]
  },
  {
   "cell_type": "markdown",
   "metadata": {},
   "source": [
    "```python\n",
    "# 정답 코드\n",
    "\n",
    "def search(histogram_db, target_histogram, top_k=5):\n",
    "    results = {}\n",
    "\n",
    "    # Calculate similarity distance by comparing histograms.\n",
    "    for file_name, histogram in tqdm(histogram_db.items()):\n",
    "        distance = cv2.compareHist(H1=target_histogram,\n",
    "                                   H2=histogram,\n",
    "                                   method=cv2.HISTCMP_CHISQR)\n",
    "\n",
    "        results[file_name] = distance\n",
    "\n",
    "    results = dict(sorted(results.items(), key=lambda item: item[1])[:top_k])\n",
    "\n",
    "    return results\n",
    "```"
   ]
  },
  {
   "cell_type": "code",
   "execution_count": null,
   "metadata": {},
   "outputs": [],
   "source": [
    "result = search(histogram_db, target_histogram)\n",
    "result"
   ]
  },
  {
   "cell_type": "code",
   "execution_count": null,
   "metadata": {},
   "outputs": [],
   "source": [
    "def show_result(result):\n",
    "    f=plt.figure(figsize=(10,3))\n",
    "    for idx, filename in enumerate(result.keys()):    \n",
    "        # [[YOUR CODE]]\n",
    "        draw_color_histogram_from_image(filename)"
   ]
  },
  {
   "cell_type": "markdown",
   "metadata": {},
   "source": [
    "```python\n",
    "# 정답 코드\n",
    "\n",
    "def show_result(result):\n",
    "    f=plt.figure(figsize=(10,3))\n",
    "    for idx, filename in enumerate(result.keys()):    \n",
    "        img_path = os.path.join(images_dir_path, filename)\n",
    "        im = f.add_subplot(1,len(result),idx+1)\n",
    "        img = Image.open(img_path)\n",
    "        im.imshow(img)\n",
    "```"
   ]
  },
  {
   "cell_type": "code",
   "execution_count": null,
   "metadata": {},
   "outputs": [],
   "source": [
    "show_result(result)"
   ]
  },
  {
   "cell_type": "code",
   "execution_count": null,
   "metadata": {},
   "outputs": [],
   "source": [
    "target_histogram = get_target_histogram()\n",
    "result = search(histogram_db, target_histogram)\n",
    "show_result(result)"
   ]
  }
 ],
 "metadata": {
  "interpreter": {
   "hash": "b3ce9abe337a9e694d01ea52d504102083454ad8bd4b0e3a574e4432f4229329"
  },
  "kernelspec": {
   "display_name": "Python 3.8.12 ('aiffel_3.8')",
   "language": "python",
   "name": "python3"
  },
  "language_info": {
   "name": "python",
   "version": "3.8.12"
  },
  "orig_nbformat": 4
 },
 "nbformat": 4,
 "nbformat_minor": 2
}
