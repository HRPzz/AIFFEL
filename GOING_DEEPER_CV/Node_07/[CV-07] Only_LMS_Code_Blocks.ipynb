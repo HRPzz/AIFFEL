{
 "cells": [
  {
   "cell_type": "markdown",
   "metadata": {},
   "source": [
    "# 7. Object Detection\n",
    "\n",
    "**Object detection 문제와 이를 해결하기 위한 다양한 detection 모델들을 알아본다.**"
   ]
  },
  {
   "cell_type": "markdown",
   "metadata": {},
   "source": [
    "## 7-1. 들어가며"
   ]
  },
  {
   "cell_type": "markdown",
   "metadata": {},
   "source": [
    "```bash\n",
    "$ mkdir -p ~/aiffel/object_detection/images\n",
    "```"
   ]
  },
  {
   "cell_type": "markdown",
   "metadata": {},
   "source": [
    "## 7-2. 용어 정리"
   ]
  },
  {
   "cell_type": "markdown",
   "metadata": {},
   "source": [
    "```bash\n",
    "$ ln -s ~/data/person.jpg ~/aiffel/object_detection/images/\n",
    "```"
   ]
  },
  {
   "cell_type": "code",
   "execution_count": null,
   "metadata": {},
   "outputs": [],
   "source": [
    "from PIL import Image, ImageDraw\n",
    "import os\n",
    "\n",
    "img_path=os.getenv('HOME')+'/aiffel/object_detection/images/person.jpg'\n",
    "img = Image.open(img_path)\n",
    "\n",
    "# [[YOUR CODE]]\n",
    "draw = ImageDraw.Draw(img)\n",
    "draw.rectangle((130, 30, 670, 450), outline=(0,255,0), width=2)\n",
    "\n",
    "img"
   ]
  },
  {
   "cell_type": "markdown",
   "metadata": {},
   "source": [
    "```python\n",
    "# 정답 코드\n",
    "\n",
    "from PIL import Image, ImageDraw\n",
    "import os\n",
    "\n",
    "img_path=os.getenv('HOME')+'/aiffel/object_detection/images/person.jpg'\n",
    "img = Image.open(img_path)\n",
    "\n",
    "draw = ImageDraw.Draw(img)\n",
    "draw.rectangle((130, 30, 670, 450), outline=(0,255,0), width=2)\n",
    "\n",
    "img\n",
    "```"
   ]
  },
  {
   "cell_type": "markdown",
   "metadata": {},
   "source": [
    "## 7-3. Localization"
   ]
  },
  {
   "cell_type": "code",
   "execution_count": null,
   "metadata": {},
   "outputs": [],
   "source": [
    "import tensorflow as tf\n",
    "from tensorflow import keras\n",
    "\n",
    "output_num = 1+4+3 # object_prob 1, bbox coord 4, class_prob 3\n",
    "\n",
    "input_tensor = keras.layers.Input(shape=(224, 224, 3), name='image')\n",
    "base_model = keras.applications.resnet.ResNet50(\n",
    "    input_tensor=input_tensor,\n",
    "    include_top=False,    \n",
    "    weights='imagenet',\n",
    "    pooling=None,\n",
    ")\n",
    "x = base_model.output\n",
    "# [[YOUR CODE]]\n",
    "preds = keras.layers.Conv2D(output_num, 1, 1)(x)\n",
    "localize_model=keras.Model(inputs=base_model.input, outputs=preds)\n",
    "\n",
    "localize_model.summary()"
   ]
  },
  {
   "cell_type": "markdown",
   "metadata": {},
   "source": [
    "```python\n",
    "# 정답 코드\n",
    "\n",
    "import tensorflow as tf\n",
    "from tensorflow import keras\n",
    "\n",
    "output_num = 1+4+3 # object_prob 1, bbox coord 4, class_prob 3\n",
    "\n",
    "input_tensor = keras.layers.Input(shape=(224, 224, 3), name='image')\n",
    "base_model = keras.applications.resnet.ResNet50(\n",
    "    input_tensor=input_tensor,\n",
    "    include_top=False,\n",
    "    weights='imagenet',\n",
    "    pooling=None,\n",
    ")\n",
    "x = base_model.output\n",
    "preds = keras.layers.Conv2D(output_num, 1, 1)(x)\n",
    "localize_model=keras.Model(inputs=base_model.input, outputs=preds)\n",
    "\n",
    "localize_model.summary()\n",
    "```"
   ]
  },
  {
   "cell_type": "markdown",
   "metadata": {},
   "source": [
    "## 7-4. Detection (1) 슬라이딩 윈도우, 컨볼루션"
   ]
  },
  {
   "cell_type": "markdown",
   "metadata": {},
   "source": [
    "## 7-5. Detection (2) 앵커 박스, NMS"
   ]
  },
  {
   "cell_type": "markdown",
   "metadata": {},
   "source": [
    "## 7-6. Detection Architecture"
   ]
  },
  {
   "cell_type": "markdown",
   "metadata": {},
   "source": [
    "## 7-7. Anchor"
   ]
  }
 ],
 "metadata": {
  "interpreter": {
   "hash": "b3ce9abe337a9e694d01ea52d504102083454ad8bd4b0e3a574e4432f4229329"
  },
  "kernelspec": {
   "display_name": "Python 3.8.12 ('aiffel_3.8')",
   "language": "python",
   "name": "python3"
  },
  "language_info": {
   "name": "python",
   "version": "3.8.12"
  },
  "orig_nbformat": 4
 },
 "nbformat": 4,
 "nbformat_minor": 2
}
