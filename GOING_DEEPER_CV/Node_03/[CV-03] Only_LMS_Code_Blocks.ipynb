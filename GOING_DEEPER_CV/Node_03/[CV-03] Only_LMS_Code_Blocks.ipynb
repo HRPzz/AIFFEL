{
 "cells": [
  {
   "cell_type": "markdown",
   "metadata": {},
   "source": [
    "# 3. 잘 만든 Augmentation, 이미지 100장 안 부럽다\n",
    "\n",
    "**데이터셋이 부족한 상황을 해결하기 위한 Data Augmentation의 다양한 기법에 대해 알아보고, 활용 가능한 라이브러리, 실전상황에서 주의해야 할 팁 등을 정리해 본다.**"
   ]
  },
  {
   "cell_type": "markdown",
   "metadata": {},
   "source": [
    "## 3-1. 들어가며"
   ]
  },
  {
   "cell_type": "markdown",
   "metadata": {},
   "source": [
    "```bash\n",
    "mkdir -p ~/aiffel/data_augmentation/images\n",
    "```"
   ]
  },
  {
   "cell_type": "markdown",
   "metadata": {},
   "source": [
    "## 3-2. 데이터셋의 현실"
   ]
  },
  {
   "cell_type": "markdown",
   "metadata": {},
   "source": [
    "## 3-3. Data Augmentation이란? (1) 개요"
   ]
  },
  {
   "cell_type": "markdown",
   "metadata": {},
   "source": [
    "## 3-4. Data Augmentation이란? (2) 다양한 Image Augmentation 방법"
   ]
  },
  {
   "cell_type": "markdown",
   "metadata": {},
   "source": [
    "## 3-5. 텐서플로우를 사용한 Image Augmentation (1) Flip"
   ]
  },
  {
   "cell_type": "markdown",
   "metadata": {},
   "source": [
    "```bash\n",
    "$ ln -s ~/data/* ~/aiffel/data_augmentation/images/\n",
    "```"
   ]
  },
  {
   "cell_type": "code",
   "execution_count": null,
   "metadata": {},
   "outputs": [],
   "source": [
    "import tensorflow as tf\n",
    "from PIL import Image\n",
    "import matplotlib.pyplot as plt\n",
    "import os\n",
    "\n",
    "sample_img_path = os.getenv('HOME')+'/aiffel/data_augmentation/images/mycat.jpg'\n",
    "sample_img_path"
   ]
  },
  {
   "cell_type": "code",
   "execution_count": null,
   "metadata": {},
   "outputs": [],
   "source": [
    "image = Image.open(sample_img_path).resize((500, 400)) # 이미지에 따라 숫자를 바꾸어 보세요.\n",
    "image_tensor = tf.keras.preprocessing.image.img_to_array(image)\n",
    "\n",
    "image"
   ]
  },
  {
   "cell_type": "code",
   "execution_count": null,
   "metadata": {},
   "outputs": [],
   "source": [
    "flip_lr_tensor = tf.image.flip_left_right(image_tensor)\n",
    "flip_ud_tensor = tf.image.flip_up_down(image_tensor)\n",
    "flip_lr_image = tf.keras.preprocessing.image.array_to_img(flip_lr_tensor)\n",
    "flip_ud_image = tf.keras.preprocessing.image.array_to_img(flip_ud_tensor)\n",
    "\n",
    "plt.figure(figsize=(12, 12))\n",
    "\n",
    "plt.subplot(1,3,1)\n",
    "plt.title('Original image')\n",
    "plt.imshow(image)\n",
    "\n",
    "plt.subplot(1,3,2)\n",
    "plt.title('flip_left_right')\n",
    "plt.imshow(flip_lr_image)\n",
    "\n",
    "plt.subplot(1,3,3)\n",
    "plt.title('flip_up_down')\n",
    "plt.imshow(flip_ud_image)\n",
    "\n",
    "plt.show()"
   ]
  },
  {
   "cell_type": "code",
   "execution_count": null,
   "metadata": {},
   "outputs": [],
   "source": [
    "plt.figure(figsize=(12, 16))\n",
    "\n",
    "row = 4\n",
    "for i in range(row):\n",
    "    flip_lr_tensor = tf.image.random_flip_left_right(image_tensor)\n",
    "    flip_ud_tensor = tf.image.random_flip_up_down(image_tensor)\n",
    "    flip_lr_image = tf.keras.preprocessing.image.array_to_img(flip_lr_tensor)\n",
    "    flip_ud_image = tf.keras.preprocessing.image.array_to_img(flip_ud_tensor)\n",
    "    \n",
    "    plt.subplot(4,3,i*3+1)\n",
    "    plt.title('Original image')\n",
    "    plt.imshow(image)\n",
    "\n",
    "    plt.subplot(4,3,i*3+2)\n",
    "    plt.title('flip_left_right')\n",
    "    plt.imshow(flip_lr_image)\n",
    "\n",
    "    plt.subplot(4,3,i*3+3)\n",
    "    plt.title('flip_up_down')\n",
    "    plt.imshow(flip_ud_image)"
   ]
  },
  {
   "cell_type": "markdown",
   "metadata": {},
   "source": [
    "## 3-6. 텐서플로우를 사용한 Image Augmentation (2) Center Crop"
   ]
  },
  {
   "cell_type": "code",
   "execution_count": null,
   "metadata": {},
   "outputs": [],
   "source": [
    "plt.figure(figsize=(12, 15))\n",
    "\n",
    "central_fractions = [1.0, 0.75, 0.5, 0.25, 0.1]\n",
    "col = len(central_fractions)\n",
    "for i, frac in enumerate(central_fractions):\n",
    "    cropped_tensor = tf.image.central_crop(image_tensor, frac)\n",
    "    cropped_img = tf.keras.preprocessing.image.array_to_img(cropped_tensor)\n",
    "    \n",
    "    plt.subplot(1,col+1,i+1)\n",
    "    plt.title(f'Center crop: {frac}')\n",
    "    plt.imshow(cropped_img)"
   ]
  },
  {
   "cell_type": "code",
   "execution_count": null,
   "metadata": {},
   "outputs": [],
   "source": [
    "def random_central_crop(image_tensor, range=(0, 1)):\n",
    "    central_fraction = tf.random.uniform([1], minval=range[0], maxval=range[1], dtype=tf.float32)\n",
    "    cropped_tensor = tf.image.central_crop(image_tensor, central_fraction)\n",
    "    return cropped_tensor\n",
    "print('=3')"
   ]
  },
  {
   "cell_type": "code",
   "execution_count": null,
   "metadata": {},
   "outputs": [],
   "source": [
    "plt.figure(figsize=(12, 15))\n",
    "\n",
    "col = 5\n",
    "for i, frac in enumerate(central_fractions):\n",
    "    cropped_tensor =random_central_crop(image_tensor)\n",
    "    cropped_img = tf.keras.preprocessing.image.array_to_img(cropped_tensor)\n",
    "    \n",
    "    plt.subplot(1,col+1,i+1)\n",
    "    plt.imshow(cropped_img)"
   ]
  },
  {
   "cell_type": "markdown",
   "metadata": {},
   "source": [
    "## 3-7. 텐서플로우를 사용한 Image Augmentation (3) 직접 해보기"
   ]
  },
  {
   "cell_type": "code",
   "execution_count": null,
   "metadata": {},
   "outputs": [],
   "source": [
    "# apply random_crop on cat image\n",
    "# 여기에 코드를 입력해 주세요."
   ]
  },
  {
   "cell_type": "markdown",
   "metadata": {},
   "source": [
    "```python\n",
    "# 정답 코드\n",
    "\n",
    "# apply random_crop on cat image\n",
    "plt.figure(figsize=(12, 15))\n",
    "\n",
    "random_crop_tensor = tf.image.random_crop(image_tensor,[180,180,3])\n",
    "random_crop_image = tf.keras.preprocessing.image.array_to_img(random_crop_tensor)\n",
    "\n",
    "plt.imshow(random_crop_image)\n",
    "plt.show()\n",
    "```"
   ]
  },
  {
   "cell_type": "code",
   "execution_count": null,
   "metadata": {},
   "outputs": [],
   "source": [
    "# display 5 random cropped images\n",
    "# 여기에 코드를 입력해 주세요."
   ]
  },
  {
   "cell_type": "markdown",
   "metadata": {},
   "source": [
    "```python\n",
    "# 정답 코드\n",
    "\n",
    "# display 5 random cropped images\n",
    "plt.figure(figsize=(12, 15))\n",
    "\n",
    "for i in range(5):\n",
    "  random_crop_tensor = tf.image.random_crop(image_tensor,[200,200,3])\n",
    "  random_crop_image = tf.keras.preprocessing.image.array_to_img(random_crop_tensor)\n",
    "  plt.subplot(1,5,i+1)\n",
    "  plt.imshow(random_crop_image)\n",
    "```"
   ]
  },
  {
   "cell_type": "code",
   "execution_count": null,
   "metadata": {},
   "outputs": [],
   "source": [
    "# apply random_brightness on cat image\n",
    "# 여기에 코드를 입력해 주세요."
   ]
  },
  {
   "cell_type": "markdown",
   "metadata": {},
   "source": [
    "```python\n",
    "# 정답 코드\n",
    "\n",
    "# apply random_brightness on cat image\n",
    "plt.figure(figsize=(12, 15))\n",
    "\n",
    "random_bright_tensor = tf.image.random_brightness(image_tensor, max_delta=128)\n",
    "random_bright_tensor = tf.clip_by_value(random_bright_tensor, 0, 255)\n",
    "random_bright_image = tf.keras.preprocessing.image.array_to_img(random_bright_tensor)\n",
    "\n",
    "plt.imshow(random_bright_image)\n",
    "plt.show()\n",
    "```"
   ]
  },
  {
   "cell_type": "code",
   "execution_count": null,
   "metadata": {},
   "outputs": [],
   "source": [
    "# display 5 random brightness images\n",
    "# 여기에 코드를 입력해 주세요."
   ]
  },
  {
   "cell_type": "markdown",
   "metadata": {},
   "source": [
    "```python\n",
    "# 정답 코드\n",
    "\n",
    "# display 5 random brightness images\n",
    "plt.figure(figsize=(12, 15))\n",
    "\n",
    "col = 5\n",
    "for i in range(5):\n",
    "    random_bright_tensor = tf.image.random_brightness(image_tensor, max_delta=128)\n",
    "    random_bright_tensor = tf.clip_by_value(random_bright_tensor, 0, 255)\n",
    "    random_bright_image = tf.keras.preprocessing.image.array_to_img(random_bright_tensor)\n",
    "\n",
    "    plt.subplot(1,col+1,i+1)\n",
    "    plt.imshow(random_bright_image)\n",
    "```"
   ]
  },
  {
   "cell_type": "markdown",
   "metadata": {},
   "source": [
    "## 3-8. albumentations 라이브러리"
   ]
  },
  {
   "cell_type": "code",
   "execution_count": null,
   "metadata": {},
   "outputs": [],
   "source": [
    "import numpy as np\n",
    "image = Image.open(sample_img_path).resize((400, 300)) # 이미지에 따라 숫자를 바꾸어 보세요.\n",
    "image_arr = np.array(image)\n",
    "image_arr.shape"
   ]
  },
  {
   "cell_type": "code",
   "execution_count": null,
   "metadata": {},
   "outputs": [],
   "source": [
    "def visualize(image):\n",
    "    plt.figure(figsize=(20, 10))\n",
    "    plt.imshow(image)\n",
    "\n",
    "print(\"슝\")"
   ]
  },
  {
   "cell_type": "code",
   "execution_count": null,
   "metadata": {},
   "outputs": [],
   "source": [
    "import albumentations as A\n",
    "\n",
    "for i in range(10):\n",
    "    transform = A.Compose([\n",
    "        A.Affine(rotate=(-45, 45),scale=(0.5,0.9),p=0.5) \n",
    "    ])\n",
    "    transformed = transform(image=image_arr)\n",
    "    plt.figure(figsize=(12,12))\n",
    "    plt.imshow((transformed['image']))\n",
    "    plt.show()"
   ]
  },
  {
   "cell_type": "code",
   "execution_count": null,
   "metadata": {},
   "outputs": [],
   "source": [
    "import random\n",
    "for i in range(10):\n",
    "    transform = A.Compose(\n",
    "        [A.RandomCrop(width=256, height=256)]\n",
    "    )\n",
    "    transformed = transform(image=image_arr)\n",
    "    visualize(transformed['image'])"
   ]
  },
  {
   "cell_type": "code",
   "execution_count": null,
   "metadata": {},
   "outputs": [],
   "source": [
    "transform = A.Compose(\n",
    "    [\n",
    "    A.MedianBlur (blur_limit=7, always_apply=False, p=0.5)]\n",
    "    \n",
    ")\n",
    "transformed = transform(image=image_arr)\n",
    "visualize(transformed['image'])"
   ]
  },
  {
   "cell_type": "code",
   "execution_count": null,
   "metadata": {},
   "outputs": [],
   "source": [
    "transform = A.Compose(\n",
    "    [A.ToGray(p=1),\n",
    "    A.MultiplicativeNoise(multiplier=[0.5, 1.5], elementwise=True, per_channel=True, p=1)]\n",
    "    \n",
    ")\n",
    "transformed = transform(image=image_arr)\n",
    "visualize(transformed['image'])"
   ]
  },
  {
   "cell_type": "code",
   "execution_count": null,
   "metadata": {},
   "outputs": [],
   "source": [
    "# Use various techniques and functions in albumentations library. show 100 images.\n",
    "# 여기에 코드를 입력해 주세요."
   ]
  },
  {
   "cell_type": "markdown",
   "metadata": {},
   "source": [
    "```python\n",
    "# 정답 코드\n",
    "\n",
    "# Use various techniques and functions in albumentations library. show 100 images.\n",
    "\n",
    "def transform_data(img_arr):\n",
    "    transform = A.Compose(\n",
    "    [A.ToGray(p=1),\n",
    "    A.MultiplicativeNoise(multiplier=[0.5, 1.5], \n",
    "                          elementwise=True, per_channel=True, p=1),\n",
    "     A.RandomCrop(width=256, height=256)\n",
    "    ]\n",
    "    )\n",
    "    t_image = transform(image=img_arr)\n",
    "    t_image = t_image['image']\n",
    "    return t_image\n",
    "\n",
    "plt.figure(figsize=(18,20))\n",
    "for i in range(100):\n",
    "    image = transform_data(image_arr)\n",
    "    plt.subplot(10,10,i+1)\n",
    "    plt.imshow(image)\n",
    "```"
   ]
  },
  {
   "cell_type": "markdown",
   "metadata": {},
   "source": [
    "## 3-9. 더 나아간 기법들"
   ]
  }
 ],
 "metadata": {
  "interpreter": {
   "hash": "b3ce9abe337a9e694d01ea52d504102083454ad8bd4b0e3a574e4432f4229329"
  },
  "kernelspec": {
   "display_name": "Python 3.8.12 ('aiffel_3.8')",
   "language": "python",
   "name": "python3"
  },
  "language_info": {
   "codemirror_mode": {
    "name": "ipython",
    "version": 3
   },
   "file_extension": ".py",
   "mimetype": "text/x-python",
   "name": "python",
   "nbconvert_exporter": "python",
   "pygments_lexer": "ipython3",
   "version": "3.8.12"
  },
  "orig_nbformat": 4
 },
 "nbformat": 4,
 "nbformat_minor": 2
}
