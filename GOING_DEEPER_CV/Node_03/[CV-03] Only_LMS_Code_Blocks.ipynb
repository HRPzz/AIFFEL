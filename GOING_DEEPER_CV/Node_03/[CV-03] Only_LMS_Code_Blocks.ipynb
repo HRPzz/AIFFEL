{
 "cells": [
  {
   "cell_type": "markdown",
   "metadata": {},
   "source": [
    "# 3. 잘 만든 Augmentation, 이미지 100장 안 부럽다\n",
    "\n",
    "**데이터셋이 부족한 상황을 해결하기 위한 Data Augmentation의 다양한 기법에 대해 알아보고, 활용 가능한 라이브러리, 실전상황에서 주의해야 할 팁 등을 정리해 본다.**"
   ]
  },
  {
   "cell_type": "markdown",
   "metadata": {},
   "source": [
    "## 3-1. 들어가며"
   ]
  },
  {
   "cell_type": "markdown",
   "metadata": {},
   "source": [
    "```bash\n",
    "mkdir -p ~/aiffel/data_augmentation/images\n",
    "```"
   ]
  },
  {
   "cell_type": "markdown",
   "metadata": {},
   "source": [
    "## 3-2. 데이터셋의 현실"
   ]
  },
  {
   "cell_type": "markdown",
   "metadata": {},
   "source": [
    "## 3-3. Data Augmentation이란? (1) 개요"
   ]
  },
  {
   "cell_type": "markdown",
   "metadata": {},
   "source": [
    "## 3-4. Data Augmentation이란? (2) 다양한 Image Augmentation 방법"
   ]
  },
  {
   "cell_type": "markdown",
   "metadata": {},
   "source": [
    "## 3-5. 텐서플로우를 사용한 Image Augmentation (1) Flip"
   ]
  },
  {
   "cell_type": "markdown",
   "metadata": {},
   "source": [
    "```bash\n",
    "$ ln -s ~/data/* ~/aiffel/data_augmentation/images/\n",
    "```"
   ]
  },
  {
   "cell_type": "code",
   "execution_count": null,
   "metadata": {},
   "outputs": [],
   "source": [
    "import tensorflow as tf\n",
    "from PIL import Image\n",
    "import matplotlib.pyplot as plt\n",
    "import os\n",
    "\n",
    "sample_img_path = os.getenv('HOME')+'/aiffel/data_augmentation/images/mycat.jpg'\n",
    "sample_img_path"
   ]
  },
  {
   "cell_type": "code",
   "execution_count": null,
   "metadata": {},
   "outputs": [],
   "source": [
    "image = Image.open(sample_img_path).resize((500, 400)) # 이미지에 따라 숫자를 바꾸어 보세요.\n",
    "image_tensor = tf.keras.preprocessing.image.img_to_array(image)\n",
    "\n",
    "image"
   ]
  },
  {
   "cell_type": "code",
   "execution_count": null,
   "metadata": {},
   "outputs": [],
   "source": [
    "flip_lr_tensor = tf.image.flip_left_right(image_tensor)\n",
    "flip_ud_tensor = tf.image.flip_up_down(image_tensor)\n",
    "flip_lr_image = tf.keras.preprocessing.image.array_to_img(flip_lr_tensor)\n",
    "flip_ud_image = tf.keras.preprocessing.image.array_to_img(flip_ud_tensor)\n",
    "\n",
    "plt.figure(figsize=(12, 12))\n",
    "\n",
    "plt.subplot(1,3,1)\n",
    "plt.title('Original image')\n",
    "plt.imshow(image)\n",
    "\n",
    "plt.subplot(1,3,2)\n",
    "plt.title('flip_left_right')\n",
    "plt.imshow(flip_lr_image)\n",
    "\n",
    "plt.subplot(1,3,3)\n",
    "plt.title('flip_up_down')\n",
    "plt.imshow(flip_ud_image)\n",
    "\n",
    "plt.show()"
   ]
  },
  {
   "cell_type": "code",
   "execution_count": null,
   "metadata": {},
   "outputs": [],
   "source": [
    "plt.figure(figsize=(12, 16))\n",
    "\n",
    "row = 4\n",
    "for i in range(row):\n",
    "    flip_lr_tensor = tf.image.random_flip_left_right(image_tensor)\n",
    "    flip_ud_tensor = tf.image.random_flip_up_down(image_tensor)\n",
    "    flip_lr_image = tf.keras.preprocessing.image.array_to_img(flip_lr_tensor)\n",
    "    flip_ud_image = tf.keras.preprocessing.image.array_to_img(flip_ud_tensor)\n",
    "    \n",
    "    plt.subplot(4,3,i*3+1)\n",
    "    plt.title('Original image')\n",
    "    plt.imshow(image)\n",
    "\n",
    "    plt.subplot(4,3,i*3+2)\n",
    "    plt.title('flip_left_right')\n",
    "    plt.imshow(flip_lr_image)\n",
    "\n",
    "    plt.subplot(4,3,i*3+3)\n",
    "    plt.title('flip_up_down')\n",
    "    plt.imshow(flip_ud_image)"
   ]
  },
  {
   "cell_type": "markdown",
   "metadata": {},
   "source": [
    "## 3-6. 텐서플로우를 사용한 Image Augmentation (2) Center Crop"
   ]
  },
  {
   "cell_type": "code",
   "execution_count": null,
   "metadata": {},
   "outputs": [],
   "source": [
    "plt.figure(figsize=(12, 15))\n",
    "\n",
    "central_fractions = [1.0, 0.75, 0.5, 0.25, 0.1]\n",
    "col = len(central_fractions)\n",
    "for i, frac in enumerate(central_fractions):\n",
    "    cropped_tensor = tf.image.central_crop(image_tensor, frac)\n",
    "    cropped_img = tf.keras.preprocessing.image.array_to_img(cropped_tensor)\n",
    "    \n",
    "    plt.subplot(1,col+1,i+1)\n",
    "    plt.title(f'Center crop: {frac}')\n",
    "    plt.imshow(cropped_img)"
   ]
  },
  {
   "cell_type": "code",
   "execution_count": null,
   "metadata": {},
   "outputs": [],
   "source": [
    "def random_central_crop(image_tensor, range=(0, 1)):\n",
    "    central_fraction = tf.random.uniform([1], minval=range[0], maxval=range[1], dtype=tf.float32)\n",
    "    cropped_tensor = tf.image.central_crop(image_tensor, central_fraction)\n",
    "    return cropped_tensor\n",
    "print('=3')"
   ]
  },
  {
   "cell_type": "code",
   "execution_count": null,
   "metadata": {},
   "outputs": [],
   "source": [
    "plt.figure(figsize=(12, 15))\n",
    "\n",
    "col = 5\n",
    "for i, frac in enumerate(central_fractions):\n",
    "    cropped_tensor =random_central_crop(image_tensor)\n",
    "    cropped_img = tf.keras.preprocessing.image.array_to_img(cropped_tensor)\n",
    "    \n",
    "    plt.subplot(1,col+1,i+1)\n",
    "    plt.imshow(cropped_img)"
   ]
  },
  {
   "cell_type": "markdown",
   "metadata": {},
   "source": [
    "## 3-7. 텐서플로우를 사용한 Image Augmentation (3) 직접 해보기"
   ]
  },
  {
   "cell_type": "markdown",
   "metadata": {},
   "source": [
    "이제 직접 augmentation을 활용해 보는 시간을 갖겠습니다. 직접 사용할 함수는 `tf.image.random_crop()`와 `tf.image.random_brightness()`입니다."
   ]
  },
  {
   "cell_type": "markdown",
   "metadata": {},
   "source": [
    "### tf.image.random_crop()\n",
    "- [tf.image.random_crop](https://www.tensorflow.org/api_docs/python/tf/image/random_crop)\n",
    "위의 공식 문서를 확인하고 고양이 사진에 `random_crop()`을 적용해 보세요!"
   ]
  },
  {
   "cell_type": "code",
   "execution_count": null,
   "metadata": {},
   "outputs": [],
   "source": [
    "# apply random_crop on cat image\n",
    "# 여기에 코드를 입력해 주세요.\n",
    "plt.figure(figsize=(12, 15))\n",
    "\n",
    "random_crop_tensor = tf.image.random_crop(image_tensor,[180,180,3])\n",
    "random_crop_image = tf.keras.preprocessing.image.array_to_img(random_crop_tensor)\n",
    "\n",
    "plt.imshow(random_crop_image)\n",
    "plt.show()"
   ]
  },
  {
   "cell_type": "markdown",
   "metadata": {},
   "source": [
    "```python\n",
    "# 정답 코드\n",
    "\n",
    "# apply random_crop on cat image\n",
    "plt.figure(figsize=(12, 15))\n",
    "\n",
    "random_crop_tensor = tf.image.random_crop(image_tensor,[180,180,3])\n",
    "random_crop_image = tf.keras.preprocessing.image.array_to_img(random_crop_tensor)\n",
    "\n",
    "plt.imshow(random_crop_image)\n",
    "plt.show()\n",
    "```"
   ]
  },
  {
   "cell_type": "markdown",
   "metadata": {},
   "source": [
    "적용한 샘플을 5장 만들어서 직접 화면에 띄워 봅시다."
   ]
  },
  {
   "cell_type": "code",
   "execution_count": null,
   "metadata": {},
   "outputs": [],
   "source": [
    "# display 5 random cropped images\n",
    "# 여기에 코드를 입력해 주세요.\n",
    "plt.figure(figsize=(12, 15))\n",
    "\n",
    "for i in range(5):\n",
    "  random_crop_tensor = tf.image.random_crop(image_tensor,[200,200,3])\n",
    "  random_crop_image = tf.keras.preprocessing.image.array_to_img(random_crop_tensor)\n",
    "  plt.subplot(1,5,i+1)\n",
    "  plt.imshow(random_crop_image)"
   ]
  },
  {
   "cell_type": "markdown",
   "metadata": {},
   "source": [
    "```python\n",
    "# 정답 코드\n",
    "\n",
    "# display 5 random cropped images\n",
    "plt.figure(figsize=(12, 15))\n",
    "\n",
    "for i in range(5):\n",
    "  random_crop_tensor = tf.image.random_crop(image_tensor,[200,200,3])\n",
    "  random_crop_image = tf.keras.preprocessing.image.array_to_img(random_crop_tensor)\n",
    "  plt.subplot(1,5,i+1)\n",
    "  plt.imshow(random_crop_image)\n",
    "```"
   ]
  },
  {
   "cell_type": "markdown",
   "metadata": {},
   "source": [
    "### tf.image.random_brightness()\n",
    "두 번째로 적용할 함수는 `tf.image.random_brightness()`입니다. 공식 문서를 확인하면서 이미지에 적용해 봅시다.\n",
    "\n",
    "- [tf.image.random_brightness](https://www.tensorflow.org/api_docs/python/tf/image/random_brightness)"
   ]
  },
  {
   "cell_type": "code",
   "execution_count": null,
   "metadata": {},
   "outputs": [],
   "source": [
    "# apply random_brightness on cat image\n",
    "# 여기에 코드를 입력해 주세요.\n",
    "plt.figure(figsize=(12, 15))\n",
    "\n",
    "random_bright_tensor = tf.image.random_brightness(image_tensor, max_delta=128)\n",
    "random_bright_tensor = tf.clip_by_value(random_bright_tensor, 0, 255)\n",
    "random_bright_image = tf.keras.preprocessing.image.array_to_img(random_bright_tensor)\n",
    "\n",
    "plt.imshow(random_bright_image)\n",
    "plt.show()"
   ]
  },
  {
   "cell_type": "markdown",
   "metadata": {},
   "source": [
    "```python\n",
    "# 정답 코드\n",
    "\n",
    "# apply random_brightness on cat image\n",
    "plt.figure(figsize=(12, 15))\n",
    "\n",
    "random_bright_tensor = tf.image.random_brightness(image_tensor, max_delta=128)\n",
    "random_bright_tensor = tf.clip_by_value(random_bright_tensor, 0, 255)\n",
    "random_bright_image = tf.keras.preprocessing.image.array_to_img(random_bright_tensor)\n",
    "\n",
    "plt.imshow(random_bright_image)\n",
    "plt.show()\n",
    "```"
   ]
  },
  {
   "cell_type": "markdown",
   "metadata": {},
   "source": [
    ">`tf.image.random_brightness()`만 적용할 경우 이미지 텐서 값의 범위가 0~255를 초과하게 될 수도 있습니다. 이 경우 `plt.imshow()`에서 rescale되어 밝기 변경 효과가 상쇄되어 보일 수도 있습니다. 따라서 `tf.image.random_brightness()` 다음에는 `tf.clip_by_value()`를 적용해 주는 것을 잊지 마세요.\n",
    "\n",
    "적용한 샘플을 5장 만들어서 직접 화면에 띄워 봅시다."
   ]
  },
  {
   "cell_type": "code",
   "execution_count": null,
   "metadata": {},
   "outputs": [],
   "source": [
    "# display 5 random brightness images\n",
    "# 여기에 코드를 입력해 주세요.\n",
    "plt.figure(figsize=(12, 15))\n",
    "\n",
    "col = 5\n",
    "for i in range(5):\n",
    "    random_bright_tensor = tf.image.random_brightness(image_tensor, max_delta=128)\n",
    "    random_bright_tensor = tf.clip_by_value(random_bright_tensor, 0, 255)\n",
    "    random_bright_image = tf.keras.preprocessing.image.array_to_img(random_bright_tensor)\n",
    "\n",
    "    plt.subplot(1,col+1,i+1)\n",
    "    plt.imshow(random_bright_image)"
   ]
  },
  {
   "cell_type": "markdown",
   "metadata": {},
   "source": [
    "```python\n",
    "# 정답 코드\n",
    "\n",
    "# display 5 random brightness images\n",
    "plt.figure(figsize=(12, 15))\n",
    "\n",
    "col = 5\n",
    "for i in range(5):\n",
    "    random_bright_tensor = tf.image.random_brightness(image_tensor, max_delta=128)\n",
    "    random_bright_tensor = tf.clip_by_value(random_bright_tensor, 0, 255)\n",
    "    random_bright_image = tf.keras.preprocessing.image.array_to_img(random_bright_tensor)\n",
    "\n",
    "    plt.subplot(1,col+1,i+1)\n",
    "    plt.imshow(random_bright_image)\n",
    "```"
   ]
  },
  {
   "cell_type": "markdown",
   "metadata": {},
   "source": [
    "## 3-8. albumentations 라이브러리"
   ]
  },
  {
   "cell_type": "markdown",
   "metadata": {},
   "source": [
    "### albumentations 라이브러리 사용하기\n",
    "![](https://d3s0tskafalll9.cloudfront.net/media/images/image_B54QfWo.max-800x600.png)<center>https://github.com/albumentations-team/albumentations</center>\n",
    "\n",
    "- [albumentations 라이브러리](https://github.com/albumentations-team/albumentations)\n",
    "\n",
    "지금까지 텐서플로우에서 기본적으로 제공되는 augmentation 함수들을 확인해 봤습니다. 이러한 augmentation만을 모아서 제공하는 전문 라이브러리들이 있는데요. 이번에는 그중 Albummentations 라이브러리를 활용하겠습니다. Albummentations은 이미지 증강을 위한 Python 라이브러리입니다. 이미지 증강은 딥 러닝 및 컴퓨터 비전 작업에서 훈련된 모델의 품질을 높이는 데 사용됩니다.\n",
    "\n",
    "또한 아래 사진 처럼 다양한 작업에서 사용되고 있습니다.\n",
    "\n",
    "![](https://d3s0tskafalll9.cloudfront.net/media/images/image_m0uMi1l.max-800x600.png)\n",
    "\n",
    "`augmentation`에서는 배열을 이미지의 기본 형태로 사용합니다. 따라서 PIL Image 데이터형을 넘파이(numpy) 배열로 변환하여 사용하도록 합니다."
   ]
  },
  {
   "cell_type": "code",
   "execution_count": null,
   "metadata": {},
   "outputs": [],
   "source": [
    "import numpy as np\n",
    "image = Image.open(sample_img_path).resize((400, 300)) # 이미지에 따라 숫자를 바꾸어 보세요.\n",
    "image_arr = np.array(image)\n",
    "image_arr.shape"
   ]
  },
  {
   "cell_type": "markdown",
   "metadata": {},
   "source": [
    "처음에는 편하게 이미지를 볼수있는 visialize 함수를 만들어 놓겠습니다."
   ]
  },
  {
   "cell_type": "code",
   "execution_count": null,
   "metadata": {},
   "outputs": [],
   "source": [
    "def visualize(image):\n",
    "    plt.figure(figsize=(20, 10))\n",
    "    plt.imshow(image)\n",
    "\n",
    "print(\"슝\")"
   ]
  },
  {
   "cell_type": "markdown",
   "metadata": {},
   "source": [
    "### augmentation 기법 사용해 보기\n",
    "\n",
    "#### transforms.Affine()\n",
    "이제 위에서 확인해보지 않았던 augmentation 중 하나를 해봅시다. `transforms.Affine()`의 `Affine()`은 아핀 변환(Affine transform)을 이미지에 적용합니다. 2D 변환의 일종인 아핀 변환은 이미지의 스케일(scale)을 조절하거나 평행이동, 또는 회전 등의 변환을 줄 수 있습니다. 자세한 내용은 아래 참고 자료를 확인해 보세요.\n",
    "\n",
    "- [transforms.Affine()](https://albumentations.ai/docs/api_reference/augmentations/geometric/transforms/#albumentations.augmentations.geometric.transforms.Affine)\n",
    "\n",
    "아래 코드를 실행하시면 -45도와 45도 사이에 랜덤하게 각도를 변환하는 augmention을 10장 볼 수 있습니다."
   ]
  },
  {
   "cell_type": "code",
   "execution_count": null,
   "metadata": {},
   "outputs": [],
   "source": [
    "import albumentations as A\n",
    "\n",
    "for i in range(10):\n",
    "    transform = A.Compose([\n",
    "        A.Affine(rotate=(-45, 45),scale=(0.5,0.9),p=0.5) \n",
    "    ])\n",
    "    transformed = transform(image=image_arr)\n",
    "    plt.figure(figsize=(12,12))\n",
    "    plt.imshow((transformed['image']))\n",
    "    plt.show()"
   ]
  },
  {
   "cell_type": "markdown",
   "metadata": {},
   "source": [
    "#### ransforms.RandomCrop()\n",
    "이번에는 RandomCrop()을 사용해서 256x256 정도의 부분을 랜덤하게 짤 10개 정도 생성해 보겠습니다. 자세한 내용은 아래 참고 자료를 확인해 보세요.\n",
    "\n",
    "- [ransforms.RandomCrop()](https://albumentations.ai/docs/api_reference/augmentations/crops/transforms/#albumentations.augmentations.crops.transforms.RandomCrop)"
   ]
  },
  {
   "cell_type": "code",
   "execution_count": null,
   "metadata": {},
   "outputs": [],
   "source": [
    "import random\n",
    "for i in range(10):\n",
    "    transform = A.Compose(\n",
    "        [A.RandomCrop(width=256, height=256)]\n",
    "    )\n",
    "    transformed = transform(image=image_arr)\n",
    "    visualize(transformed['image'])"
   ]
  },
  {
   "cell_type": "markdown",
   "metadata": {},
   "source": [
    "#### MedianBlur()\n",
    "MedianBlur()를 활용하여 블러처리를 쉽게 할수 있습니다."
   ]
  },
  {
   "cell_type": "code",
   "execution_count": null,
   "metadata": {},
   "outputs": [],
   "source": [
    "transform = A.Compose(\n",
    "    [\n",
    "    A.MedianBlur (blur_limit=7, always_apply=False, p=0.5)]\n",
    "    \n",
    ")\n",
    "transformed = transform(image=image_arr)\n",
    "visualize(transformed['image'])"
   ]
  },
  {
   "cell_type": "markdown",
   "metadata": {},
   "source": [
    "#### ToGray(),MultiplicativeNoise()\n",
    "이렇게 하나씩 기법을 적용하다 보면 \"augmentation 기법들을 한 번에 조합하여 사용할 수는 없을까?\" 라는 생각이 듭니다. 아래 코드 처럼 여러 가지의 augmentation 기법을 순차적으로 적용할 수 있습니다. 아래 코드에서는 위에서 사용한 ToGray()와 MultiplicativeNoise() 이 적용된 결과를 볼 수 있습니다."
   ]
  },
  {
   "cell_type": "code",
   "execution_count": null,
   "metadata": {},
   "outputs": [],
   "source": [
    "transform = A.Compose(\n",
    "    [A.ToGray(p=1),\n",
    "    A.MultiplicativeNoise(multiplier=[0.5, 1.5], elementwise=True, per_channel=True, p=1)]\n",
    "    \n",
    ")\n",
    "transformed = transform(image=image_arr)\n",
    "visualize(transformed['image'])"
   ]
  },
  {
   "cell_type": "markdown",
   "metadata": {},
   "source": [
    "지금 까지 사용해본 내용을 토대로 그래이 색상의 노이즈가 있는 RandomCrop()을 사용하여 고양이 이미지 100장을 시각화해 보세요!"
   ]
  },
  {
   "cell_type": "code",
   "execution_count": null,
   "metadata": {},
   "outputs": [],
   "source": [
    "# Use various techniques and functions in albumentations library. show 100 images.\n",
    "# 여기에 코드를 입력해 주세요."
   ]
  },
  {
   "cell_type": "markdown",
   "metadata": {},
   "source": [
    "```python\n",
    "# 정답 코드\n",
    "\n",
    "# Use various techniques and functions in albumentations library. show 100 images.\n",
    "\n",
    "def transform_data(img_arr):\n",
    "    transform = A.Compose(\n",
    "    [A.ToGray(p=1),\n",
    "    A.MultiplicativeNoise(multiplier=[0.5, 1.5], \n",
    "                          elementwise=True, per_channel=True, p=1),\n",
    "     A.RandomCrop(width=256, height=256)\n",
    "    ]\n",
    "    )\n",
    "    t_image = transform(image=img_arr)\n",
    "    t_image = t_image['image']\n",
    "    return t_image\n",
    "\n",
    "plt.figure(figsize=(18,20))\n",
    "for i in range(100):\n",
    "    image = transform_data(image_arr)\n",
    "    plt.subplot(10,10,i+1)\n",
    "    plt.imshow(image)\n",
    "```"
   ]
  },
  {
   "cell_type": "markdown",
   "metadata": {},
   "source": [
    "## 3-9. 더 나아간 기법들"
   ]
  }
 ],
 "metadata": {
  "interpreter": {
   "hash": "b3ce9abe337a9e694d01ea52d504102083454ad8bd4b0e3a574e4432f4229329"
  },
  "kernelspec": {
   "display_name": "Python 3.8.12 ('aiffel_3.8')",
   "language": "python",
   "name": "python3"
  },
  "language_info": {
   "codemirror_mode": {
    "name": "ipython",
    "version": 3
   },
   "file_extension": ".py",
   "mimetype": "text/x-python",
   "name": "python",
   "nbconvert_exporter": "python",
   "pygments_lexer": "ipython3",
   "version": "3.8.12"
  },
  "orig_nbformat": 4
 },
 "nbformat": 4,
 "nbformat_minor": 2
}
