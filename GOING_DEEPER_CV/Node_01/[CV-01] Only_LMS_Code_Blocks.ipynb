{
 "cells": [
  {
   "cell_type": "markdown",
   "metadata": {},
   "source": [
    "# 1. 백본 네트워크 구조 상세분석\n",
    "\n",
    "**컴퓨터 비전 분야에 실전적으로 사용되는 주요 백본 네트워크(VGG, ResNet, SENet, EfficientNet) 구조에 대해 논문에 정리된 이론을 토대로 심화 원리를 학습한다.**"
   ]
  },
  {
   "cell_type": "markdown",
   "metadata": {},
   "source": [
    "## 1-1. 들어가며"
   ]
  },
  {
   "cell_type": "markdown",
   "metadata": {},
   "source": [
    "## 1-2. 딥러닝 논문의 구조"
   ]
  },
  {
   "cell_type": "markdown",
   "metadata": {},
   "source": [
    "## 1-3. ResNet의 핵심개념과 그 효과"
   ]
  },
  {
   "cell_type": "markdown",
   "metadata": {},
   "source": [
    "## 1-4. ResNet 이후 시도 (1) Connection을 촘촘히"
   ]
  },
  {
   "cell_type": "code",
   "execution_count": null,
   "metadata": {},
   "outputs": [],
   "source": [
    "# Dense Block내의 각 레이어 output의 channel을 계산하는 함수\n",
    "def get_channel_list():\n",
    "    channel_list = []\n",
    "    # [[YOUR CODE]]\n",
    "    input_channel = 32\n",
    "    growth_rate = 32\n",
    "    for i in range(12):\n",
    "        channel_list.append(input_channel + growth_rate*i)\n",
    "    return channel_list\n",
    "\n",
    "get_channel_list()\n",
    "\n",
    "# 결과가 [32, 64, 96, 128, 160, 192, 224, 256, 288, 320, 352, 384] 이 나오면 정상적으로 구현된 것입니다."
   ]
  },
  {
   "cell_type": "markdown",
   "metadata": {},
   "source": [
    "```python\n",
    "# 정답 코드\n",
    "def get_channel_list():\n",
    "    channel_list = []\n",
    "    input_channel = 32\n",
    "    growth_rate = 32\n",
    "    for i in range(12):\n",
    "        channel_list.append(input_channel + growth_rate*i)\n",
    "    return channel_list\n",
    "\n",
    "get_channel_list()\n",
    "```"
   ]
  },
  {
   "cell_type": "markdown",
   "metadata": {},
   "source": [
    "## 1-5. ResNet 이후 시도 (2) 어떤 특성이 중요할까?"
   ]
  },
  {
   "cell_type": "markdown",
   "metadata": {},
   "source": [
    "## 1-6. 모델 최적화하기 (1) Neural Architecture Search"
   ]
  },
  {
   "cell_type": "markdown",
   "metadata": {},
   "source": [
    "## 1-7. 모델 최적화하기 (2) EfficientNet"
   ]
  },
  {
   "cell_type": "markdown",
   "metadata": {},
   "source": [
    "## 1-8. 직접 찾아보기"
   ]
  }
 ],
 "metadata": {
  "interpreter": {
   "hash": "b3ce9abe337a9e694d01ea52d504102083454ad8bd4b0e3a574e4432f4229329"
  },
  "kernelspec": {
   "display_name": "Python 3.8.12 ('aiffel_3.8')",
   "language": "python",
   "name": "python3"
  },
  "language_info": {
   "name": "python",
   "version": "3.8.12"
  },
  "orig_nbformat": 4
 },
 "nbformat": 4,
 "nbformat_minor": 2
}
